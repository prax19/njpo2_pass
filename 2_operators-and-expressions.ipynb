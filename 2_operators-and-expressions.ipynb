{
 "cells": [
  {
   "cell_type": "markdown",
   "metadata": {
    "dotnet_interactive": {
     "language": "csharp"
    },
    "polyglot_notebook": {
     "kernelName": "csharp"
    }
   },
   "source": [
    "# Operatory i wyrażenia w *C#*\n",
    "\n",
    "Głównym przedmiotem laboratorium jest opis operatorów w języku C#, sposoby ich użycia oraz budowanie zaawansowanych wyrażeń za pomocą LINQ (ang. Language INtegrated Query). Oba omawiane tematy są bardzo rozległe, ze względu na ograniczone miejsce zostaną przedstawione najważniejsze mechanizmy stojące za ich obsługą.\n",
    "\n",
    "## Operatory\n",
    "\n",
    "Operatorem nazywamy łańcuch znaków identyfikujący konkretną operację. Identyfikatory (zmienne, funkcje itd.) nazywamy operandami lub argumentami. Operator może używać jednego, dwóch lub trzech operandów.\n",
    "\n",
    "> c = a + b\n",
    "\n",
    "W powyższym przykładzie mamy dwa operatory i łącznie trzy operandy. Operator przypisania `=` i dodawania `+`. Każdy operator ma swój priorytet. Suma ma większy priorytet, niż przypisanie, dzięki czemu sekwencja operacji będzie następująca: wynik z dodawania dwóch zmiennych `a` i `b` zostanie przypisany do zmiennej `c`. W języku C# nawiasy podobnie jak w matematyce zmieniają priorytet operatorów. Rozważmy następny przykład:\n",
    "\n",
    "> d = a + b + c\n",
    "\n",
    "W powyższym przykładzie operator sumy i przypisania mają taki sam priorytet oraz oba potrzebują dwóch operandów. Sekwencja operacji w tym przypadku będzie następująca: wynik działania operacji dodawania zmiennej `a` i `b` zostanie zapisany w zmiennej tymczasowej w pamięci komputera. Następnie wykonana zostanie druga operacja sumy między zmienną tymczasową a zmienną `c` (kolejnym operandem). Następnie wynik tego działania zostanie zapisany do zmiennej `d`. Ze względu na liczbę operandów mamy do dyspozycji dwa rodzaje operatorów binarne i unarne (dwu i jedno argumentowe). Wyjątek od tej reguły stanowi operator trzy argumentowy (o konstrukcji-warunek logiczny ? jeżeli prawda to : jeżeli fałsz to). Operatory można podzielić również na:\n",
    "* logiczne,\n",
    "* bitowe,\n",
    "* arytmetyczne,\n",
    "* warunkowe,\n",
    "* inne (np. dostęp do funkcji)\n",
    "\n",
    "W języku C# podobnie jak w innych językach pochodzących od C istnieje pojęcie pre i post inkrementacji. Chodzi dokładnie o konstrukcję postaci:"
   ]
  },
  {
   "cell_type": "code",
   "execution_count": null,
   "metadata": {
    "dotnet_interactive": {
     "language": "csharp"
    },
    "vscode": {
     "languageId": "polyglot-notebook"
    }
   },
   "outputs": [],
   "source": [
    "int a = 1;\n",
    "\n",
    "Console.WriteLine($\"a pre: {++a}\");\n",
    "Console.WriteLine($\"a: {a}\");\n",
    "\n",
    "int b = 1;\n",
    "\n",
    "Console.WriteLine($\"b post: {b++}\");\n",
    "Console.WriteLine($\"b: {b}\");"
   ]
  },
  {
   "cell_type": "markdown",
   "metadata": {
    "dotnet_interactive": {
     "language": "csharp"
    },
    "polyglot_notebook": {
     "kernelName": "csharp"
    }
   },
   "source": [
    "W pierwszym przypadku zmienna `a` najpierw jest inkrementowana o 1, a następnie zwrócona. Przeciwnie w przypadku zmiennej `b`, której wartość najpierw wyświetlona jest na ekranie, a potem zwiększona o 1. Pozostałe operatory (w tym wbudowane):\n",
    "\n",
    "| Kategoria     | Operator |\n",
    "| ------------- |:-------------|\n",
    "| Arytmetyczne | `+` `-` `*` `/` `%` |\n",
    "| Warunkowe | `&&` `\\|\\|` `!` |\n",
    "| Bitowe/logiczne | `&` `\\|` `^` `~` |\n",
    "| Konkatenacja łańcuchów | `+` |\n",
    "| Inkremetacja / dekrementacja | `++` `--` |\n",
    "| Przesunięcie bitowe| `<<` `>>` |\n",
    "| Przypisania | `=` `+=` `-=` `*=` `/=` `%=` `&=` `\\|=` `^=` `\\<\\<=` `\\>\\>=` |\n",
    "| Dostęp do elementów klasy | `.` `?.` |\n",
    "| Indeks dla tablic lub indekser | `[]` |\n",
    "| Rzutowanie typów | `()` |\n",
    "| Op. trójargumentowy | `?` `:` |\n",
    "| Tworzenie instancji | **`new`** |\n",
    "| Informacje o typie | **`typeof`** **`sizeof`** **`nameof`** |\n",
    "| Przepełnienie | **`checked`** **`unchecked`** |\n",
    "| Wskaźniki | `*` `->` `&` `[]` |\n",
    "| Operacje na typach | **`as`** **`is`** **`default`** |\n",
    "\n",
    "\n",
    "\n",
    "Dodatkowo na liście nie zostały uwzględnione wyrażenia `lambda`, które rozpoczynają się ciągiem znaków `=>`. Więcej o wyrażeniach `lambda` będzie powiedziane w drugiej części.\n",
    "\n",
    "Przeznaczeniem niektórych operatorów jest skracanie składni. Przykładowo:"
   ]
  },
  {
   "cell_type": "code",
   "execution_count": null,
   "metadata": {
    "dotnet_interactive": {
     "language": "csharp"
    },
    "vscode": {
     "languageId": "polyglot-notebook"
    }
   },
   "outputs": [],
   "source": [
    "int a = 1;\n",
    "a++; //zapis równoznaczny a = a + 1;\n",
    "a += 1; //zapis równoznaczny z a = a + 1"
   ]
  },
  {
   "cell_type": "markdown",
   "metadata": {
    "dotnet_interactive": {
     "language": "csharp"
    },
    "polyglot_notebook": {
     "kernelName": "csharp"
    }
   },
   "source": [
    "Podobne operacje dotyczą całej kategorii operatorów arytmetycznych, binarnych, przesunięć bitowych, ale również przypisania.\n",
    "\n",
    "## Przeciążenie operatorów\n",
    "\n",
    "Zadaniem przeciążenia operatorów jest zmiana zachowania jednego z istniejących operatorów, realizowane za pomocą utworzenie własnej funkcji obsługi. Na powyższej liście, niektóre operatory stanowią słowa kluczowe, wbudowane w język, których nie da się przedefiniować np. **`typeof`**. W przypadku operatorów skracających zapis (np. a += 1), nie da się ich przedefiniować bezpośrednio, a jedynie przez odpowiadający im operator. Istnieje wiele przesłanek za tym, aby stosować przeciążenie operatorów, m.in.:\n",
    "* czytelność kodu,\n",
    "* lepsze dopasowanie do kontekstu,\n",
    "* krótszy zapis.\n",
    "\n",
    "Poniżej znajduje się prosty przykład, w jaki sposób można przedefiniować operatory:"
   ]
  },
  {
   "cell_type": "code",
   "execution_count": null,
   "metadata": {
    "dotnet_interactive": {
     "language": "csharp"
    },
    "vscode": {
     "languageId": "polyglot-notebook"
    }
   },
   "outputs": [],
   "source": [
    "class Matrix\n",
    "{\n",
    "    public Matrix Add(Matrix mat) => null;\n",
    "    public static Matrix operator+ (Matrix mat1, Matrix mat2) => null;\n",
    "}\n",
    "\n",
    "Matrix mat1 = new Matrix();\n",
    "Matrix mat2 = new Matrix();\n",
    "Matrix sum = mat1.Add(mat2);\n",
    "\n",
    "Matrix sum2 = mat1 + mat2;"
   ]
  },
  {
   "cell_type": "markdown",
   "metadata": {
    "dotnet_interactive": {
     "language": "csharp"
    },
    "polyglot_notebook": {
     "kernelName": "csharp"
    }
   },
   "source": [
    "W powyższym przykładzie została zdefiniowana klasa, która zawiera funkcję symulującą dodawanie dwóch macierzy oraz operator sumy, który wykonuje te same operacje. Należy zwrócić uwagę, że deklaracja operatora jest funkcją statyczną. Oprócz samego argumentu `+` nie różni się niczym od zwykłej statycznej funkcji zdefiniowanej w klasie.\n",
    "\n",
    "W trakcie projektowania klas należy pamiętać o restrykcjach związanych nawet z tymi operatorami, które możemy zdefiniować.\n",
    "\n",
    "| Kategoria     | Operatory | Restrykcje |\n",
    "| :------------ |:-------------|:-------------|\n",
    "| Arytmetyczne | `+` `*` `/` `-` `%` | Brak. |\n",
    "| Unarne | `+` `-` `++` `--` | Brak. |\n",
    "| Bitowe binarne | `&` `\\|` `^` `<<` `>>` | Brak. |\n",
    "| Bitowe unarne | `!` `~` **`true`** **`false`** | Operatory **`false`** muszą być zdefiniowane oba lub żaden. |\n",
    "| Porównania | `==` `!=` `>=` `<=` `>` `<` | Muszą być zdefiniowane odpowiadających parach np. `==` `!=` |\n",
    "| Przypisania (skrótowe) | `+=` `-=` `*=` `/=` `>>=` `<<=` `%=` `&=` `|=` `^=` | Nie mogą zostać zdefiniowane wpost, a jedynie poprzez odpowiadające im pełne operatory binarne np. `+`, `-` itd. |\n",
    "| Indeksu | `[]` | Jedynie poprzez tworzenie indekserów. |\n",
    "| Rzutowanie typów | `()` | Nie da się go zdefiniować w klasie wprost. Należy użyć własnego rzutowania jasnego lub niejawnego (obie metody będą omawiane w dalszej części).\n",
    "\n",
    "Kolejny przykład ilustruje sposób tworzenia definicji operatora dla własnego typu."
   ]
  },
  {
   "cell_type": "code",
   "execution_count": null,
   "metadata": {
    "dotnet_interactive": {
     "language": "csharp"
    },
    "vscode": {
     "languageId": "polyglot-notebook"
    }
   },
   "outputs": [],
   "source": [
    "public class Box \n",
    "{    \n",
    "    public float width { get; set; }\n",
    "    public float height { get; set; }\n",
    "\n",
    "    public Box() {}\n",
    "\n",
    "    public Box(float width, float height)\n",
    "    {        \n",
    "        this.width = width; \n",
    "        this.height = height;\n",
    "    }\n",
    "\n",
    "    public static Box operator+ (Box b, Box c) \n",
    "    { \n",
    "        Box box = new Box();         \n",
    "        box.width = b.width + c.width; \n",
    "        box.height = b.height + c.height; \n",
    "        \n",
    "        return box;\n",
    "    }\n",
    "}\n",
    "\n",
    "Box bigBox = new Box(2,3) + new Box(2,3);"
   ]
  },
  {
   "cell_type": "markdown",
   "metadata": {
    "dotnet_interactive": {
     "language": "csharp"
    },
    "polyglot_notebook": {
     "kernelName": "csharp"
    }
   },
   "source": [
    "W kolejnym przykładzie został zdefiniowany operator porównania dwóch obiektów typu `Box` ze sobą. Zgodnie z restrykcjami z tabeli, należy zdefiniować zarówno operator równości, jak i jego zaprzeczenie."
   ]
  },
  {
   "cell_type": "code",
   "execution_count": null,
   "metadata": {
    "dotnet_interactive": {
     "language": "csharp"
    },
    "vscode": {
     "languageId": "polyglot-notebook"
    }
   },
   "outputs": [],
   "source": [
    "public class Box \n",
    "{    \n",
    "    public float width { get; set; }\n",
    "    public float height { get; set; }\n",
    "\n",
    "    public Box(float width, float height) {        \n",
    "        this.width = width; \n",
    "        this.height = height;\n",
    "    }\n",
    "\n",
    "    public static bool operator == (Box lhs, Box rhs)\n",
    "    {\n",
    "            bool status = false;\n",
    "            if (lhs.height == rhs.height && lhs.width == rhs.width)\n",
    "            {\n",
    "                status = true;\n",
    "            }\n",
    "            return status;\n",
    "    }\n",
    "    public static bool operator !=(Box lhs, Box rhs)\n",
    "    {\n",
    "            bool status = false;\n",
    "            if (lhs.height != rhs.height || lhs.width != rhs.width)\n",
    "            {\n",
    "                status = true;\n",
    "            }\n",
    "            return status;\n",
    "    }\n",
    "}\n",
    "\n",
    "Console.WriteLine($\"Equals: {new Box(2,3) == new Box(2,3)}\");\n",
    "Console.WriteLine($\"Not equals: {new Box(2,3) != new Box(2,3)}\");"
   ]
  },
  {
   "cell_type": "markdown",
   "metadata": {
    "dotnet_interactive": {
     "language": "csharp"
    },
    "polyglot_notebook": {
     "kernelName": "csharp"
    }
   },
   "source": [
    "Bardzo przydatny jest również operator typu **`true`**, **`false`**. Można go zastosować w instrukcji warunkowej **`if`**."
   ]
  },
  {
   "cell_type": "code",
   "execution_count": null,
   "metadata": {
    "dotnet_interactive": {
     "language": "csharp"
    },
    "vscode": {
     "languageId": "polyglot-notebook"
    }
   },
   "outputs": [],
   "source": [
    "public class DBBool \n",
    "{\n",
    "    private int value { get; set; }\n",
    "\n",
    "    public DBBool(int value) \n",
    "    {\n",
    "        this.value = value;\n",
    "    }\n",
    "    public static bool operator true(DBBool x)\n",
    "    {\n",
    "            return x.value > 0;\n",
    "    }\n",
    "    public static bool operator false(DBBool x)\n",
    "    {\n",
    "            return x.value < 0;\n",
    "    }\n",
    "}\n",
    "\n",
    "var dataFromDB = new DBBool(1);\n",
    "\n",
    "if (dataFromDB) {\n",
    "    Console.WriteLine(\"True value\");\n",
    "} else {\n",
    "    Console.WriteLine(\"False value\");\n",
    "}"
   ]
  },
  {
   "cell_type": "markdown",
   "metadata": {
    "dotnet_interactive": {
     "language": "csharp"
    },
    "polyglot_notebook": {
     "kernelName": "csharp"
    }
   },
   "source": [
    "Chcą użyć operatorów logicznych `&&` i `||` należy dodatkowo zdefiniować operatory binarne `&` i `|` jak w poniższym przykładzie."
   ]
  },
  {
   "cell_type": "code",
   "execution_count": null,
   "metadata": {
    "dotnet_interactive": {
     "language": "csharp"
    },
    "vscode": {
     "languageId": "polyglot-notebook"
    }
   },
   "outputs": [],
   "source": [
    "public class DBBool \n",
    "{\n",
    "    private int value { get; set; }\n",
    "\n",
    "    public DBBool(int value) \n",
    "    {\n",
    "        this.value = value;\n",
    "    }\n",
    "    public static DBBool operator & (DBBool x, DBBool y)\n",
    "    {\n",
    "        return new DBBool(x.value < y.value ? x.value : y.value);\n",
    "    }\n",
    "\n",
    "    public static DBBool operator | (DBBool x, DBBool y)\n",
    "    {\n",
    "        return new DBBool(x.value > y.value ? x.value : y.value);\n",
    "    }\n",
    "\n",
    "    public static bool operator == (DBBool x, DBBool y)\n",
    "    {\n",
    "        return x.value == y.value;\n",
    "    }\n",
    "\n",
    "    \n",
    "    public static bool operator != (DBBool x, DBBool y)\n",
    "    {\n",
    "        return x.value != y.value;\n",
    "    }\n",
    "\n",
    "    public static bool operator true(DBBool x)\n",
    "    {\n",
    "            return x.value > 0;\n",
    "    }\n",
    "    public static bool operator false(DBBool x)\n",
    "    {\n",
    "            return x.value < 0;\n",
    "    }\n",
    "\n",
    "}\n",
    "\n",
    "var dataFromDB = new DBBool(1);\n",
    "var dataFromDB2 = new DBBool(1);\n",
    "\n",
    "if (dataFromDB == dataFromDB2) {\n",
    "    Console.WriteLine(\"Is equal\");\n",
    "} else {\n",
    "    Console.WriteLine(\"Is not equal\");\n",
    "}\n",
    "\n",
    "if (dataFromDB && dataFromDB2) {\n",
    "    Console.WriteLine(\"Both ok\");\n",
    "} else {\n",
    "    Console.WriteLine(\"Both not ok\");\n",
    "}\n",
    "\n",
    "dataFromDB = new DBBool(0);\n",
    "dataFromDB2 = new DBBool(1);\n",
    "\n",
    "if (dataFromDB & dataFromDB2) {\n",
    "    Console.WriteLine(\"Binary 0 and 1 = 1\");\n",
    "} else {\n",
    "    Console.WriteLine(\"Binary 0 and 1 = 0\");\n",
    "}\n",
    "\n",
    "if (dataFromDB | dataFromDB2) {\n",
    "    Console.WriteLine(\"Binary 0 or 1 = 1\");\n",
    "} else {\n",
    "    Console.WriteLine(\"Binary 0 or 1 = 0\");\n",
    "}"
   ]
  },
  {
   "cell_type": "markdown",
   "metadata": {
    "dotnet_interactive": {
     "language": "csharp"
    },
    "polyglot_notebook": {
     "kernelName": "csharp"
    }
   },
   "source": [
    "## Rzutowanie jawne i domniemane\n",
    "\n",
    "Z rzutowaniem jawnym (*explicit*) mamy do czynienia w przypadku użycia nawiasów podając wprost typ, na jaki ma być rzutowany obiekt."
   ]
  },
  {
   "cell_type": "code",
   "execution_count": null,
   "metadata": {
    "dotnet_interactive": {
     "language": "csharp"
    },
    "vscode": {
     "languageId": "polyglot-notebook"
    }
   },
   "outputs": [],
   "source": [
    "float a = 2.2f;\n",
    "int b = (int)a;\n",
    "\n",
    "Console.WriteLine(b);"
   ]
  },
  {
   "cell_type": "markdown",
   "metadata": {
    "dotnet_interactive": {
     "language": "csharp"
    },
    "polyglot_notebook": {
     "kernelName": "csharp"
    }
   },
   "source": [
    "Z rzutowaniem niejawnym (*implicit*) mamy do czynienia w momencie automatycznej konwersji typów, która dzieje się w tle."
   ]
  },
  {
   "cell_type": "code",
   "execution_count": null,
   "metadata": {
    "dotnet_interactive": {
     "language": "csharp"
    },
    "vscode": {
     "languageId": "polyglot-notebook"
    }
   },
   "outputs": [],
   "source": [
    "int num = int.MaxValue;\n",
    "long biggerType = num;\n",
    "\n",
    "Console.WriteLine(biggerType);"
   ]
  },
  {
   "cell_type": "markdown",
   "metadata": {
    "dotnet_interactive": {
     "language": "csharp"
    },
    "polyglot_notebook": {
     "kernelName": "csharp"
    }
   },
   "source": [
    "Jak łatwo zauważyć, domyślnie zdefiniowane konwersje niejawne są dopuszczalne tylko wtedy, gdy obiekt nie traci informacji. Dla przykładu zmienna typu `int` (32 bity pamięci) zawsze jest mniejsza, niż `long` (64 bitów pamięci). Dlatego taki operator został zdefiniowany w samej bibliotece standardowej .NET. Odwrotny przypadek powodowałby błąd kompilacji. Taką samą zasadą należy kierować się, pisząc własne rzutowania. Projektując swoją klasę, dobrą praktyką jest zdefiniowanie paru rzutowań na typy standardowe. Praktycznym przykładem może być rzutowanie własnej klasy na słownik."
   ]
  },
  {
   "cell_type": "code",
   "execution_count": null,
   "metadata": {
    "dotnet_interactive": {
     "language": "csharp"
    },
    "vscode": {
     "languageId": "polyglot-notebook"
    }
   },
   "outputs": [],
   "source": [
    "using System.Collections.Generic;\n",
    "\n",
    "public class Box \n",
    "{    \n",
    "    public float width { get; set; }\n",
    "    public float height { get; set; }\n",
    "\n",
    "    public Box(float width, float height) {        \n",
    "        this.width = width; \n",
    "        this.height = height;\n",
    "    }\n",
    "\n",
    "    public static implicit operator Dictionary<string, float>(Box d) {\n",
    "        return new Dictionary<string, float> {            \n",
    "            { \"width\", d.width },\n",
    "            { \"height\", d.height }            \n",
    "        };\n",
    "    }\n",
    "\n",
    "    public static explicit operator Box(Dictionary<string, float> dict) {\n",
    "        return new Box(dict[\"width\"], dict[\"height\"]);\n",
    "    }\n",
    "}\n",
    "\n",
    "var dict = new Dictionary<string, float>() { {\"width\", 2.0f }, {\"height\", 3.0f } };\n",
    "\n",
    "Box box = (Box)dict;\n",
    "Console.WriteLine($\"Box size: {box.width} x {box.height}\");\n",
    "\n",
    "Dictionary<string, float> serialized = box;\n",
    "Console.WriteLine($\"Box serialized size: {serialized[\"width\"]} x {serialized[\"height\"]}\");"
   ]
  },
  {
   "cell_type": "markdown",
   "metadata": {
    "dotnet_interactive": {
     "language": "csharp"
    },
    "polyglot_notebook": {
     "kernelName": "csharp"
    }
   },
   "source": [
    "Dodatkowo należy pamiętać o dobrych praktykach związanych z definiowaniem konwersji jawnej i domniemanej. Pierwsza nie powinna rzucać wyjątków, z kolei w drugim przypadku nie ma to większego znaczenia. Operatory można również zdefiniować na poziomie struktur."
   ]
  },
  {
   "cell_type": "code",
   "execution_count": null,
   "metadata": {
    "dotnet_interactive": {
     "language": "csharp"
    },
    "vscode": {
     "languageId": "polyglot-notebook"
    }
   },
   "outputs": [],
   "source": [
    "public struct DBInt\n",
    "{\n",
    "    public static readonly DBInt Null = new DBInt();\n",
    "    private int value;\n",
    "    private bool defined;    \n",
    "\n",
    "    public bool IsNull { get { return !defined; } }\n",
    "\n",
    "    public DBInt(int value = default(int), bool defined = default(bool)) \n",
    "    { this.value = value; this.defined = defined; }    \n",
    "\n",
    "    public static DBInt operator +(DBInt x, DBInt y) { \n",
    "        return !x.IsNull && !y.IsNull ? new DBInt(x.value + y.value, true) : new DBInt() ; \n",
    "    }\n",
    "\n",
    "    public static implicit operator DBInt(int x) => new DBInt(x, true);\n",
    "    public static explicit operator int?(DBInt x) => x.IsNull ? null : x.value;\n",
    "}"
   ]
  },
  {
   "cell_type": "markdown",
   "metadata": {
    "dotnet_interactive": {
     "language": "csharp"
    },
    "polyglot_notebook": {
     "kernelName": "csharp"
    }
   },
   "source": [
    "## Przedefiniowanie funkcji standardowych\n",
    "\n",
    "Istnieje szereg funkcji, które dziedziczą każdy obiekt. Są to m.in. funkcje `Equals`, `GetHashCode` czy `ToString`. Pierwsza potrzebna jest kompilatorowi to porównywania dwóch dowolnych instancji klas, druga umożliwia przekazywania instancji klasy jako klucza w słowniku. Przykładowa implementacja tych funkcji prezentuje poniższy kod."
   ]
  },
  {
   "cell_type": "code",
   "execution_count": null,
   "metadata": {
    "dotnet_interactive": {
     "language": "csharp"
    },
    "vscode": {
     "languageId": "polyglot-notebook"
    }
   },
   "outputs": [],
   "source": [
    "using System.Collections.Generic;\n",
    "\n",
    "public class Box \n",
    "{    \n",
    "    public float width { get; set; }\n",
    "    public float height { get; set; }\n",
    "\n",
    "    public Box(float width, float height) {        \n",
    "        this.width = width; \n",
    "        this.height = height;\n",
    "    }\n",
    "\n",
    "    public override bool Equals(Object other) {\n",
    "        Console.WriteLine(\"Using custom Equals\");\n",
    "        switch (other)\n",
    "        {\n",
    "            case Box box when other is Box:\n",
    "                return this.height == box.height && this.width == box.width;\n",
    "            default:\n",
    "                return false;\n",
    "        }\n",
    "    }\n",
    "\n",
    "    public override int GetHashCode() => (this.width + this.height).GetHashCode();\n",
    "    \n",
    "    public override string ToString() => $\"Box size: {this.width} x {this.height}\";\n",
    "\n",
    "}\n",
    "\n",
    "Console.WriteLine($\"Box to string: {new Box(1,2)}\");\n",
    "\n",
    "var dict = new Dictionary<Box, string>() { { new Box(2,2), \"Full size\" }, { new Box(1,1), \"Small size\"} };\n",
    "\n",
    "Console.WriteLine($\"Box 1x1 is: {dict[new Box(1,1)]}\");\n",
    "\n",
    "if (dict.ContainsKey(new Box(1,1))) {\n",
    "    Console.WriteLine($\"Box 1x1 is in the dict\");\n",
    "}\n",
    "\n",
    "if (dict.ContainsKey(new Box(3,3))) {\n",
    "    Console.WriteLine($\"Box 3x3 is in the dict\");\n",
    "} else {\n",
    "    Console.WriteLine($\"Box 3x3 is not in the dict\");\n",
    "}"
   ]
  },
  {
   "cell_type": "markdown",
   "metadata": {
    "dotnet_interactive": {
     "language": "csharp"
    },
    "polyglot_notebook": {
     "kernelName": "csharp"
    }
   },
   "source": [
    "## Implementacja interfejsów wbudowanych\n",
    "\n",
    "Istnieje wiele funkcji wbudowanych, które, aby mogły działać poprawnie, należy zaimplementować konkretny interfejs z biblioteki standardowej. Przykładowo, aby kolekcja miała możliwość sortowania należy zaimplementować interfejs `IComparable` lub `IComparable<T>`. W celu umożliwienia iterowania po elementach klasy (jako generator wartości w pętli **`foreach`**) należy użyć interfejsu `IEnumerator` lub `IEnumerable<T>`. Implementacja obu z nich zostanie przedstawiona na praktycznych przykładach.\n",
    "\n",
    "### Interfejs IComparable / I​Comparable<​T>\n",
    "\n",
    "Interfejs ten wymaga zdefiniowania funkcji `CompareTo` przyjmującej jeden argument typu `Object` lub `T` w zależności od wersji ogólnej lub generycznej. Funkcji powinna zwrócić -1, gdy argument zawiera mniejszą wartość, 0 dla wartości równej oraz 1 dla wartości większej. Warto również dodać, że każdy typ prosty zawiera zaimplementowany interfejs `IComparable`."
   ]
  },
  {
   "cell_type": "code",
   "execution_count": null,
   "metadata": {
    "dotnet_interactive": {
     "language": "csharp"
    },
    "vscode": {
     "languageId": "polyglot-notebook"
    }
   },
   "outputs": [],
   "source": [
    "using System.Collections;\n",
    "\n",
    "public class Box: IComparable\n",
    "{    \n",
    "    public float width { get; set; }\n",
    "    public float height { get; set; }\n",
    "\n",
    "    public Box(float width, float height) {        \n",
    "        this.width = width; \n",
    "        this.height = height;\n",
    "    }\n",
    "\n",
    "    public int CompareTo(object obj) {\n",
    "        if (obj == null) return 1;\n",
    "\n",
    "        switch (obj)\n",
    "        {\n",
    "            case Box box when obj is Box:\n",
    "                return (this.height * this.width).CompareTo(box.height * box.width);            \n",
    "            default:\n",
    "                throw new ArgumentException(\"Object is not a Box\");\n",
    "        }\n",
    "    }\n",
    "\n",
    "    public override string ToString() => $\"Box size: {this.width} x {this.height}\";\n",
    "}\n",
    "\n",
    "var boxes = new List<Box>() { new Box(2,3), new Box(1,1), new Box(2,2), new Box(1,2) };\n",
    "\n",
    "boxes.Sort();\n",
    "\n",
    "Console.WriteLine(string.Join(\"\\n\", boxes));"
   ]
  },
  {
   "cell_type": "markdown",
   "metadata": {
    "dotnet_interactive": {
     "language": "csharp"
    },
    "polyglot_notebook": {
     "kernelName": "csharp"
    }
   },
   "source": [
    "### Interfejs IEnumerator / IEnumerable<T>\n",
    "\n",
    "IEnumerable zwraca interface `IEnumerator` dla konkretnego typu. Ten ostatni zawiera funkcje: `MoveNext`, `Reset` oraz właściwość `Current`."
   ]
  },
  {
   "cell_type": "code",
   "execution_count": null,
   "metadata": {
    "dotnet_interactive": {
     "language": "csharp"
    },
    "vscode": {
     "languageId": "polyglot-notebook"
    }
   },
   "outputs": [],
   "source": [
    "using System.Collections;\n",
    "\n",
    "public class Box\n",
    "{    \n",
    "    public float width { get; set; }\n",
    "    public float height { get; set; }\n",
    "\n",
    "    public Box(float width, float height) {        \n",
    "        this.width = width; \n",
    "        this.height = height;\n",
    "    }\n",
    "\n",
    "    public override string ToString() => $\"Box size: {this.width} x {this.height}\";\n",
    "\n",
    "}\n",
    "\n",
    "public class BoxCollection : IEnumerable<Box>\n",
    "{\n",
    "    List<Box> Internals = new List<Box>();\n",
    "\n",
    "    public void Add(Box box) {  \n",
    "        Internals.Add(box);\n",
    "    }\n",
    "\n",
    "    IEnumerator IEnumerable.GetEnumerator() //used with object in foreach\n",
    "    {        \n",
    "        return new BoxCollectionEnumerator(Internals);\n",
    "    }\n",
    "    \n",
    "    public IEnumerator<Box> GetEnumerator()\n",
    "    {\n",
    "        // or that code simplify enumerator\n",
    "        // foreach (Box foo in this.Internals) //used with strong type in foreach\n",
    "        // {\n",
    "        //     yield return foo;          \n",
    "        // } \n",
    "        \n",
    "        return new BoxCollectionEnumerator(Internals);\n",
    "    }\n",
    "}\n",
    "\n",
    "public class BoxCollectionEnumerator: IEnumerator<Box>\n",
    "{    \n",
    "    private List<Box> Boxes { get; set; }\n",
    "    private int Index = 0;\n",
    "\n",
    "    public BoxCollectionEnumerator(List<Box> boxes) {\n",
    "        this.Boxes = boxes;\n",
    "    }\n",
    "\n",
    "    public Box Current { get; private set; }\n",
    "\n",
    "    object IEnumerator.Current { get => Current; }\n",
    "\n",
    "    public bool MoveNext()\n",
    "    {\n",
    "        Console.WriteLine(\"MoveNext call\");\n",
    "\n",
    "        if(Index > Boxes.Count - 1)\n",
    "            return false;\n",
    "\n",
    "        Current = Boxes[Index];\n",
    "        Index += 1;\n",
    "        return true;\n",
    "    }\n",
    "\n",
    "    public void Reset()\n",
    "    {\n",
    "        Console.WriteLine(\"Reset call\");\n",
    "        Index = 0;\n",
    "        Current = null;\n",
    "    }\n",
    "\n",
    "    public void Dispose() {   \n",
    "    }\n",
    "}\n",
    "\n",
    "var boxes = new BoxCollection();\n",
    "boxes.Add(new Box(1,1));\n",
    "boxes.Add(new Box(2,2));\n",
    "boxes.Add(new Box(3,3));\n",
    "\n",
    "foreach(var box in boxes) {\n",
    "    Console.WriteLine(box);\n",
    "}"
   ]
  },
  {
   "cell_type": "markdown",
   "metadata": {
    "dotnet_interactive": {
     "language": "csharp"
    },
    "polyglot_notebook": {
     "kernelName": "csharp"
    }
   },
   "source": [
    "## Wyrażenia `lambda`\n",
    "\n",
    "Wyrażeniem `lambda` nazywamy wskaźnik na funkcje zdefiniowaną w ciele funkcji. Same wyrażenia `lambda` są elementem języka funkcyjnego wprowadzonego do języka C#. Konstrukcja ta umożliwia sterowanie funkcjami z zewnątrz. Przykładowo dla złożonej klasy można przekazać informację, po jakim polu ma być wykonywana operacja *sort*. Sygnatura wyrażeń `lambda` ma postać:\n",
    "\n",
    "> typ zmienna = (parametry) => ciało wyrażenia;\n",
    "\n",
    "Poniżej znajduje się listing z taką deklaracją właśnie deklaracją."
   ]
  },
  {
   "cell_type": "code",
   "execution_count": null,
   "metadata": {
    "dotnet_interactive": {
     "language": "csharp"
    },
    "vscode": {
     "languageId": "polyglot-notebook"
    }
   },
   "outputs": [],
   "source": [
    "class Box \n",
    "{\n",
    "    public float width { get; set; }\n",
    "    public float height { get; set; }\n",
    "\n",
    "    public Box(float width, float height) {        \n",
    "        this.width = width; \n",
    "        this.height = height;\n",
    "    }\n",
    "\n",
    "    public static Box Bigger(Box f, Box s) {\n",
    "        Func<Box, Box, Box> maxFunc = (fir,sec) => f.height * f.width > s.height * s.width ? f : s;\n",
    "\n",
    "        return f != null && s != null ? maxFunc(f, s) : null;\n",
    "    }\n",
    "\n",
    "    public override string ToString() => $\"Box size: {this.width} x {this.height}\";\n",
    "}\n",
    "\n",
    "Console.WriteLine($\"Bigger is: {Box.Bigger(new Box(1,1), new Box(2,2))}\");"
   ]
  },
  {
   "cell_type": "markdown",
   "metadata": {
    "dotnet_interactive": {
     "language": "csharp"
    },
    "polyglot_notebook": {
     "kernelName": "csharp"
    }
   },
   "source": [
    "## LINQ\n",
    "\n",
    "Wprowdzenie wyrażeń `lambda` oraz metod rozszerzających do języka C# umożliwiło konstruowanie LINQ, które zostanie pokrótce opisane na przykładach. W przykładach zostaną użyte dwie metody, metod rozszerzających oraz wyrażeń zapytań `lambda`.\n",
    "\n",
    "### Filtrowanie danych"
   ]
  },
  {
   "cell_type": "code",
   "execution_count": null,
   "metadata": {
    "dotnet_interactive": {
     "language": "csharp"
    },
    "vscode": {
     "languageId": "polyglot-notebook"
    }
   },
   "outputs": [],
   "source": [
    "using System.Collections.Generic;\n",
    "\n",
    "var names = new [] { \"Ala\", \"Julian\", \"Julia\", \"Ala\" };\n",
    "\n",
    "var list = names.Where(x => x == \"Ala\");\n",
    "\n",
    "Console.WriteLine(string.Join(\",\", list));\n",
    "\n",
    "var filtrList = from c in names //source\n",
    "\t\t  where c == \"Ala\" //condition\n",
    "\t\t  select c; //projection\n",
    "\n",
    "Console.WriteLine(string.Join(\",\", filtrList));"
   ]
  },
  {
   "cell_type": "markdown",
   "metadata": {
    "dotnet_interactive": {
     "language": "csharp"
    },
    "polyglot_notebook": {
     "kernelName": "csharp"
    }
   },
   "source": [
    "Dodatkowo kolekcja `names` nie musi być tablicą wartości prostych. Za pomocą zmiennej `c` można dostać się do wszystkich właściwości i funkcji, gdyby zmienna ta była instancją klasy.\n",
    "\n",
    "### Sortowanie"
   ]
  },
  {
   "cell_type": "code",
   "execution_count": null,
   "metadata": {
    "dotnet_interactive": {
     "language": "csharp"
    },
    "vscode": {
     "languageId": "polyglot-notebook"
    }
   },
   "outputs": [],
   "source": [
    "var values = new [] { 1,3,2,5,0,10,6 };\n",
    "\n",
    "var sorted = values.OrderBy(x => x);\n",
    "\n",
    "Console.WriteLine(string.Join(\",\", sorted));\n",
    "\n",
    "sorted = from c in values\n",
    "         orderby c ascending\n",
    "         select c;\n",
    "\n",
    "Console.WriteLine(string.Join(\",\", sorted));"
   ]
  },
  {
   "cell_type": "markdown",
   "metadata": {
    "dotnet_interactive": {
     "language": "csharp"
    },
    "polyglot_notebook": {
     "kernelName": "csharp"
    }
   },
   "source": [
    "### Grupowanie"
   ]
  },
  {
   "cell_type": "code",
   "execution_count": null,
   "metadata": {
    "dotnet_interactive": {
     "language": "csharp"
    },
    "vscode": {
     "languageId": "polyglot-notebook"
    }
   },
   "outputs": [],
   "source": [
    "class Product\n",
    "{\n",
    "    public string Category { get; set; }\n",
    "    public string Name { get; set; }\n",
    "    public float UnitPrice { get; set; }\n",
    "}\n",
    "\n",
    "var products = new List<Product>() {\n",
    "    new Product() { Category = \"Food\", Name = \"Carrot\", UnitPrice = 1.0f },\n",
    "    new Product() { Category = \"Food\", Name = \"Apple\", UnitPrice = 3.0f },\n",
    "    new Product() { Category = \"Food\", Name = \"Pineapple\", UnitPrice = 3.0f }    \n",
    "};\n",
    "\n",
    "\n",
    "var categories = \n",
    "\tfrom p in products \n",
    "\tgroup p by p.Category into g \n",
    "\tselect new //new type\n",
    "\t{ \n",
    "\t    Category = g.Key, \n",
    "\t\tAveragePrice = g.Average(p => p.UnitPrice)\n",
    "\t};\n",
    "\n",
    "foreach(var cat in categories) {\n",
    "    Console.WriteLine($\"{cat.Category}: {cat.AveragePrice}\");\n",
    "}\n"
   ]
  },
  {
   "cell_type": "markdown",
   "metadata": {
    "dotnet_interactive": {
     "language": "csharp"
    },
    "polyglot_notebook": {
     "kernelName": "csharp"
    }
   },
   "source": [
    "W powyższym przykładzie została użyta funkcja rozszerzająca `Average`. Innymi dostępnymi funkcjami są m.in. `min`, `max`, `sum`, `count`. Funkcjami rozszerzającymi, które nie będą omawiane są `take`, `skip`, kolejno do ograniczenia liczby elementów w kolekcji oraz pominięciu $n$-tu pierwszych.\n",
    "\n",
    "## Operacje na kolekcjach\n",
    "\n",
    "Funkcja rozszerzająca `Concat` umożliwia łączenie dwóch zbiorów danych."
   ]
  },
  {
   "cell_type": "code",
   "execution_count": null,
   "metadata": {
    "dotnet_interactive": {
     "language": "csharp"
    },
    "vscode": {
     "languageId": "polyglot-notebook"
    }
   },
   "outputs": [],
   "source": [
    "int[] numbersA = { 0, 2, 4, 5, 6, 8, 9 }; \n",
    "int[] numbersB = { 1, 3, 5, 7, 8 }; \n",
    "  \n",
    "var allNumbers = numbersA.Concat(numbersB); \n",
    "  \n",
    "Console.WriteLine(\"All numbers from both arrays:\");\n",
    " \n",
    "foreach (var n in allNumbers) \n",
    "{ \n",
    "\tConsole.WriteLine(n); \n",
    "} \n"
   ]
  },
  {
   "cell_type": "markdown",
   "metadata": {
    "dotnet_interactive": {
     "language": "csharp"
    },
    "polyglot_notebook": {
     "kernelName": "csharp"
    }
   },
   "source": [
    "Podobnego mechanizm można użyć do złączeń zbiorów po kluczach. "
   ]
  },
  {
   "cell_type": "code",
   "execution_count": 4,
   "metadata": {
    "dotnet_interactive": {
     "language": "csharp"
    },
    "vscode": {
     "languageId": "polyglot-notebook"
    }
   },
   "outputs": [
    {
     "name": "stdout",
     "output_type": "stream",
     "text": [
      "Food:\n",
      "\tCarrot\n",
      "\tApple\n",
      "\tPineapple\n",
      "Cosmetics:\n",
      "\tCreame\n"
     ]
    }
   ],
   "source": [
    "class Category \n",
    "{\n",
    "    public string Key { get; set; }\n",
    "    public string Name { get; set; }\n",
    "}\n",
    "\n",
    "class Product\n",
    "{\n",
    "    public string Name { get; set; }\n",
    "    public float UnitPrice { get; set; }\n",
    "    public string Category { get; set; }\n",
    "}\n",
    "\n",
    "var categories = new List<Category>() { \n",
    "    new Category() { Key = \"F\", Name = \"Food\" },\n",
    "    new Category() { Key = \"C\", Name = \"Cosmetics\" }\n",
    "};\n",
    "\n",
    "var products = new List<Product>() {\n",
    "    new Product() { Category = \"F\", Name = \"Carrot\", UnitPrice = 1.0f },\n",
    "    new Product() { Category = \"F\", Name = \"Apple\", UnitPrice = 3.0f },\n",
    "    new Product() { Category = \"F\", Name = \"Pineapple\", UnitPrice = 3.0f }, \n",
    "    new Product() { Category = \"C\", Name = \"Creame\", UnitPrice = 3.0f }\n",
    "};\n",
    "\n",
    "var q = \n",
    "\tfrom c in categories \n",
    "\tjoin p in products \n",
    "    on c.Key equals p.Category into ps \n",
    "\tselect new { Category = c.Name, Products = ps }; \n",
    "  \n",
    "foreach (var v in q) \n",
    "{ \n",
    "\tConsole.WriteLine(v.Category + \":\"); \n",
    "\tforeach (var p in v.Products) \n",
    "       { \n",
    "\t\tConsole.WriteLine(\"\\t\" + p.Name); \n",
    "\t} \n",
    "} "
   ]
  },
  {
   "attachments": {},
   "cell_type": "markdown",
   "metadata": {
    "dotnet_interactive": {
     "language": "csharp"
    },
    "polyglot_notebook": {
     "kernelName": "csharp"
    }
   },
   "source": [
    "### Zadanie 1\n",
    "\n",
    "Napisz funkcję (najlepiej przedefiniować `ToString`), która dla zadanego wyrażenia w języku programowania C# zwróci łańcuch znaków w postaci ONP. Przykładowo:\n",
    "\n",
    "dla wyrażenia `x = a - b * c`, gdzie `a`, `b`, `c` to klasy typu `OnpExpression`, a `-`, `*` to operatory, funkcja `x.ToString()` zwróci \"a b - c *\" (brak priorytetów dla operacji i nawiasów).\n",
    "\n",
    "Klasa `OnpExpression` powinna przechowywać swoje wartości tak, aby uprościć metodzie `ToString` zwracanie wyniku."
   ]
  },
  {
   "cell_type": "code",
   "execution_count": 40,
   "metadata": {
    "dotnet_interactive": {
     "language": "csharp"
    },
    "polyglot_notebook": {
     "kernelName": "csharp"
    },
    "vscode": {
     "languageId": "polyglot-notebook"
    }
   },
   "outputs": [
    {
     "name": "stdout",
     "output_type": "stream",
     "text": [
      "abc*+\r\n"
     ]
    }
   ],
   "source": [
    "public class OnpExpression{\n",
    "\n",
    "    private string expression { get; set; }\n",
    "\n",
    "    public OnpExpression(string expression){\n",
    "        this.expression = expression;\n",
    "    }\n",
    "\n",
    "    public static OnpExpression operator + (OnpExpression x, OnpExpression y){\n",
    "        return new OnpExpression($\"{x.expression}{y.expression}+\");\n",
    "    }\n",
    "\n",
    "    public static OnpExpression operator - (OnpExpression x, OnpExpression y){\n",
    "        return new OnpExpression($\"{x.expression}{y.expression}-\");\n",
    "    }\n",
    "\n",
    "    public static OnpExpression operator * (OnpExpression x, OnpExpression y){\n",
    "        return new OnpExpression($\"{x.expression}{y.expression}*\");\n",
    "    }\n",
    "\n",
    "    public static OnpExpression operator / (OnpExpression x, OnpExpression y){\n",
    "        return new OnpExpression($\"{x.expression}{y.expression}/\");\n",
    "    }\n",
    "\n",
    "    override public string ToString(){\n",
    "        return expression;\n",
    "    }\n",
    "\n",
    "}\n",
    "\n",
    "OnpExpression a, b, c;\n",
    "a = new OnpExpression(\"a\");\n",
    "b = new OnpExpression(\"b\");\n",
    "c = new OnpExpression(\"c\");\n",
    "\n",
    "Console.WriteLine(a + b * c);"
   ]
  },
  {
   "attachments": {},
   "cell_type": "markdown",
   "metadata": {
    "dotnet_interactive": {
     "language": "csharp"
    },
    "polyglot_notebook": {
     "kernelName": "csharp"
    }
   },
   "source": [
    "\n",
    "### Zadanie 2\n",
    "\n",
    "Napisz operator dla `<` i `>`, który sprawdza, czy suma elementów listy jest większa czy mniejsza od drugiej listy. Przykładowo dla `a = [1,2,3,4]` i `b = [20,30]` `a < b` powinno zwrócić wartość `true`."
   ]
  },
  {
   "cell_type": "code",
   "execution_count": 6,
   "metadata": {
    "dotnet_interactive": {
     "language": "csharp"
    },
    "polyglot_notebook": {
     "kernelName": "csharp"
    },
    "vscode": {
     "languageId": "polyglot-notebook"
    }
   },
   "outputs": [
    {
     "name": "stdout",
     "output_type": "stream",
     "text": [
      "True\r\n"
     ]
    }
   ],
   "source": [
    "public class ComparableIntArray {\n",
    "    \n",
    "    private int[] array { get; set; }\n",
    "\n",
    "    public ComparableIntArray(int[] array) {\n",
    "        this.array = array;\n",
    "    }\n",
    "\n",
    "    public static bool operator < (ComparableIntArray x, ComparableIntArray y) {\n",
    "        return x.array.Sum() < y.array.Sum();\n",
    "    }\n",
    "\n",
    "    public static bool operator > (ComparableIntArray x, ComparableIntArray y) {\n",
    "        return x.array.Sum() > y.array.Sum();\n",
    "    }\n",
    "\n",
    "}\n",
    "\n",
    "var a = new ComparableIntArray(new int[]{1, 2, 3, 4} );\n",
    "var b = new ComparableIntArray(new int[]{20, 30} );\n",
    "\n",
    "Console.WriteLine(a < b);"
   ]
  },
  {
   "cell_type": "markdown",
   "metadata": {
    "dotnet_interactive": {
     "language": "csharp"
    },
    "polyglot_notebook": {
     "kernelName": "csharp"
    }
   },
   "source": [
    "\n",
    "### Zadanie 3\n",
    "\n",
    "Dana jest klasa `Student` przechowująca dane typu: numer indeksu, wiek, płeć, rok studiów, semestr; klasa `Degree` przechowująca dane: przedmiot, ocenę, rok zaliczenia, semestr. Używając *LINQ*. \n",
    "\n",
    "* Połącz dane z klasy `Student` i `Degree`.\n",
    "* Wyświetl studentów, których wiek jest większy, niż średnia dla studentów na roku.\n",
    "* Wyświetl studentów, których średnia ocen jest większa niż pozostałych studentów na roku.\n"
   ]
  },
  {
   "cell_type": "code",
   "execution_count": 39,
   "metadata": {
    "dotnet_interactive": {
     "language": "csharp"
    },
    "polyglot_notebook": {
     "kernelName": "csharp"
    },
    "vscode": {
     "languageId": "polyglot-notebook"
    }
   },
   "outputs": [
    {
     "name": "stdout",
     "output_type": "stream",
     "text": [
      "The oldest students:\n",
      "333334: 20 yo\n",
      "333336: 20 yo\n",
      "333337: 21 yo\n",
      "333323: 24 yo\n",
      "\n",
      "Students with best grades:\n",
      "333333: 4\n",
      "333334: 4\n",
      "333336: 4,666666666666667\n",
      "333323: 5,166666666666667\n",
      "333324: 4,666666666666667\n",
      "333325: 5,166666666666667\n",
      "333326: 5\n"
     ]
    }
   ],
   "source": [
    "public class Student {\n",
    "\n",
    "    public String indexNumber {set; get;}\n",
    "    public int age {set; get;}\n",
    "    public char gender {set; get;}\n",
    "    public int year {set; get;}\n",
    "    public int term {set; get;}\n",
    "\n",
    "    public void printStudentAge(){\n",
    "        Console.WriteLine(\"{0}: {1} yo\", this.indexNumber, this.age);\n",
    "    }\n",
    "\n",
    "}\n",
    "\n",
    "public class Degree {\n",
    "\n",
    "    public String indexNumber {set; get;}\n",
    "    public String subjectName {set; get;}\n",
    "    public double grade {set; get;}\n",
    "    public int year {set; get;}\n",
    "    public int term {set; get;}\n",
    "\n",
    "}\n",
    "\n",
    "public class StudentDegrees: Student {\n",
    "\n",
    "    public IEnumerable<Degree> degree {set; get;}\n",
    "\n",
    "    public StudentDegrees(Student student, IEnumerable<Degree> degree){\n",
    "        this.indexNumber = student.indexNumber;\n",
    "        this.age = student.age;\n",
    "        this.gender = student.gender;\n",
    "        this.year = student.year;\n",
    "        this.term = student.term;\n",
    "        this.degree = degree;\n",
    "    }\n",
    "\n",
    "    public void printStudentGradesAvg(){\n",
    "        Console.WriteLine(\"{0}: {1}\", \n",
    "            this.indexNumber, this.degree.Average(grade => grade.grade));\n",
    "    }\n",
    "    \n",
    "    public static List<StudentDegrees> getLinkedStudentDegrees(List<Student> students, List<Degree> degrees){\n",
    "        var linkedStudents = \n",
    "            from student in students\n",
    "            join degree in degrees on student.indexNumber equals degree.indexNumber into student_degrees\n",
    "            select new StudentDegrees(student, student_degrees);\n",
    "        return linkedStudents.ToList();\n",
    "    }\n",
    "\n",
    "    public static List<StudentDegrees> getTheOldestStudents(List<StudentDegrees> studentDegrees){\n",
    "        var studentAgeGrtAvg = \n",
    "            from student in studentDegrees\n",
    "            group student by student.year into studentsGroupedByYear\n",
    "            from student_ in studentsGroupedByYear\n",
    "            where student_.age >= studentsGroupedByYear.Average(student => student.age)\n",
    "            select student_;\n",
    "        return studentAgeGrtAvg.ToList();\n",
    "    }\n",
    "\n",
    "    public static List<StudentDegrees> getBestGradedStudents(List<StudentDegrees> studentDegrees){\n",
    "        var studentGradesGrtAvg = \n",
    "            from student in studentDegrees\n",
    "            group student by student.year into studentsGroupedByYear\n",
    "            from student_ in studentsGroupedByYear\n",
    "            where student_.degree.Average(grade => grade.grade) >= studentsGroupedByYear.Average(student => student.degree.Average(grade => grade.grade))\n",
    "            select student_;\n",
    "        return studentGradesGrtAvg.ToList();\n",
    "    }\n",
    "\n",
    "}\n",
    "\n",
    "\n",
    "var students = new List<Student>(){\n",
    "    // I semester\n",
    "    new Student(){ indexNumber = \"333333\", age = 19, gender = 'm', year = 1, term = 2 },\n",
    "    new Student(){ indexNumber = \"333334\", age = 20, gender = 'k', year = 1, term = 2 },\n",
    "    new Student(){ indexNumber = \"333335\", age = 19, gender = 'x', year = 1, term = 2 },\n",
    "    new Student(){ indexNumber = \"333336\", age = 20, gender = 'm', year = 1, term = 2 },\n",
    "    new Student(){ indexNumber = \"333337\", age = 21, gender = 'm', year = 1, term = 2 },\n",
    "\n",
    "    // II semester\n",
    "    new Student(){ indexNumber = \"333323\", age = 24, gender = 'm', year = 2, term = 4 },\n",
    "    new Student(){ indexNumber = \"333324\", age = 20, gender = 'k', year = 2, term = 4 },\n",
    "    new Student(){ indexNumber = \"333325\", age = 21, gender = 'm', year = 2, term = 4 },\n",
    "    new Student(){ indexNumber = \"333326\", age = 20, gender = 'm', year = 2, term = 4 },\n",
    "    new Student(){ indexNumber = \"333327\", age = 21, gender = 'k', year = 2, term = 4 }\n",
    "};\n",
    "\n",
    "var degrees = new List<Degree> {\n",
    "    // students after I semester\n",
    "    new Degree() { indexNumber = \"333333\", subjectName = \"subject 1\", grade = 4.0, year = 1, term = 1 },\n",
    "    new Degree() { indexNumber = \"333333\", subjectName = \"subject 2\", grade = 3.5, year = 1, term = 1 },\n",
    "    new Degree() { indexNumber = \"333333\", subjectName = \"subject 3\", grade = 4.5, year = 1, term = 1 },\n",
    "\n",
    "    new Degree() { indexNumber = \"333334\", subjectName = \"subject 1\", grade = 3.0, year = 1, term = 1 },\n",
    "    new Degree() { indexNumber = \"333334\", subjectName = \"subject 2\", grade = 5.0, year = 1, term = 1 },\n",
    "    new Degree() { indexNumber = \"333334\", subjectName = \"subject 3\", grade = 4.0, year = 1, term = 1 },\n",
    "\n",
    "    new Degree() { indexNumber = \"333335\", subjectName = \"subject 1\", grade = 4.0, year = 1, term = 1 },\n",
    "    new Degree() { indexNumber = \"333335\", subjectName = \"subject 2\", grade = 4.0, year = 1, term = 1 },\n",
    "    new Degree() { indexNumber = \"333335\", subjectName = \"subject 3\", grade = 3.5, year = 1, term = 1 },\n",
    "\n",
    "    new Degree() { indexNumber = \"333336\", subjectName = \"subject 1\", grade = 5.0, year = 1, term = 1 },\n",
    "    new Degree() { indexNumber = \"333336\", subjectName = \"subject 2\", grade = 4.5, year = 1, term = 1 },\n",
    "    new Degree() { indexNumber = \"333336\", subjectName = \"subject 3\", grade = 4.5, year = 1, term = 1 },\n",
    "\n",
    "    new Degree() { indexNumber = \"333337\", subjectName = \"subject 1\", grade = 3.0, year = 1, term = 1 },\n",
    "    new Degree() { indexNumber = \"333337\", subjectName = \"subject 2\", grade = 3.5, year = 1, term = 1 },\n",
    "    new Degree() { indexNumber = \"333337\", subjectName = \"subject 3\", grade = 3.5, year = 1, term = 1 },\n",
    "\n",
    "    // students after III semester\n",
    "    new Degree() { indexNumber = \"333323\", subjectName = \"subject 4\", grade = 5.0, year = 2, term = 3 },\n",
    "    new Degree() { indexNumber = \"333323\", subjectName = \"subject 5\", grade = 5.5, year = 2, term = 3 },\n",
    "    new Degree() { indexNumber = \"333323\", subjectName = \"subject 6\", grade = 5.0, year = 2, term = 3 },\n",
    "\n",
    "    new Degree() { indexNumber = \"333324\", subjectName = \"subject 4\", grade = 5.0, year = 2, term = 3 },\n",
    "    new Degree() { indexNumber = \"333324\", subjectName = \"subject 5\", grade = 4.0, year = 2, term = 3 },\n",
    "    new Degree() { indexNumber = \"333324\", subjectName = \"subject 6\", grade = 5.0, year = 2, term = 3 },\n",
    "\n",
    "    new Degree() { indexNumber = \"333325\", subjectName = \"subject 4\", grade = 5.0, year = 2, term = 3 },\n",
    "    new Degree() { indexNumber = \"333325\", subjectName = \"subject 5\", grade = 5.5, year = 2, term = 3 },\n",
    "    new Degree() { indexNumber = \"333325\", subjectName = \"subject 6\", grade = 5.0, year = 2, term = 3 },\n",
    "\n",
    "    new Degree() { indexNumber = \"333326\", subjectName = \"subject 4\", grade = 5.0, year = 2, term = 3 },\n",
    "    new Degree() { indexNumber = \"333326\", subjectName = \"subject 5\", grade = 5.0, year = 2, term = 3 },\n",
    "    new Degree() { indexNumber = \"333326\", subjectName = \"subject 6\", grade = 5.0, year = 2, term = 3 },\n",
    "\n",
    "    new Degree() { indexNumber = \"333327\", subjectName = \"subject 4\", grade = 3.0, year = 2, term = 3 },\n",
    "    new Degree() { indexNumber = \"333327\", subjectName = \"subject 5\", grade = 3.5, year = 2, term = 3 },\n",
    "    new Degree() { indexNumber = \"333327\", subjectName = \"subject 6\", grade = 3.0, year = 2, term = 3 },\n",
    "};\n",
    "\n",
    "//Usage\n",
    "\n",
    "List<StudentDegrees> studentDegrees = StudentDegrees.getLinkedStudentDegrees(students, degrees);\n",
    "\n",
    "Console.WriteLine(\"The oldest students:\");\n",
    "foreach(var i in StudentDegrees.getTheOldestStudents(studentDegrees)){\n",
    "    i.printStudentAge();\n",
    "}\n",
    "\n",
    "Console.WriteLine(\"\\nStudents with best grades:\");\n",
    "foreach(var i in StudentDegrees.getBestGradedStudents(studentDegrees)){\n",
    "    i.printStudentGradesAvg();\n",
    "}\n",
    "\n"
   ]
  }
 ],
 "metadata": {
  "kernelspec": {
   "display_name": ".NET (C#)",
   "language": "C#",
   "name": ".net-csharp"
  },
  "polyglot_notebook": {
   "kernelInfo": {
    "defaultKernelName": "csharp",
    "items": [
     {
      "aliases": [
       "c#",
       "C#"
      ],
      "languageName": "C#",
      "name": "csharp"
     },
     {
      "aliases": [
       "frontend"
      ],
      "languageName": null,
      "name": "vscode"
     },
     {
      "aliases": [],
      "name": ".NET"
     },
     {
      "aliases": [
       "f#",
       "F#"
      ],
      "languageName": "F#",
      "name": "fsharp"
     },
     {
      "aliases": [],
      "languageName": "HTML",
      "name": "html"
     },
     {
      "aliases": [
       "js"
      ],
      "languageName": "JavaScript",
      "name": "javascript"
     },
     {
      "aliases": [],
      "languageName": "KQL",
      "name": "kql"
     },
     {
      "aliases": [],
      "languageName": "Mermaid",
      "name": "mermaid"
     },
     {
      "aliases": [
       "powershell"
      ],
      "languageName": "PowerShell",
      "name": "pwsh"
     },
     {
      "aliases": [],
      "languageName": "SQL",
      "name": "sql"
     },
     {
      "aliases": [],
      "name": "value"
     },
     {
      "aliases": [],
      "name": "webview"
     }
    ]
   }
  }
 },
 "nbformat": 4,
 "nbformat_minor": 2
}

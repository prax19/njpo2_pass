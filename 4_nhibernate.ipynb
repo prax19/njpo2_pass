{
 "cells": [
  {
   "cell_type": "markdown",
   "metadata": {
    "dotnet_interactive": {
     "language": "csharp"
    },
    "polyglot_notebook": {
     "kernelName": "csharp"
    }
   },
   "source": [
    "# NHibernate and C\\# programming"
   ]
  },
  {
   "cell_type": "markdown",
   "metadata": {
    "dotnet_interactive": {
     "language": "csharp"
    },
    "polyglot_notebook": {
     "kernelName": "csharp"
    }
   },
   "source": [
    "## Wprowadzenie\n",
    "\n",
    "1. Co to jest NHibernate\n",
    "\n",
    "NHibernate jest frameworkiem do mapowanie obiektów z bazy danych na obiekty w kodzie programu. Kod jest bardziej odporny na błędy typograficzne oraz łatwiejszy do zmian. Dodatkowo dzięki *LINQ* bardzo łatwo można tworzyć skomplikowane zapytania bazy danych bez konieczności ich znajomości. O wiele łatwiej również zmienić bazę danę (nie wymaga to aż tak dużej liczby zmian).\n",
    "\n",
    "Alternatywą może być Dapper lub EntityFramework.\n",
    "\n",
    "Podstawową monomenklaturę stanowi:\n",
    "\n",
    "1. Dialekty \n",
    "2. Sesja\n",
    "3. Fluent nHiberante\n",
    "4. Klasa i mapowanie do klasy\n",
    "5. Repozytorium"
   ]
  },
  {
   "cell_type": "markdown",
   "metadata": {
    "dotnet_interactive": {
     "language": "csharp"
    },
    "polyglot_notebook": {
     "kernelName": "csharp"
    }
   },
   "source": [
    "## Kofiguracja początkowa (boilerplate)\n",
    "\n",
    "*NHibernate* nakłada pewien narzut związany z dodatkowym kodem, który musi zostać napisany ze względu na konkretne zastosowanie. Przykładem jest tutaj zarządzanie sesją. W zależności od tego czy *ORM* zostanie użyty w silniku do tworzenia stron czy też w aplikacji desktopowej (gruby klient), to programista musi zdecydować kto i jak ma zwalniać sesję. \n",
    "\n",
    "W pierwszym kroku należy zainstalować dwie paczki, jedna do `FluentNHibernate` i druga `System.Data.SQLite`. Pierwszy zawiera wszystkie niezbędne klasy do mapowania klas oraz budowania zapytań w konkretnym dialekcie języka SQL. Drugi zawiera niezbędne klasy do nawiązywania i utrzymywania połączenia z bazą danych. Ponieważ przykłady powstały w `csi` (trybie interaktywnym języka C#), zostało użyte polecenie `#r` do instalacji. W środowisku Visual Studio/ Visual Studio Code, należy użyć narzędzia `Nuget`. Jednak nazwy bibliotek pozostają takie same."
   ]
  },
  {
   "cell_type": "code",
   "execution_count": 1,
   "metadata": {
    "dotnet_interactive": {
     "language": "csharp"
    },
    "vscode": {
     "languageId": "polyglot-notebook"
    }
   },
   "outputs": [
    {
     "data": {
      "text/html": [
       "<div><div></div><div></div><div><strong>Installed Packages</strong><ul><li><span>FluentNHibernate, 3.1.0</span></li><li><span>System.Data.SQLite, 1.0.113.7</span></li></ul></div></div>"
      ]
     },
     "metadata": {},
     "output_type": "display_data"
    }
   ],
   "source": [
    "#r \"nuget: FluentNHibernate, 3.1.0\"\n",
    "#r \"nuget: System.Data.SQLite, 1.0.113.7\""
   ]
  },
  {
   "cell_type": "markdown",
   "metadata": {
    "dotnet_interactive": {
     "language": "csharp"
    },
    "polyglot_notebook": {
     "kernelName": "csharp"
    }
   },
   "source": [
    "Poniżej zostanie przedstawiony kod, który pozwala utworzyć tabele na podstawie przekazanych mapowań. Jest to szczególnie przydatne w testach jednostkowych, gdzie bazę tworzy się na żądanie. Nie jest to z kolei wymagane, gdy używamy istniejacego schematu lub chcemy ręcznie utworzyć całą strukturę."
   ]
  },
  {
   "cell_type": "code",
   "execution_count": 2,
   "metadata": {
    "dotnet_interactive": {
     "language": "csharp"
    },
    "vscode": {
     "languageId": "polyglot-notebook"
    }
   },
   "outputs": [],
   "source": [
    "using NHibernate.Cfg;\n",
    "using NHibernate.Tool.hbm2ddl;\n",
    "\n",
    "private static void BuildSchema(Configuration config)\n",
    "{\n",
    "    // this NHibernate tool takes a configuration (with mapping info in)\n",
    "    // and exports a database schema from it\n",
    "    new SchemaExport(config)\n",
    "            .Create(false, true);\n",
    "}"
   ]
  },
  {
   "cell_type": "markdown",
   "metadata": {
    "dotnet_interactive": {
     "language": "csharp"
    },
    "polyglot_notebook": {
     "kernelName": "csharp"
    }
   },
   "source": [
    "Mając funkcję do tworzenia schematu bazy danych można przystąpić do tworzenia funkcji tworzącej sesje tzw. fabryka sesji. Ze wzgędu na to, że kod ma być uruchamiany w Jupyter Notebooku, typy do mapowania mogą znajdowąć się w wielu modułach. Dlatego typ mapy należy przekazać ręcznie. W pozostałych przypadkach wystarczy użyć `m.FluentMappings.AddFromAssemblyOf<Program>()` dla aplikacji desktopowej lub w zamian za `Program` inny typ, który znajduje się w przestrzeni nazw. Zaszyty mechanizm wbudowany w bibliotekę, będzie próbował dodać każdy typ zawierający klasę do mapowania do schematu mapowania klas na tabele (za pomocą mechanizm *refleksji*). Ze względu, że w trybie interaktywnym, klasy mogą być tworzone dynamicznie załadowanie na początku wszystkich klas nie pomoże. W konfiguracji zaszyty zostały również sposób przechowywania danych w pamięci, co jest wygodne w przypadku pracy z Jupyter Notebookiem. Jeśli po restarcie aplikacji wymagany jest dostęp do poprzednio wykonanych operacji, należy odkomentować kod `.UsingFile(\"database.sqlite\")`."
   ]
  },
  {
   "cell_type": "code",
   "execution_count": 3,
   "metadata": {
    "dotnet_interactive": {
     "language": "csharp"
    },
    "vscode": {
     "languageId": "polyglot-notebook"
    }
   },
   "outputs": [],
   "source": [
    "using FluentNHibernate.Cfg;\n",
    "using FluentNHibernate.Cfg.Db;\n",
    "using NHibernate;\n",
    "\n",
    "private static ISessionFactory CreateSessionFactory(params Type[] mappingTypes)\n",
    "{\n",
    "    return Fluently.Configure()\n",
    "                        .Database(SQLiteConfiguration.Standard\n",
    "                            .UsingFile(\"database.sqlite\"))\n",
    "                        .Mappings(m => {\n",
    "                            foreach(var mappingType in mappingTypes) \n",
    "                                m.FluentMappings.Add(mappingType);\n",
    "                        })\n",
    "                        .ExposeConfiguration(BuildSchema)//Call of ours BuildSchema\n",
    "                        .BuildSessionFactory();\n",
    "}"
   ]
  },
  {
   "cell_type": "markdown",
   "metadata": {
    "dotnet_interactive": {
     "language": "csharp"
    },
    "polyglot_notebook": {
     "kernelName": "csharp"
    }
   },
   "source": [
    "W powyższym przykładzie został użyty sterownik dla bazy danych `Sqlite`. Na tej podstawie zostały użyty odpowiedni dialekt, który umożliwia budowanie składni konkretnej bazy danych. Przykładowo Microsoft SQL używa języka *T-SQL*, Oracle *PL/SQL* itd. Wszystkie one wywodzą się ze standardy `Ansi SQL`, ale mają specyficzne dla siebie elementy jak np. `top` w *T-SQL*. Przykładem innego silnika może być: `PostgreSQLConfiguration`. Powyższy przykład prezentuje sposób budowania konfiguracji za pomocą notacji typu *fluent*, gdzie konfigurację dodaje za pomocą kropek (każdy poprzedni element dodaje coś do konfiguracji i przekazuje w rezultacie tą samą instancję klasy).\n",
    "\n",
    "W kolejnym przykładzie zostanie zadeklarowany obiekt, który będzie mógł być użyty w mapowaniu. Należy zwrócić uwage, że klasy muszą zawierać właściwości wirtulne. `NHibernate` dodaje swoją implementację pól, dzięki czemu wiadomo, które pola zostały zmienione i muszą być zapisane do bazy danych w celu synchroniacji danych."
   ]
  },
  {
   "cell_type": "code",
   "execution_count": 4,
   "metadata": {
    "dotnet_interactive": {
     "language": "csharp"
    },
    "vscode": {
     "languageId": "polyglot-notebook"
    }
   },
   "outputs": [],
   "source": [
    "public class Employee\n",
    "{\n",
    "  public virtual int Id { get; protected set; }\n",
    "  public virtual string FirstName { get; set; }\n",
    "  public virtual string LastName { get; set; }\n",
    "\n",
    "  public override string ToString() => $\"Id: {Id}, {FirstName}, {LastName}\";\n",
    "}"
   ]
  },
  {
   "cell_type": "markdown",
   "metadata": {
    "dotnet_interactive": {
     "language": "csharp"
    },
    "polyglot_notebook": {
     "kernelName": "csharp"
    }
   },
   "source": [
    "Klasa może zawierać dowolnie dużo funkcji ze względu na to, że `NHibernate` operuje na poziomie samych właściwości. Niemniej jednak należy pamiętać o zasadzie segregacji obowiązków i pojedyńczej odpowiedzialności. Kolejny przykład przedstawia sposób w jaki można mapować pola naszej klasy z danymi w bazie danych."
   ]
  },
  {
   "cell_type": "code",
   "execution_count": 5,
   "metadata": {
    "dotnet_interactive": {
     "language": "csharp"
    },
    "vscode": {
     "languageId": "polyglot-notebook"
    }
   },
   "outputs": [],
   "source": [
    "using FluentNHibernate.Mapping;\n",
    "\n",
    "public class EmployeeMap : ClassMap<Employee>\n",
    "{\n",
    "  public EmployeeMap()\n",
    "  {\n",
    "    Table(\"Employee\");\n",
    "\n",
    "    Id(x => x.Id);\n",
    "    \n",
    "    Map(x => x.FirstName);\n",
    "    Map(x => x.LastName);\n",
    "  }\n",
    "}"
   ]
  },
  {
   "cell_type": "markdown",
   "metadata": {
    "dotnet_interactive": {
     "language": "csharp"
    },
    "polyglot_notebook": {
     "kernelName": "csharp"
    }
   },
   "source": [
    "W powyższym przykładzie klasa `ClassMap` to typ generyczny, który jako argument zawiera typ mapowanego obiektu. W konstrukturze następuje właściwe mapowanie. Funkcja `Table` klasy ClassMap. Wskazuje ona nazwę tabeli skojarzoną z instancją klasy `Employee`. Funkcja `Id` wskazuje jednoznacznie identyfikator obiektu (klucz główny). Sprawdzenie czy dwa obiekty są takie same następuje właśnie po tym polu. Dodatkowo w momencie generowania schematu (funkcja `BuildSchema`) pole to zostanie oznaczone jako klucz główny w bazie danych. W przypadku złożonych kluczy głównych w bazie danych należy przedefiniować w klasie `Employee` funkcje `GetHashCode` i `Equals`. W ten sposób *NHiberante* jest w stanie porównać ze sobą dwie instancje tej samej klasy. Funkcje `Map` i `Id` zwracają obiekt, który można dodatkowo skonfigurować. \n",
    "\n",
    "* Funkcja `Id`.\n",
    "    - `GeneratedBy.Identity()` w trakcie tworzenia nowego obiektu identyfikator będzie automatycznie inkrementowany przy zapisanie do bazy danych.\n",
    "    - `GeneratedBy.Sequence(\"SequenceId\")` w trakcie tworzenia nowego obiektu identyfikator zostanie przypisany na podstawie wartości z sekwencji o nazwie `SequenceId`, która musi istnieć w bazie danych.\n",
    "    - `Column(\"ID\")` pozwala na zmianę nazwy mapowanej kolumny z bazy danych. \n",
    "* Funkcja `Map`\n",
    "    - `Default(\"defaultValue\")` jeśli nie zostanie przekazana żadna wartość w trakcie tworzenia obiektu `defaultValue` zostanie użyta.\n",
    "    - `CustomSqlType(\"varchar(max)\")` wymusza stosowanie innego typu, niż domyślnie zdefiniowany w dialekcie.\n",
    "    - `Length(32)` określa typu (najczęściej) łańcucha znaków w bazie danych.\n",
    "    - `Check(\"len(columnName) > 1\")` pozwala utworzyć w bazie danych *constraint* w języku *SQL* nakładający ograniczenia na kolumnę lub grupę kolumn.\n",
    "    - `Nullable` i `Not.Nullable()` określa czy pole `Null` (C\\#) / `NULL` (DB) jest dopuszczalne. W trakcie tworzenia schematu pole to będzie ozaczone jako *nullable* lub *mandatory*. W trakcie operacji `insert` lub `update` pole to jest sprawdzane w kontekście występowania wartości dla tej właściwości.\n",
    "    - `Index(\"column_idx\")` łączy jedno lub więcej pół (na podstawie nazwy indeksu) w jeden indeks w bazie danych. Pole to jest używane w momencie budowania schematu dla tabeli.\n",
    "    - `Unique` i `UniqueKey` tworzy indeks unikalny dla pola lub wielu pól. Funkcje na dwie deklarancje bezparametrową `Unique`, unikalność kolumny dotyczy tylko jednej kolumn lub `UniqueKey` z nazwą indeksu unikalnego, który dotyczy wielu pól.\n",
    "    - `Formula(\"SQL expression\")` zamiast zwykłej kolumny w bazie danych utworzona zostanie `Computed column`. Silnik bazy danych w zależności od implementacji zwróci wartość tej kolumny dopiero w momencie wykonywania zapytania `select` lub po operacji `insert` / `update` (`persistent store`).\n",
    "    - `ReadOnly()` nie pozwala na modyfikację wartości kolumny. Szczególnie często tej funkcji używa się w tabelach przechowujących słowniki.\n",
    "    - `Update()` i `Insert()` w parze z `Not.Update()` pozwala kontrolować czy wartość pola powinna być przekazywana w trakcie wykonywania operacji `Update`/ `Insert`. Przykłałem może być tutaj kolumna (właściwość) `CREATEDATE` (`CreateDate`), której wartość powinna być ustawiana tylko raz w trakcie dodawania do bazy danych.\n",
    "\n",
    "Poniżej znajduje się przykład zastosowania dodatkowych konfiguracji dla obu funkcji.    "
   ]
  },
  {
   "cell_type": "code",
   "execution_count": 6,
   "metadata": {
    "dotnet_interactive": {
     "language": "csharp"
    },
    "vscode": {
     "languageId": "polyglot-notebook"
    }
   },
   "outputs": [],
   "source": [
    "using FluentNHibernate.Mapping;\n",
    "\n",
    "public class EmployeeMap : ClassMap<Employee>\n",
    "{\n",
    "  public EmployeeMap()\n",
    "  {\n",
    "    Table(\"Employee\");\n",
    "\n",
    "    Id(x => x.Id)\n",
    "        .GeneratedBy.Identity();\n",
    "\n",
    "    Map(x => x.FirstName)\n",
    "        .Length(64)\n",
    "        .Not.Nullable();\n",
    "    Map(x => x.LastName)\n",
    "        .Length(64)\n",
    "        .Not.Nullable();\n",
    "  }\n",
    "}"
   ]
  },
  {
   "cell_type": "markdown",
   "metadata": {
    "dotnet_interactive": {
     "language": "csharp"
    },
    "polyglot_notebook": {
     "kernelName": "csharp"
    }
   },
   "source": [
    "Po utworzeniu czystej klasy przechowującej dane, po stworzeniu mapowania i konfiguracji bazy danych można rozpocząć wykonywanie operacji na obiektach. Istnieją dwie metody klasy `Session` do zapisywania instancji obiektów `Save` i `SaveOrUpdate`. Pierwsza służy do wymuszenia operacji `Insert` druga (`SaveOrUpdate`) sprawdza czy klasa została zainicjowana samodzielnie przez programistę czy zwrócona z bazy danych. W pierwszym przypadku wykonywana jest operacja `Insert` w drugim `Update`. Poniżej znajduje się przykład zapisu do bazy danych dwóch pracowników (`Employee`) oraz ich wyświetlenie przy użyciu *lambda expression*."
   ]
  },
  {
   "cell_type": "code",
   "execution_count": 7,
   "metadata": {
    "dotnet_interactive": {
     "language": "csharp"
    },
    "vscode": {
     "languageId": "polyglot-notebook"
    }
   },
   "outputs": [
    {
     "name": "stdout",
     "output_type": "stream",
     "text": [
      "Mike Harrison Id: 1\n",
      "Jack Kowalski Id: 2\n",
      "Id: 1, Mike, Harrison\n",
      "Id: 2, Jack, Kowalski\n"
     ]
    }
   ],
   "source": [
    "using System.Data.SQLite;\n",
    "\n",
    "var sessionFactory = CreateSessionFactory(typeof(EmployeeMap));\n",
    "\n",
    "using (var session = sessionFactory.OpenSession())\n",
    "{\n",
    "    using (var transaction = session.BeginTransaction()) //initialize transaction\n",
    "    {        \n",
    "        var mike = new Employee() { FirstName = \"Mike\", LastName = \"Harrison\" };\n",
    "        session.Save(mike);\n",
    "\n",
    "        var jack = new Employee() { FirstName = \"Jack\", LastName = \"Kowalski\" };\n",
    "        session.SaveOrUpdate(jack); //or just Save        \n",
    "\n",
    "        transaction.Commit();\n",
    "        \n",
    "        Console.WriteLine($\"Mike Harrison Id: {mike.Id}\");\n",
    "        Console.WriteLine($\"Jack Kowalski Id: {jack.Id}\");\n",
    "    }\n",
    "\n",
    "    session.Query<Employee>().ToList().ForEach(e=> Console.WriteLine(e));\n",
    "}        "
   ]
  },
  {
   "cell_type": "markdown",
   "metadata": {
    "dotnet_interactive": {
     "language": "csharp"
    },
    "polyglot_notebook": {
     "kernelName": "csharp"
    }
   },
   "source": [
    "W przykładzie została użyta transakcja, która nie jest wymagana w przypadku, gdy wykonujemy jedną operację (pojedyncze operacje jak `insert`, `update` czy `delete` są z definicji atomowe w SQL). Należy w tym miejscu zauważyć, że właściwość `Id` nie zostało nigdzie przekazane w czasie tworzenia. Baza danych uzupełniła je automatycznie. Po operacji `Save` i analogicznie po operacji `SaveOrUpdate` wartość ta została przypisana do obiektu (instancje `mike` i `jack` zostały zmienione).\n",
    "\n",
    "## Mapowanie relacji\n",
    "\n",
    "Zależności miedzy poszczególnymi tabeli określają relacje między nimi. Są one nieodłącznym elementem każdej relacyjnej bazy danych. Dostępne są trzy rodzaje relacji.\n",
    "\n",
    "* Jeden do jednego - jedenemu wierszowi odpowiada jeden wiersz w powiązanej tabeli. Przykładem może być pracownik i jego numer konta.\n",
    "* Jeden do wielu - jednemu wierszowi odpowiada wiele powiązanych wierszy powiązanej tabeli. Przykładem może być pracownik i jego stanowisko (np. programista). Jeden pracownik posiada jedno stanowisko, ale to samo stanowisko może należeć do wielu pracowników.\n",
    "* Wiele do wielu - wymaga dodatkowej trzeciej tabeli wiążącej obie tabele (encja wtrącona). Analogicznie do poprzednich przykładów pracownik może mieć wiele kont email (osobiste z jego imieniem i nazwiskiem oraz *supportowe* na które zgłaszane są błędy z działaniem oprogramowania), ostatnie konto może być używane przez wielu pracowników z tego samego działu.\n",
    "\n",
    "Poniżej znajduje się sposób budowania każdego rodzaju mapowania.\n",
    "\n",
    "### Jeden do jednego\n",
    "\n",
    "Zakładamy, że jeden adres można jednoznacznie przypisać do jednego adresu."
   ]
  },
  {
   "cell_type": "code",
   "execution_count": 8,
   "metadata": {
    "dotnet_interactive": {
     "language": "csharp"
    },
    "vscode": {
     "languageId": "polyglot-notebook"
    }
   },
   "outputs": [],
   "source": [
    "public class Address\n",
    "{\n",
    "    public virtual int Id { get; set; }\n",
    "\n",
    "    public virtual string City { get; set; }\n",
    "\n",
    "    public virtual string Street { get; set; }\n",
    "\n",
    "    public virtual string Number { get; set; }\n",
    "\n",
    "    public virtual string Region { get; set; }\n",
    "\n",
    "    public virtual string RegionCode { get; set; }\n",
    "}\n",
    "\n",
    "public class Bank\n",
    "{\n",
    "    public virtual int Id { get; protected set; }\n",
    "\n",
    "    public virtual string Name { get; set; }\n",
    "\n",
    "    public virtual Address Address { get; set; }    \n",
    "}\n",
    "\n",
    "public class AddressMap : ClassMap<Address>\n",
    "{\n",
    "    public AddressMap()\n",
    "    {\n",
    "        Table(\"Address\");\n",
    "\n",
    "        Id(x => x.Id).GeneratedBy.Identity();\n",
    "\n",
    "        Map(x => x.City)\n",
    "            .Length(32)\n",
    "            .UniqueKey(\"AddressStreetNumberRegion\");\n",
    "        Map(x => x.Street)\n",
    "            .Length(256)\n",
    "            .UniqueKey(\"AddressStreetNumberRegion\");\n",
    "        Map(x => x.Number)\n",
    "            .Length(5)\n",
    "            .UniqueKey(\"AddressStreetNumberRegion\");\n",
    "        Map(x => x.Region)\n",
    "            .Length(32)\n",
    "            .UniqueKey(\"AddressStreetNumberRegion\");                \n",
    "        \n",
    "        Map(x => x.RegionCode);\n",
    "    }\n",
    "}\n",
    "\n",
    "public class BankMap : ClassMap<Bank>\n",
    "{\n",
    "    public BankMap()\n",
    "    {\n",
    "        Id(x => x.Id);\n",
    "\n",
    "        Map(x => x.Name)\n",
    "            .Length(128)\n",
    "            .Unique();        \n",
    "\n",
    "        HasOne(x => x.Address)\n",
    "            .Cascade.All();\n",
    "    }\n",
    "}"
   ]
  },
  {
   "cell_type": "markdown",
   "metadata": {
    "dotnet_interactive": {
     "language": "csharp"
    },
    "polyglot_notebook": {
     "kernelName": "csharp"
    }
   },
   "source": [
    "W celu dodania odwołania do danych innej tabeli (w kodzie innej kolekcji) należy użyć w funkcji `HasOne` wskazując jednocześnie pole do jakiego się odwołujemy. W deklaracji typu znajduje się informacja do jakiej kolecji referencja się odwołuje. Typ ten również musi zawierać własne mapowanie. W ten sposób `NHibernate` będzie w stanie znaleźć w przypadku banku jego adres oraz w adresie odpowiadający mu bank. Konfiguracja `Cascade.All()` pozwalają określi sposób tworzenia i usuwania obiektów pośrednich. Za każdym razem, gdy usuwamy `Bank`, usunięte zostanie również odpowiadający mu `Address`. Analogicznie w przypadku dodawania nowej instancji klasy `Bank`.\n",
    "\n",
    "Poniżej znajduje się przykład dodawania pól."
   ]
  },
  {
   "cell_type": "code",
   "execution_count": 9,
   "metadata": {
    "dotnet_interactive": {
     "language": "csharp"
    },
    "vscode": {
     "languageId": "polyglot-notebook"
    }
   },
   "outputs": [
    {
     "name": "stdout",
     "output_type": "stream",
     "text": [
      "At address Krakowska is located the following bank DummyBank\n",
      "At address Warszawska is located the following bank Dummy bank 2\n",
      "Krakowska 3/15, Kraków (Małopolska)\n",
      "Warszawska 5, Kraków (Małopolska)\n"
     ]
    }
   ],
   "source": [
    "using System.Data.SQLite;\n",
    "\n",
    "var sessionFactory = CreateSessionFactory(typeof(AddressMap), typeof(BankMap));\n",
    "\n",
    "using (var session = sessionFactory.OpenSession())\n",
    "{\n",
    "    using (var transaction = session.BeginTransaction()) //iniialize transaction\n",
    "    {\n",
    "        Bank bank = new Bank {\n",
    "            Name = \"DummyBank\",\n",
    "            Address = new Address {\n",
    "                City = \"Kraków\",\n",
    "                Street = \"Krakowska\",\n",
    "                Number = \"3/15\",\n",
    "                Region = \"Małopolska\",\n",
    "                RegionCode = \"31-876\"\n",
    "            }\n",
    "        };    \n",
    "\n",
    "        session.Save(bank); //all related class will be inserted to DB    \n",
    "        \n",
    "        Address address2 = new Address {\n",
    "            City = \"Kraków\",\n",
    "            Street = \"Warszawska\",\n",
    "            Number = \"5\",\n",
    "            Region = \"Małopolska\"\n",
    "        };\n",
    "\n",
    "        session.Save(address2);\n",
    "        \n",
    "        Bank bank2 = new Bank {\n",
    "            Name = \"Dummy bank 2\",\n",
    "            Address = session.Query<Address>()\n",
    "            .Where(x => x.Street == \"Warszawska\" && x.Number == \"5\")\n",
    "            .SingleOrDefault(),\n",
    "        };\n",
    "        \n",
    "        session.Save(bank2);\n",
    "\n",
    "        transaction.Commit();\n",
    "    }\n",
    "\n",
    "    var banks = session.Query<Bank>();\n",
    "\n",
    "    foreach(var bank in banks){\n",
    "        Console.WriteLine($\"At address {bank.Address?.Street} is located the following bank {bank.Name}\");\n",
    "    }\n",
    "    \n",
    "    session.Query<Address>().ToList().ForEach(a => Console.WriteLine($\"{a.Street} {a.Number}, {a.City} ({a.Region})\"));\n",
    "}        "
   ]
  },
  {
   "cell_type": "markdown",
   "metadata": {
    "dotnet_interactive": {
     "language": "csharp"
    },
    "polyglot_notebook": {
     "kernelName": "csharp"
    }
   },
   "source": [
    "Konstrukcja `bank.Address?.Street` pozwala zwrócić `Null` w przypadky, gdy adres nie został przekazany. Pozwala to uniknąć w tym przypadku błędu wykonywania *Null reference exception*. Funkcja `SingleOrDefault()` zwraca jeden wynik lub `Null`. Inną opcją jest użycie `Single`, wtedy wyjątek zostanie rzucony w przypadku braku jakiegokolwiek wyniku.\n",
    "\n",
    "### Jeden do wielu\n",
    "\n",
    "Relacja tę mapuje się w kodzie za pomocą kolekcji. Załóżmy, że każde konto jest przypisane do jednego banku, a jeden bank może mieć wiele kont. Poniższy przykład prezentuje sposób, w jaki można mapować taką relację."
   ]
  },
  {
   "cell_type": "code",
   "execution_count": 10,
   "metadata": {
    "dotnet_interactive": {
     "language": "csharp"
    },
    "vscode": {
     "languageId": "polyglot-notebook"
    }
   },
   "outputs": [],
   "source": [
    "public class Account\n",
    "{\n",
    "    public virtual int Id { get; protected set; }\n",
    "\n",
    "    public virtual string Number { get; set; }   \n",
    "\n",
    "    public virtual Bank BankDetails { get; set; }                \n",
    "}\n",
    "\n",
    "public class Bank\n",
    "{\n",
    "    public virtual int Id { get; protected set; }\n",
    "\n",
    "    public virtual string Name { get; set; }\n",
    "\n",
    "    public virtual Address Address { get; set; }\n",
    "    \n",
    "    public virtual IList<Account> Accounts { get; set; }\n",
    "}\n",
    "\n",
    "public class AccountMap : ClassMap<Account>\n",
    "{\n",
    "    public AccountMap()\n",
    "    {\n",
    "        Id(x => x.Id);\n",
    "\n",
    "        Map(x => x.Number)\n",
    "            .Length(16)\n",
    "            .ReadOnly();\n",
    "\n",
    "        References(x => x.BankDetails).LazyLoad();\n",
    "    }\n",
    "}\n",
    "\n",
    "public class BankMap : ClassMap<Bank>\n",
    "{\n",
    "    public BankMap()\n",
    "    {\n",
    "        Id(x => x.Id);\n",
    "\n",
    "        Map(x => x.Name)\n",
    "            .Length(128)\n",
    "            .Unique();        \n",
    "\n",
    "        HasOne(x => x.Address)\n",
    "            .Cascade.All();\n",
    "\n",
    "        HasMany(x => x.Accounts)            \n",
    "            .Inverse();\n",
    "    }\n",
    "}"
   ]
  },
  {
   "cell_type": "markdown",
   "metadata": {
    "dotnet_interactive": {
     "language": "csharp"
    },
    "polyglot_notebook": {
     "kernelName": "csharp"
    }
   },
   "source": [
    "Funkcja `LazyLoad` pozwala na załadowanie informacji z bazy danych w momencie dostępu do tego pola. Bez bezpośredniego odwołania wartość ta nie będzie przekazana, co powala zaoszczędzić zasoby komputera. Rzeczywistym typem właściwości `BankDetails` będzie typ `Proxy`, który dziedziczy po typie `Bank`, co pozwala na realizację dynamicznego ładowania danych. W relacji `Bank` i `Account` nie ma zdefiniowanego nazwy klucza obcego (kolumny). Tak zdefiniowana realizacja powoduje, że połączenie bazuje na kluczu głównym tabeli `Bank`. W przypadku, gdy odwołanie dotyczy innej kolumny tabeli `Bank` należy użyć funkcji `KeyColumn` do ręcznego określenia kolumny identyfikującej konretny wiersz w tabeli `Bank`. Kolejny przykład przedstawia sposób użycia mapowania klas."
   ]
  },
  {
   "cell_type": "code",
   "execution_count": 11,
   "metadata": {
    "dotnet_interactive": {
     "language": "csharp"
    },
    "vscode": {
     "languageId": "polyglot-notebook"
    }
   },
   "outputs": [
    {
     "name": "stdout",
     "output_type": "stream",
     "text": [
      "Bank DummyBank has the followings accounts:\n",
      "8649747851917216\n",
      "1011172961443351\r\n"
     ]
    }
   ],
   "source": [
    "using System.Data.SQLite;\n",
    "\n",
    "var sessionFactory = CreateSessionFactory(typeof(AddressMap), typeof(BankMap), typeof(AccountMap));\n",
    "\n",
    "using (var session = sessionFactory.OpenSession())\n",
    "{\n",
    "    using (var transaction = session.BeginTransaction()) //iniialize transaction\n",
    "    {\n",
    "        Bank bank = new Bank {\n",
    "            Name = \"DummyBank\",\n",
    "            Address = new Address {\n",
    "                City = \"Kraków\",\n",
    "                Street = \"Krakowska\",\n",
    "                Number = \"3/15\",\n",
    "                Region = \"Małopolska\",\n",
    "                RegionCode = \"31-877\"\n",
    "            },\n",
    "            Accounts = new List<Account>() {\n",
    "                new Account { Number = \"8649747851917216\" },\n",
    "                new Account { Number = \"1011172961443351\" }\n",
    "            }\n",
    "        };\n",
    "        \n",
    "        session.Save(bank);\n",
    "\n",
    "        transaction.Commit();\n",
    "    }\n",
    "\n",
    "    var banks = from c in session.Query<Bank>() //another option like linq\n",
    "                select c;    \n",
    "\n",
    "    foreach(var bank in banks) {\n",
    "        Console.WriteLine($\"Bank {bank.Name} has the followings accounts:\\n{string.Join(\"\\n\", bank.Accounts.Select(a=> a.Number))}\");\n",
    "    }\n",
    "\n",
    "    var accounts = from a in session.Query<Account>()\n",
    "                   select new { // here we are creating new type\n",
    "                        Number = a.Number,\n",
    "                        BankName = a.BankDetails.Name\n",
    "                   };\n",
    "\n",
    "    foreach(var account in accounts) {\n",
    "        Console.WriteLine($\"Account {account.Number} belongs to {account.BankName}\");\n",
    "    }\n",
    "}        \n"
   ]
  },
  {
   "cell_type": "markdown",
   "metadata": {
    "dotnet_interactive": {
     "language": "csharp"
    },
    "polyglot_notebook": {
     "kernelName": "csharp"
    }
   },
   "source": [
    "### Wiele do wielu\n",
    "\n",
    "Relacja jest zaimplementowana za pomocą trzech tabel (tzw. encja wtrącona). Załóżmy, że jeden pracownik może mieć możliwość rezerwacji biurka w różnych budynkach firmy, a każde biurko może być przypisane do więcej niż jednego pracownika, ze względu na częciową pracę z domu pracowników."
   ]
  },
  {
   "cell_type": "code",
   "execution_count": 12,
   "metadata": {
    "dotnet_interactive": {
     "language": "csharp"
    },
    "vscode": {
     "languageId": "polyglot-notebook"
    }
   },
   "outputs": [],
   "source": [
    "public class Desk\n",
    "{\n",
    "    public virtual int Id { get; set; }\n",
    "    public virtual int Floor { get; set; }\n",
    "    public virtual int No { get; set; }\n",
    "    public override string ToString() => $\"Desk: {No}, floor: {Floor}\";\n",
    "}\n",
    "\n",
    "public class Department\n",
    "{\n",
    "    public virtual int Id { get; set; }\n",
    "    public virtual string Address { get; set; }\n",
    "    public virtual string Name { get; set; }\n",
    "    public virtual IList<Desk> Desks { get; set; }\n",
    "    public virtual IList<Employee> Employees { get; set; }    \n",
    "}\n",
    "\n",
    "public class Employee\n",
    "{\n",
    "  public virtual Guid Id { get; protected set; }\n",
    "  public virtual string FirstName { get; set; }\n",
    "  public virtual string LastName { get; set; }\n",
    "  public virtual IList<Department> DepartmentAccesses {get; set; }\n",
    "\n",
    "  public override string ToString() => $\"Id: {Id}, {FirstName}, {LastName}\";\n",
    "}\n",
    "\n",
    "public class DeskMap : ClassMap<Desk>\n",
    "{\n",
    "  public DeskMap()\n",
    "  {\n",
    "    Table(\"Desk\");\n",
    "\n",
    "    Id(x => x.Id, \"DeskId\") //or .Column(\"DeskId\")\n",
    "        .GeneratedBy.Identity();\n",
    "\n",
    "    Map(x => x.Floor)\n",
    "        .Not.Nullable();\n",
    "    Map(x => x.No)        \n",
    "        .Not.Nullable();\n",
    "  }\n",
    "}\n",
    "\n",
    "public class DepartmentMap : ClassMap<Department>\n",
    "{\n",
    "  public DepartmentMap()\n",
    "  {\n",
    "    Table(\"Department\");\n",
    "\n",
    "    Id(x => x.Id, \"DepartmentId\") //or .Column(\"DepartmentId\")\n",
    "        .GeneratedBy.Identity();\n",
    "\n",
    "    Map(x => x.Address)\n",
    "        .Not.Nullable();\n",
    "    Map(x => x.Name)        \n",
    "        .Not.Nullable();\n",
    "\n",
    "    HasMany(x=> x.Desks)\n",
    "        .Inverse()\n",
    "        .Cascade.All();\n",
    "\n",
    "    HasManyToMany<Employee>(x => x.Employees)\n",
    "        .Table(\"EmployeeInDepartment\")\n",
    "        // .ParentKeyColumn(\"DepartmentId\")\n",
    "        // .ChildKeyColumn(\"EmployeeId\") \n",
    "        .Inverse()           \n",
    "        .Cascade.All();\n",
    "  }\n",
    "}\n",
    "\n",
    "public class EmployeeMap : ClassMap<Employee>\n",
    "{\n",
    "  public EmployeeMap()\n",
    "  {\n",
    "    Table(\"Employee\");\n",
    "\n",
    "    Id(x => x.Id, \"EmployeeId\")\n",
    "        .GeneratedBy.Guid();\n",
    "\n",
    "    Map(x => x.FirstName)\n",
    "        .Length(64)\n",
    "        .Not.Nullable();\n",
    "    Map(x => x.LastName)\n",
    "        .Length(64)\n",
    "        .Not.Nullable();\n",
    "\n",
    "    HasManyToMany<Department>(x => x.DepartmentAccesses)\n",
    "        .Table(\"EmployeeInDepartment\")        \n",
    "        // .ParentKeyColumn(\"EmployeeId\")\n",
    "        // .ChildKeyColumn(\"DepartmentId\")      \n",
    "        .Cascade.All();        \n",
    "  }\n",
    "}"
   ]
  },
  {
   "cell_type": "markdown",
   "metadata": {
    "dotnet_interactive": {
     "language": "csharp"
    },
    "polyglot_notebook": {
     "kernelName": "csharp"
    }
   },
   "source": [
    "Ze względu encję wtrąconą, jedna z tabel musi zostać zapisana z wartością `NULL` (identyfikator przypisywany jest w momencie fizycznego wstawienia wiersza do klucza głównego). Z założenia najpier będą tworzene departamenty."
   ]
  },
  {
   "cell_type": "code",
   "execution_count": 13,
   "metadata": {
    "dotnet_interactive": {
     "language": "csharp"
    },
    "vscode": {
     "languageId": "polyglot-notebook"
    }
   },
   "outputs": [
    {
     "name": "stdout",
     "output_type": "stream",
     "text": [
      "John Nowak can sit in Newton on that desks:\n",
      "Desk: 1, floor: 1\n",
      "Desk: 2, floor: 1\n",
      "Desk: 3, floor: 1\n",
      "Desk: 1, floor: 2\n",
      "Desk: 2, floor: 2\n",
      "Desk: 3, floor: 2\n",
      "\n"
     ]
    },
    {
     "ename": "Error",
     "evalue": "System.ArgumentNullException: Value cannot be null. (Parameter 'source')\r\n   at System.Linq.ThrowHelper.ThrowArgumentNullException(ExceptionArgument argument)\r\n   at System.Linq.Enumerable.Select[TSource,TResult](IEnumerable`1 source, Func`2 selector)\r\n   at Submission#13.<<Initialize>>d__0.MoveNext()\r\n--- End of stack trace from previous location ---\r\n   at Microsoft.CodeAnalysis.Scripting.ScriptExecutionState.RunSubmissionsAsync[TResult](ImmutableArray`1 precedingExecutors, Func`2 currentExecutor, StrongBox`1 exceptionHolderOpt, Func`2 catchExceptionOpt, CancellationToken cancellationToken)",
     "output_type": "error",
     "traceback": [
      "System.ArgumentNullException: Value cannot be null. (Parameter 'source')\r\n",
      "   at System.Linq.ThrowHelper.ThrowArgumentNullException(ExceptionArgument argument)\r\n",
      "   at System.Linq.Enumerable.Select[TSource,TResult](IEnumerable`1 source, Func`2 selector)\r\n",
      "   at Submission#13.<<Initialize>>d__0.MoveNext()\r\n",
      "--- End of stack trace from previous location ---\r\n",
      "   at Microsoft.CodeAnalysis.Scripting.ScriptExecutionState.RunSubmissionsAsync[TResult](ImmutableArray`1 precedingExecutors, Func`2 currentExecutor, StrongBox`1 exceptionHolderOpt, Func`2 catchExceptionOpt, CancellationToken cancellationToken)"
     ]
    }
   ],
   "source": [
    "using System.Data.SQLite;\n",
    "\n",
    "var sessionFactory = CreateSessionFactory(typeof(DeskMap), typeof(DepartmentMap), typeof(EmployeeMap));\n",
    "\n",
    "using (var session = sessionFactory.OpenSession())\n",
    "{\n",
    "    using (var transaction = session.BeginTransaction()) //iniialize transaction\n",
    "    {\n",
    "        var newton = new Department() {\n",
    "            Name = \"Newton\",\n",
    "            Address = \"Kraków\",\n",
    "            Desks = new List<Desk>() {\n",
    "                new Desk() { No = 1, Floor = 1 },\n",
    "                new Desk() { No = 2, Floor = 1 },\n",
    "                new Desk() { No = 3, Floor = 1 },\n",
    "                new Desk() { No = 1, Floor = 2 },\n",
    "                new Desk() { No = 2, Floor = 2 },\n",
    "                new Desk() { No = 3, Floor = 2 },\n",
    "            }\n",
    "        };\n",
    "\n",
    "        session.Save(newton);\n",
    "\n",
    "        var pascal = new Department() {\n",
    "            Name = \"Pascal\",\n",
    "            Address = \"Kraków\",\n",
    "            Desks = new List<Desk>() {\n",
    "                new Desk() { No = 1, Floor = 4 },\n",
    "                new Desk() { No = 2, Floor = 4 },                \n",
    "                new Desk() { No = 1, Floor = 5 },\n",
    "                new Desk() { No = 2, Floor = 5 },\n",
    "                new Desk() { No = 3, Floor = 5 },\n",
    "                new Desk() { No = 4, Floor = 5 },\n",
    "            }\n",
    "        };        \n",
    "\n",
    "        session.Save(pascal);\n",
    "\n",
    "        var kowalski = new Employee() \n",
    "        {\n",
    "            FirstName = \"Jan\",\n",
    "            LastName = \"Kowalski\",\n",
    "            DepartmentAccesses = new List<Department>() { newton, pascal }\n",
    "        };\n",
    "\n",
    "        session.Save(kowalski);\n",
    "\n",
    "        var nowak = new Employee() \n",
    "        {\n",
    "            FirstName = \"John\",\n",
    "            LastName = \"Nowak\",\n",
    "            DepartmentAccesses = new List<Department>() { newton }\n",
    "        };\n",
    "\n",
    "        session.Save(nowak);\n",
    "\n",
    "        transaction.Commit();\n",
    "    }\n",
    "\n",
    "    var canSit = (from c in session.Query<Employee>() //another option like linq\n",
    "                 where c.LastName == \"Nowak\"\n",
    "                 select c)\n",
    "                 .FirstOrDefault();    \n",
    "\n",
    "    foreach(var dep in canSit?.DepartmentAccesses) {\n",
    "        var desks = string.Join(\"\\n\", dep.Desks.Select(d => d));\n",
    "        Console.WriteLine($\"John Nowak can sit in {dep.Name} on that desks:\\n{desks}\");\n",
    "    }\n",
    "\n",
    "    var deps = from c in session.Query<Department>()\n",
    "                    select c;\n",
    "\n",
    "    foreach(var dep in deps) {\n",
    "        Console.WriteLine(dep.Employees);\n",
    "        var emps = string.Join(\"\\n\", dep.Employees.Select(e => e.Id));\n",
    "        Console.WriteLine($\"Department {dep.Name} has employees:\\n{emps}\");\n",
    "    }\n",
    "}        \n"
   ]
  },
  {
   "cell_type": "markdown",
   "metadata": {
    "dotnet_interactive": {
     "language": "csharp"
    },
    "polyglot_notebook": {
     "kernelName": "csharp"
    }
   },
   "source": [
    "## Query\n",
    "\n",
    "Największą przewagą użycia *NHibernate* jest możliwość użycia *LINQ* i wszystkich jego zalet jak:\n",
    "* podpowiadanie pól, \n",
    "* łatwia zmiana nazwy pola w przypadku refactoringu,\n",
    "* tworzenie dynamicznych typów za pomocą `Select` i **`new`**.\n",
    "\n",
    "Poniżej znajdują się przykładowe zapytania i sposób ich budowania.\n",
    "\n",
    "### Klauzula **`in`**\n",
    "\n",
    "Umożliwia operacje na kolekcjach, co umożliwia dodawanie warunków, które bazują na zbiorach danych."
   ]
  },
  {
   "cell_type": "code",
   "execution_count": 14,
   "metadata": {
    "dotnet_interactive": {
     "language": "csharp"
    },
    "vscode": {
     "languageId": "polyglot-notebook"
    }
   },
   "outputs": [
    {
     "name": "stdout",
     "output_type": "stream",
     "text": [
      "Employee John Nowak has access to:\n",
      "Newton\n",
      "Employee Jan Kowalski has access to:\n",
      "Newton\n",
      "Pascal\n"
     ]
    }
   ],
   "source": [
    "using System.Data.SQLite;\n",
    "\n",
    "var sessionFactory = CreateSessionFactory(typeof(DeskMap), typeof(DepartmentMap), typeof(EmployeeMap));\n",
    "\n",
    "using (var session = sessionFactory.OpenSession())\n",
    "{\n",
    "    using (var transaction = session.BeginTransaction()) //iniialize transaction\n",
    "    {\n",
    "        var newton = new Department() {\n",
    "            Name = \"Newton\",\n",
    "            Address = \"Kraków\",\n",
    "            Desks = new List<Desk>() {\n",
    "                new Desk() { No = 1, Floor = 1 },\n",
    "                new Desk() { No = 2, Floor = 1 },\n",
    "                new Desk() { No = 3, Floor = 1 },\n",
    "                new Desk() { No = 1, Floor = 2 },\n",
    "                new Desk() { No = 2, Floor = 2 },\n",
    "                new Desk() { No = 3, Floor = 2 },\n",
    "            }\n",
    "        };\n",
    "\n",
    "        session.Save(newton);\n",
    "\n",
    "        var pascal = new Department() {\n",
    "            Name = \"Pascal\",\n",
    "            Address = \"Kraków\",\n",
    "            Desks = new List<Desk>() {\n",
    "                new Desk() { No = 1, Floor = 4 },\n",
    "                new Desk() { No = 2, Floor = 4 },                \n",
    "                new Desk() { No = 1, Floor = 5 },\n",
    "                new Desk() { No = 2, Floor = 5 },\n",
    "                new Desk() { No = 3, Floor = 5 },\n",
    "                new Desk() { No = 4, Floor = 5 },\n",
    "            }\n",
    "        };        \n",
    "\n",
    "        session.Save(pascal);\n",
    "\n",
    "        var kowalski = new Employee() \n",
    "        {\n",
    "            FirstName = \"Jan\",\n",
    "            LastName = \"Kowalski\",\n",
    "            DepartmentAccesses = new List<Department>() { newton, pascal }\n",
    "        };\n",
    "\n",
    "        session.Save(kowalski);\n",
    "\n",
    "        var nowak = new Employee() \n",
    "        {\n",
    "            FirstName = \"John\",\n",
    "            LastName = \"Nowak\",\n",
    "            DepartmentAccesses = new List<Department>() { newton }\n",
    "        };\n",
    "\n",
    "        session.Save(nowak);\n",
    "\n",
    "        transaction.Commit();\n",
    "    }\n",
    "\n",
    "    var names = new List<string>() { \"Nowak\", \"Kowalski\" };\n",
    "\n",
    "    var employees = from c in session.Query<Employee>() //another option like linq\n",
    "                    where names.Contains(c.LastName)\n",
    "                    orderby c.LastName descending\n",
    "                    select new {\n",
    "                        FirstName = c.FirstName,\n",
    "                        LastName = c.LastName,\n",
    "                        Deps = c.DepartmentAccesses\n",
    "                    };\n",
    "\n",
    "    foreach(var emp in employees) {        \n",
    "        var deps = string.Join(\"\\n\", emp.Deps.Select(x=> x.Name));\n",
    "        Console.WriteLine($\"Employee {emp.FirstName} {emp.LastName} has access to:\\n{deps}\");\n",
    "    }\n",
    "}"
   ]
  },
  {
   "cell_type": "markdown",
   "metadata": {
    "dotnet_interactive": {
     "language": "csharp"
    },
    "polyglot_notebook": {
     "kernelName": "csharp"
    }
   },
   "source": [
    "Dodatkowo w powyższym przykładzie użyto słowa kluczowego **`orderby`**.\n",
    "\n",
    "### Grupowanie danych\n",
    "\n",
    "W *Ansi SQL* oznacza użycie słowa kluczowego **`group by`**, który umożliwia tworzenie agregacji na kolekcji."
   ]
  },
  {
   "cell_type": "code",
   "execution_count": 15,
   "metadata": {
    "dotnet_interactive": {
     "language": "csharp"
    },
    "vscode": {
     "languageId": "polyglot-notebook"
    }
   },
   "outputs": [
    {
     "name": "stdout",
     "output_type": "stream",
     "text": [
      "Floor 1 has 3 desks\n",
      "Floor 2 has 3 desks\n",
      "Floor 4 has 2 desks\n",
      "Floor 5 has 4 desks\n"
     ]
    }
   ],
   "source": [
    "using System.Data.SQLite;\n",
    "\n",
    "var sessionFactory = CreateSessionFactory(typeof(DeskMap), typeof(DepartmentMap), typeof(EmployeeMap));\n",
    "\n",
    "using (var session = sessionFactory.OpenSession())\n",
    "{\n",
    "    using (var transaction = session.BeginTransaction()) //iniialize transaction\n",
    "    {\n",
    "        var newton = new Department() {\n",
    "            Name = \"Newton\",\n",
    "            Address = \"Kraków\",\n",
    "            Desks = new List<Desk>() {\n",
    "                new Desk() { No = 1, Floor = 1 },\n",
    "                new Desk() { No = 2, Floor = 1 },\n",
    "                new Desk() { No = 3, Floor = 1 },\n",
    "                new Desk() { No = 1, Floor = 2 },\n",
    "                new Desk() { No = 2, Floor = 2 },\n",
    "                new Desk() { No = 3, Floor = 2 },\n",
    "            }\n",
    "        };\n",
    "\n",
    "        session.Save(newton);\n",
    "\n",
    "        var pascal = new Department() {\n",
    "            Name = \"Pascal\",\n",
    "            Address = \"Kraków\",\n",
    "            Desks = new List<Desk>() {\n",
    "                new Desk() { No = 1, Floor = 4 },\n",
    "                new Desk() { No = 2, Floor = 4 },                \n",
    "                new Desk() { No = 1, Floor = 5 },\n",
    "                new Desk() { No = 2, Floor = 5 },\n",
    "                new Desk() { No = 3, Floor = 5 },\n",
    "                new Desk() { No = 4, Floor = 5 },\n",
    "            }\n",
    "        };        \n",
    "\n",
    "        session.Save(pascal);\n",
    "        \n",
    "        transaction.Commit();\n",
    "    }    \n",
    "\n",
    "    var floorSits = from c in session.Query<Desk>()                        \n",
    "                    group c by c.Floor into g // or simple c.Name without new\n",
    "                    select new {\n",
    "                        Floor = g.Key,\n",
    "                        SitsCount = g.Count() // it can be used ToList() to having list of objects\n",
    "                    };\n",
    "                    \n",
    "\n",
    "    foreach(var floorSit in floorSits) {                \n",
    "        Console.WriteLine($\"Floor {floorSit.Floor} has {floorSit.SitsCount} desks\");\n",
    "    }\n",
    "}"
   ]
  },
  {
   "cell_type": "markdown",
   "metadata": {
    "dotnet_interactive": {
     "language": "csharp"
    },
    "polyglot_notebook": {
     "kernelName": "csharp"
    }
   },
   "source": [
    "### Złączenia\n",
    "\n",
    "W czasie działania programu złączenia umożliwiają dodawanie do finalnego wyniku z bazy danych dodatkowych informacji.\n",
    "\n",
    "## Zadania do wykonania\n",
    "\n",
    "### Zadanie 1\n",
    "\n",
    "Napisz program typu `CRUD` zbierający sygnały (zdarzenia) z różnych źródeł. Tabela powinna posiadać:\n",
    "\n",
    "- dokładną datę zdarzenia,\n",
    "- źródło zdarzenia,\n",
    "- typ zdarzenia (informacja, ostrzeżenie, błąd, błąd krytyczny),\n",
    "- dodatkowe dane,\n",
    "- identyfikator (adres może być np. IP).\n",
    "\n",
    "Na kolumnę typ zdarzenia powinien zostać założony indeks, a wartości powinny być ograniczone do tych wyliczonych w nawiasie."
   ]
  },
  {
   "attachments": {},
   "cell_type": "markdown",
   "metadata": {
    "dotnet_interactive": {
     "language": "csharp"
    },
    "polyglot_notebook": {
     "kernelName": "csharp"
    }
   },
   "source": [
    "### Rozwiązanie 1 zadania 1\n",
    "Rozwiązanie z użyciem `NHibernate` i `SQLite`."
   ]
  },
  {
   "cell_type": "code",
   "execution_count": 50,
   "metadata": {
    "dotnet_interactive": {
     "language": "csharp"
    },
    "polyglot_notebook": {
     "kernelName": "csharp"
    },
    "vscode": {
     "languageId": "polyglot-notebook"
    }
   },
   "outputs": [
    {
     "name": "stdout",
     "output_type": "stream",
     "text": [
      "Creating data...\n",
      "\n",
      "Reading data..\n",
      "07-03-2023 20:51:02.6604 App      warning                                      1                               \n",
      "07-03-2023 20:51:02.6784 App      warning     signal to update                 2                               \n",
      "07-03-2023 20:51:02.6932 App1     error       signal to delete                 3                               \n",
      "07-03-2023 20:51:02.7072 App2     critical    some other signal                4                               \n",
      "\n",
      "Updating data..\n",
      "07-03-2023 20:51:02.6784 App      warning     signal to update                 2                               \n",
      "07-03-2023 20:51:02.6784 App      information signal to update                 2                               \n",
      "\n",
      "Deleting data..\n",
      "07-03-2023 20:51:02.6604 App      warning                                      1                               \n",
      "07-03-2023 20:51:02.6784 App      information signal to update                 2                               \n",
      "07-03-2023 20:51:02.7072 App2     critical    some other signal                4                               \n"
     ]
    }
   ],
   "source": [
    "using System.Data.SQLite;\n",
    "using FluentNHibernate.Cfg.Db;\n",
    "\n",
    "public class Signal {\n",
    "\n",
    "    public virtual int id {get; set;}\n",
    "    public virtual DateTime datetime {get; set;}\n",
    "    public virtual String source {get; set;}\n",
    "    public virtual int type {get; set;}\n",
    "    public virtual  String additionalData {get; set;}\n",
    "\n",
    "    public Signal() {}\n",
    "\n",
    "    public virtual String getTypeName() {\n",
    "        switch(type) {\n",
    "            case 0: return \"information\";\n",
    "            case 1: return \"warning\";\n",
    "            case 2: return \"error\";\n",
    "            case 3: return \"critical\";\n",
    "        }\n",
    "        return null;\n",
    "    }\n",
    "\n",
    "    override\n",
    "    public String ToString(){\n",
    "        return String.Format(\n",
    "            \"{0,-24:dd-MM-yyyy HH:mm:ss.ffff} {1,-8} {2,-11} {3,-32} {4,-32}\", \n",
    "            datetime, source, getTypeName(), additionalData, id);\n",
    "    }\n",
    "\n",
    "}\n",
    "\n",
    "public class SignalMap : ClassMap<Signal> {\n",
    "\n",
    "    public SignalMap() {\n",
    "        Table(\"Signals\");\n",
    "\n",
    "        Id(x => x.id);\n",
    "        Map(x => x.datetime);\n",
    "        Map(x => x.source);\n",
    "        Map(x => x.type);\n",
    "        Map(x => x.additionalData);\n",
    "\n",
    "    }\n",
    "\n",
    "}\n",
    "\n",
    "public class CRUDApp {\n",
    "\n",
    "    public ISessionFactory session {get; set;}\n",
    "    public FluentConfiguration config {get; set;}\n",
    "\n",
    "    public CRUDApp(){\n",
    "        connectToDatabase();\n",
    "    }\n",
    "\n",
    "    public ISessionFactory connectToDatabase(){\n",
    "        if (session != null)\n",
    "            return session;\n",
    "\n",
    "        config = Fluently.Configure()\n",
    "            .Database(SQLiteConfiguration.Standard\n",
    "                .UsingFile(\"database.db\")\n",
    "            )\n",
    "            .Mappings(m => m.FluentMappings.AddFromAssemblyOf<SignalMap>())\n",
    "            .ExposeConfiguration(cfg => new SchemaUpdate(cfg).Execute(false, true));\n",
    "        \n",
    "        session = config.BuildSessionFactory();\n",
    "        return session;\n",
    "    }\n",
    "\n",
    "    public void recreateSignalTable() {\n",
    "        new SchemaExport(config.BuildConfiguration()).Execute(false, true, false);\n",
    "    }\n",
    "\n",
    "    public void createSignal(Signal signal) {\n",
    "        session.OpenSession().Save(signal);\n",
    "        session.Close();\n",
    "    }\n",
    "\n",
    "    public IEnumerable<Signal> readSignals() {\n",
    "        var signals = session.OpenSession().Query<Signal>();\n",
    "        session.Close();\n",
    "        return signals;\n",
    "    }\n",
    "\n",
    "    public void updateSignal(Signal signal) {\n",
    "        var session_ = session.OpenSession();\n",
    "        var signal_ = session_.Get<Signal>(signal.id);\n",
    "        \n",
    "        signal_.datetime = signal.datetime;\n",
    "        signal_.source = signal.source;\n",
    "        signal_.type = signal.type;\n",
    "        signal_.additionalData = signal.additionalData;\n",
    "        using (ITransaction transaction = session_.BeginTransaction()){\n",
    "            session_.SaveOrUpdate(signal_);\n",
    "            transaction.Commit();\n",
    "        }\n",
    "        session_.Close();\n",
    "    }\n",
    "\n",
    "    public void deleteSignal(Signal signal) {\n",
    "        var session_ = session.OpenSession();\n",
    "        var signal_ = session_.Get<Signal>(signal.id);\n",
    "        using (ITransaction transaction = session_.BeginTransaction()){\n",
    "            session_.Delete(signal_);\n",
    "            transaction.Commit();\n",
    "        }\n",
    "\n",
    "        session_.Close();\n",
    "    }\n",
    "\n",
    "}\n",
    "\n",
    "CRUDApp program = new CRUDApp();\n",
    "program.recreateSignalTable();\n",
    "\n",
    "//Creating data\n",
    "Console.WriteLine(\"Creating data...\");\n",
    "\n",
    "program.createSignal( new Signal() {\n",
    "    datetime = DateTime.Now,\n",
    "    source = \"App\",\n",
    "    type = 1,\n",
    "    additionalData = null\n",
    "});\n",
    "\n",
    "program.createSignal( new Signal() {\n",
    "    datetime = DateTime.Now,\n",
    "    source = \"App\",\n",
    "    type = 1,\n",
    "    additionalData = \"signal to update\"\n",
    "});\n",
    "\n",
    "\n",
    "program.createSignal( new Signal() {\n",
    "    datetime = DateTime.Now,\n",
    "    source = \"App1\",\n",
    "    type = 2,\n",
    "    additionalData = \"signal to delete\"\n",
    "});\n",
    "\n",
    "\n",
    "program.createSignal( new Signal() {\n",
    "    datetime = DateTime.Now,\n",
    "    source = \"App2\",\n",
    "    type = 3,\n",
    "    additionalData = \"some other signal\"\n",
    "});\n",
    "\n",
    "//Reading data\n",
    "Console.WriteLine(\"\\nReading data..\");\n",
    "\n",
    "program.readSignals().ToList().ForEach(e => Console.WriteLine(e));\n",
    "\n",
    "//Updating data\n",
    "Console.WriteLine(\"\\nUpdating data..\");\n",
    "Console.WriteLine(program.readSignals().ElementAt(1));\n",
    "\n",
    "Signal signalToUpdate = program.readSignals().ElementAt(1);\n",
    "signalToUpdate.type = 0;\n",
    "program.updateSignal(signalToUpdate);\n",
    "\n",
    "Console.WriteLine(program.readSignals().ElementAt(1));\n",
    "\n",
    "//Deleting data\n",
    "Console.WriteLine(\"\\nDeleting data..\");\n",
    "\n",
    "Signal signalToDelete = program.readSignals().ElementAt(2);\n",
    "program.deleteSignal(signalToDelete);\n",
    "program.readSignals().ToList().ForEach(e => Console.WriteLine(e));\n",
    "\n"
   ]
  },
  {
   "attachments": {},
   "cell_type": "markdown",
   "metadata": {
    "dotnet_interactive": {
     "language": "csharp"
    },
    "polyglot_notebook": {
     "kernelName": "csharp"
    }
   },
   "source": [
    "### Rozwiązanie 2 zadania 1\n",
    "Prymitywne podejście do korzystania z SQLa w C#"
   ]
  },
  {
   "cell_type": "code",
   "execution_count": 17,
   "metadata": {
    "dotnet_interactive": {
     "language": "csharp"
    },
    "polyglot_notebook": {
     "kernelName": "csharp"
    },
    "vscode": {
     "languageId": "polyglot-notebook"
    }
   },
   "outputs": [
    {
     "name": "stdout",
     "output_type": "stream",
     "text": [
      "Creating data...\n",
      "\n",
      "Reading data...\n",
      "03-07-2023 18:57:24.0000 App      warning                                      0                               \n",
      "03-07-2023 18:57:24.0000 App      warning     another one                      1                               \n",
      "03-07-2023 18:57:24.0000 App1     error       signal to update                 2                               \n",
      "03-07-2023 18:57:24.0000 App2     critical    do not delete                    3                               \n",
      "\n",
      "Updating data...\n",
      "07-03-2023 18:57:24.0000 App1     information signal to update                 2                               \n",
      "\n",
      "Deleting data...\n",
      "07-03-2023 18:57:24.0000 App1     information signal to update                 2                               \n",
      "03-07-2023 18:57:24.0000 App2     critical    do not delete                    3                               \n"
     ]
    }
   ],
   "source": [
    "using System;\n",
    "using System.IO;\n",
    "using System.Data;\n",
    "using System.Data.SqlClient;\n",
    "\n",
    "public class EventSignal {\n",
    "\n",
    "    public DateTime datetime {get; set;}\n",
    "    public String source {get; set;}\n",
    "    public int type {get; set;}\n",
    "    public  String additionalData {get; set;}\n",
    "    public int id {get; set;}\n",
    "\n",
    "    public EventSignal(String source, int type, String additionalData, int id) {\n",
    "        datetime = DateTime.Now;\n",
    "        this.source = source;\n",
    "        this.type = type;\n",
    "        this.additionalData = additionalData;\n",
    "        this.id = id;\n",
    "    }\n",
    "\n",
    "    public EventSignal() {}\n",
    "\n",
    "    public String getTypeName() {\n",
    "        switch(type) {\n",
    "            case 0: return \"information\";\n",
    "            case 1: return \"warning\";\n",
    "            case 2: return \"error\";\n",
    "            case 3: return \"critical\";\n",
    "        }\n",
    "        return null;\n",
    "    }\n",
    "\n",
    "    override\n",
    "    public String ToString(){\n",
    "        return String.Format(\n",
    "            \"{0,-24:dd-MM-yyyy HH:mm:ss.ffff} {1,-8} {2,-11} {3,-32} {4,-32}\", \n",
    "            datetime, source, getTypeName(), additionalData, id);\n",
    "    }\n",
    "\n",
    "}\n",
    "\n",
    "/*\n",
    "Lokalna baza danych: SQL Server Express 2019\n",
    "https://learn.microsoft.com/en-us/sql/database-engine/configure-windows/sql-server-express-localdb?view=sql-server-ver16\n",
    "*/\n",
    "\n",
    "public class CRUDApp{\n",
    "\n",
    "    private SqlConnection connection;\n",
    "    public string dir{get;}\n",
    "    private SqlCommand cmd;\n",
    "\n",
    "    public CRUDApp(){\n",
    "        connection = new SqlConnection(@\"Server=localhost\\SQLEXPRESS01;Database=master;Trusted_Connection=True;\");\n",
    "        cmd = new SqlCommand();\n",
    "        cmd.Connection = connection;\n",
    "\n",
    "        dir = Directory.GetCurrentDirectory();\n",
    "        cmd.CommandText = string.Format(@\"\n",
    "            IF NOT EXISTS\n",
    "            (   SELECT * \n",
    "                FROM sys.databases \n",
    "                WHERE name = 'EventSignals' ) \n",
    "            CREATE DATABASE EventSignals ON PRIMARY\n",
    "            (   NAME = EventSignals, FILENAME = '{0}\\EventSignals.mdf' )\n",
    "        \", dir);\n",
    "        connection.Open();\n",
    "        cmd.ExecuteNonQuery();\n",
    "        connection.ChangeDatabase(@\"EventSignals\");\n",
    "    }\n",
    "\n",
    "    public void dropDatabase(){\n",
    "        dropTable();\n",
    "        connection.ChangeDatabase(@\"master\");\n",
    "        cmd.CommandText = @\"\n",
    "            DROP DATABASE IF EXISTS EventSignals\";\n",
    "        cmd.ExecuteNonQuery();\n",
    "        \n",
    "        connection.Close();\n",
    "    }\n",
    "\n",
    "    public void disconnect() {\n",
    "        connection.Close();\n",
    "    }\n",
    "\n",
    "    public void createTable() {\n",
    "        try {\n",
    "            cmd.CommandText = @\"\n",
    "                CREATE TABLE Signals (\n",
    "                    datetime DATETIME,\n",
    "                    source VARCHAR(8),\n",
    "                    type INT,\n",
    "                    additional VARCHAR(32),\n",
    "                    id INT NOT NULL,\n",
    "                    PRIMARY KEY (id)\n",
    "                )\n",
    "            \";\n",
    "            cmd.ExecuteNonQuery();\n",
    "        } \n",
    "        catch(SqlException) {\n",
    "            Console.WriteLine(\"Table already exists.\");\n",
    "        }\n",
    "    }\n",
    "\n",
    "    public void dropTable() {\n",
    "        cmd.CommandText = @\"\n",
    "            DROP TABLE IF EXISTS Signals\";\n",
    "        cmd.ExecuteNonQuery();\n",
    "    }\n",
    "\n",
    "    public void createData(EventSignal es) {\n",
    "        try{\n",
    "            connection.ChangeDatabase(@\"EventSignals\");\n",
    "            cmd.CommandText = string.Format(@\"\n",
    "                INSERT INTO Signals (datetime, source, type, additional, id)\n",
    "                VALUES ('{0}', '{1}', '{2}', '{3}', '{4}');\n",
    "                \", es.datetime, es.source, es.type, es.additionalData, es.id);\n",
    "            cmd.ExecuteNonQuery();\n",
    "        }\n",
    "        catch(SqlException e) {\n",
    "            e.Display();\n",
    "        }\n",
    "    }\n",
    "\n",
    "    public void createData(List<EventSignal> ess) {\n",
    "        foreach (EventSignal es in ess)\n",
    "            createData(es);\n",
    "    }\n",
    "\n",
    "    public EventSignal readData(int id) {\n",
    "        var datatable = new DataTable(\"Signals\");\n",
    "\n",
    "        try {\n",
    "            cmd.CommandText = string.Format(@\"\n",
    "                SELECT * FROM Signals WHERE id={0}\n",
    "            \", id);\n",
    "            new SqlDataAdapter(cmd).Fill(datatable);\n",
    "            var row = datatable.Rows[0];\n",
    "            var es = new EventSignal() {\n",
    "                datetime = DateTime.Parse(row.ItemArray[0].ToString()),\n",
    "                source = row.ItemArray[1].ToString(),\n",
    "                type = int.Parse(row.ItemArray[2].ToString()),\n",
    "                additionalData = row.ItemArray[3].ToString(),\n",
    "                id = int.Parse(row.ItemArray[4].ToString())\n",
    "            };\n",
    "            return es;\n",
    "        }\n",
    "        catch(SqlException e) {\n",
    "            e.Display();\n",
    "        }\n",
    "\n",
    "        return null;\n",
    "    }\n",
    "\n",
    "    public List<EventSignal> readData() {\n",
    "        var datatable = new DataTable(\"Signals\");\n",
    "        var ess = new List<EventSignal>();\n",
    "\n",
    "        try {\n",
    "            cmd.CommandText = @\"\n",
    "                SELECT * FROM Signals\n",
    "            \";\n",
    "            new SqlDataAdapter(cmd).Fill(datatable);\n",
    "            foreach(DataRow row in datatable.Rows) {\n",
    "                ess.Add(\n",
    "                    new EventSignal() {\n",
    "                        datetime = DateTime.Parse(row.ItemArray[0].ToString()),\n",
    "                        source = row.ItemArray[1].ToString(),\n",
    "                        type = int.Parse(row.ItemArray[2].ToString()),\n",
    "                        additionalData = row.ItemArray[3].ToString(),\n",
    "                        id = int.Parse(row.ItemArray[4].ToString())\n",
    "                    }\n",
    "                );\n",
    "            }\n",
    "            return ess;\n",
    "        }\n",
    "        catch(SqlException e) {\n",
    "            e.Display();\n",
    "        }\n",
    "        return new List<EventSignal>();\n",
    "    }\n",
    "\n",
    "    public void updateData(EventSignal es) {\n",
    "        try {\n",
    "            cmd.CommandText = string.Format(@\"\n",
    "                UPDATE Signals \n",
    "                SET \n",
    "                    datetime = '{1}',\n",
    "                    source = '{2}',\n",
    "                    type = '{3}',\n",
    "                    additional = '{4}'\n",
    "                WHERE id={0}\n",
    "            \", es.id, es.datetime, es.source, es.type, es.additionalData);\n",
    "            cmd.ExecuteNonQuery();\n",
    "        }\n",
    "        catch(SqlException e) {\n",
    "            e.Display();\n",
    "        }\n",
    "    }\n",
    "\n",
    "    public void deleteData(int id) {\n",
    "        try {\n",
    "            cmd.CommandText = string.Format(@\"\n",
    "                DELETE FROM Signals\n",
    "                WHERE id={0}\n",
    "            \", id);\n",
    "            cmd.ExecuteNonQuery();\n",
    "        }\n",
    "        catch(SqlException e) {\n",
    "            e.Display();\n",
    "        }\n",
    "    }\n",
    "\n",
    "}\n",
    "\n",
    "/*  \n",
    "    Example\n",
    "    W tym przykładzie zsotanie utworzona baza danych,\n",
    "    do której zostanie zapisana lista sygnałów.\n",
    "    Bezpośrednio na bazie lokalnej zostanie wykonana \n",
    "    operacja uaktualniania oraz usuwania danych.\n",
    "    Po każdej z tych operacji zmiany będą widoczne w konsoli.\n",
    "\n",
    "    Dla celów demonstracyjnych, każdorazowe uruchomienie\n",
    "    skryptu powoduje utworzenie bazy danych, tabeli,\n",
    "    wykonanie celów zadania oraz usunięcie bazy danych i\n",
    "    zamknięcie połączenia.\n",
    "\n",
    "    Jako serwer lokalny bazy danych wykorzystaliśmy SQLEXPRESS.\n",
    "*/\n",
    "\n",
    "var db = new CRUDApp();\n",
    "db.createTable();\n",
    "\n",
    "//Creating data\n",
    "Console.WriteLine(\"Creating data...\");\n",
    "var evsToUpload = new List<EventSignal> {\n",
    "    new EventSignal(\"App\", 1, null, 0),\n",
    "    new EventSignal(\"App\", 1, \"another one\", 1),\n",
    "    new EventSignal(\"App1\", 2, \"signal to update\", 2),\n",
    "    new EventSignal(\"App2\", 3, \"do not delete\", 3),\n",
    "};\n",
    "db.createData(evsToUpload);\n",
    "\n",
    "//Reading data\n",
    "Console.WriteLine(\"\\nReading data...\");\n",
    "foreach (EventSignal es in db.readData()){\n",
    "    Console.WriteLine(es.ToString());\n",
    "}\n",
    "\n",
    "//Updating data\n",
    "Console.WriteLine(\"\\nUpdating data...\");\n",
    "var evToUpdate = db.readData(2);\n",
    "evToUpdate.type = 0;\n",
    "db.updateData(evToUpdate);\n",
    "\n",
    "Console.WriteLine( db.readData(2).ToString() );\n",
    "\n",
    "//Deleting data\n",
    "Console.WriteLine(\"\\nDeleting data...\");\n",
    "db.deleteData(0);\n",
    "db.deleteData(1);\n",
    "\n",
    "foreach (EventSignal es in db.readData()){\n",
    "    Console.WriteLine(es.ToString());\n",
    "}\n",
    "\n",
    "db.dropDatabase();\n",
    "db.disconnect();"
   ]
  },
  {
   "attachments": {},
   "cell_type": "markdown",
   "metadata": {
    "dotnet_interactive": {
     "language": "csharp"
    },
    "polyglot_notebook": {
     "kernelName": "csharp"
    }
   },
   "source": [
    "### Zadanie 2\n",
    "\n",
    "Do zadania 2 z laboratorium 1 dodaj obsługę bazy danych."
   ]
  },
  {
   "cell_type": "code",
   "execution_count": 92,
   "metadata": {
    "dotnet_interactive": {
     "language": "csharp"
    },
    "polyglot_notebook": {
     "kernelName": "csharp"
    },
    "vscode": {
     "languageId": "polyglot-notebook"
    }
   },
   "outputs": [
    {
     "name": "stdout",
     "output_type": "stream",
     "text": [
      "\n",
      " KARTOTEKA:\n",
      " imie             nazwisko         wiek  stanowisko       plec\n",
      "| Szymon         | Zielinski      | 21  | Employee       | m |\n",
      "| Patryk         | Pirog          | 23  | Manager        | m |\n",
      "| Jan            | Kowalski       | 28  | Employee       | m |\n",
      "\n",
      "Zapisano do bazy danych: True\n",
      " imie             nazwisko         wiek  stanowisko       plec\n",
      "| Szymon         | Zielinski      | 21  | Employee       | m |\n",
      "| Patryk         | Pirog          | 23  | Manager        | m |\n",
      "| Jan            | Kowalski       | 28  | Employee       | m |\n"
     ]
    }
   ],
   "source": [
    "using System.Collections.Generic;\n",
    "using System.IO;\n",
    "using System.Data.SQLite;\n",
    "using FluentNHibernate.Cfg.Db;\n",
    "using FluentNHibernate.Mapping;\n",
    "\n",
    "\n",
    "public class Pracownik {\n",
    "\n",
    "    public virtual String imie {get; set;}\n",
    "    public virtual String nazwisko {get; set;}\n",
    "    public virtual int wiek {get; set;}\n",
    "    public virtual String stanowisko {get; set;}\n",
    "    public virtual String plec {get; set;}\n",
    "\n",
    "    // walidacja czy wszystkie dane są wprowadzone\n",
    "    public virtual bool Validate(){\n",
    "        if (string.IsNullOrEmpty(imie) || string.IsNullOrEmpty(nazwisko) || wiek == 0 || string.IsNullOrEmpty(stanowisko)) {\n",
    "            Console.WriteLine(\"Pracownik zawiera puste atrybuty\");\n",
    "            Console.WriteLine(Show());\n",
    "            return false;\n",
    "        }\n",
    "        return true;\n",
    "    }\n",
    "\n",
    "    // metoda show wyświetlająca pracownika\n",
    "    public virtual string Show() {\n",
    "        return string.Format(\n",
    "            \"| {0,-15}| {1,-15}| {2,-4}| {3,-15}| {4,-2}|\",\n",
    "            imie, nazwisko, wiek, stanowisko, plec);\n",
    "    }\n",
    "\n",
    "    // sprawdzenie czy istnieje juz pracownik\n",
    "    public virtual bool IsMatch(Pracownik pracownik){\n",
    "        if( imie == pracownik.imie && \n",
    "            nazwisko == pracownik.nazwisko &&\n",
    "            wiek == pracownik.wiek &&\n",
    "            stanowisko == pracownik.stanowisko &&\n",
    "            plec == pracownik.plec)\n",
    "                return true;\n",
    "            else return false;\n",
    "    }\n",
    "\n",
    "}\n",
    "\n",
    "//Klasa generyczna kartoteka, pracownicy składowani w liście\n",
    "public class Kartoteka<T> where T : Pracownik{\n",
    "\n",
    "    public List<T> baza {get; set;} = new List<T>();\n",
    "\n",
    "    public void Dodaj(T pracownik) {\n",
    "        if(pracownik.Validate() == true && IsExist(pracownik)) baza.Add(pracownik);\n",
    "    }\n",
    "\n",
    "    public void Usun(T pracownik) {\n",
    "        baza.Remove(pracownik);\n",
    "    }\n",
    "\n",
    "    // czy juz jest obiekt o takich samych atrybutach\n",
    "    public bool IsExist(T pracownik) {\n",
    "        if (baza.Any(x => x.IsMatch(pracownik) == true)) {\n",
    "            Console.WriteLine(\"\\n Istnieje juz taki pracownik\");\n",
    "            Console.WriteLine(pracownik.Show());\n",
    "            return false;\n",
    "        }\n",
    "        else return true;\n",
    "    }\n",
    "\n",
    "    // do wyswietlania\n",
    "    public void Wyswietl() {\n",
    "        Console.WriteLine(\n",
    "            string.Format(\n",
    "                \" {0,-15}  {1,-15}  {2,-4}  {3,-15}  {4,-2}\", \n",
    "                \"imie\", \"nazwisko\", \"wiek\", \"stanowisko\", \"plec\"));\n",
    "\n",
    "        foreach(T a in baza) {\n",
    "            Console.WriteLine(a.Show());\n",
    "        }\n",
    "    }\n",
    "\n",
    "    public void Szukaj(String name) {\n",
    "        Console.WriteLine(\"\\nPracownik o imieniu:  \\\"{0}\\\":\", name.ToLower());\n",
    "        foreach(T a in baza) {\n",
    "            if (a.Show().ToLower().Contains(name.ToLower()))\n",
    "            {\n",
    "                Console.WriteLine(a.Show());\n",
    "            }\n",
    "        }\n",
    "    }    \n",
    "\n",
    "    public bool Save(IBuilder builder) {\n",
    "        return builder.Save(this);\n",
    "    }\n",
    "\n",
    "    public bool Read(IBuilder builder) {\n",
    "        var loaded = builder.Read(\"Kartoteka.json\");\n",
    "        return true;\n",
    "    }\n",
    "\n",
    "    public interface IBuilder {\n",
    "        bool Save(Kartoteka<T> baza);\n",
    "        Kartoteka<T> Read(String fileName);\n",
    "    }\n",
    "    \n",
    "}\n",
    "\n",
    "public class PracownikMap : ClassMap<Pracownik> {\n",
    "    public PracownikMap() {\n",
    "        Table(\"Employees\");\n",
    "\n",
    "        Map(x => x.imie);\n",
    "        Id(x => x.nazwisko);\n",
    "        Map(x => x.wiek);\n",
    "        Map(x => x.stanowisko);\n",
    "        Map(x => x.plec);\n",
    "    }\n",
    "\n",
    "}\n",
    "\n",
    "public class SQLBuilder : Kartoteka<Pracownik>.IBuilder {\n",
    "\n",
    "    public ISessionFactory session {get; set;}\n",
    "    public FluentConfiguration config {get; set;}\n",
    "\n",
    "    public SQLBuilder() {\n",
    "        connectToDatabase();\n",
    "    }\n",
    "\n",
    "    public ISessionFactory connectToDatabase(){\n",
    "        if (session != null)\n",
    "            return session;\n",
    "\n",
    "        config = Fluently.Configure()\n",
    "            .Database(SQLiteConfiguration.Standard\n",
    "                .UsingFile(\"database2.db\")\n",
    "            )\n",
    "            .Mappings(m => m.FluentMappings.AddFromAssemblyOf<PracownikMap>())\n",
    "            .ExposeConfiguration(cfg => new SchemaUpdate(cfg).Execute(false, true));\n",
    "        \n",
    "        session = config.BuildSessionFactory();\n",
    "        return session;\n",
    "    }\n",
    "\n",
    "        public void recreateSignalTable() {\n",
    "        new SchemaExport(config.BuildConfiguration()).Execute(false, true, false);\n",
    "    }\n",
    "    \n",
    "    public bool Save(Kartoteka<Pracownik> baza) {\n",
    "        if (typeof(Kartoteka<Pracownik>).Equals(baza.GetType())) {\n",
    "            var session_ = session.OpenSession();\n",
    "            var transaction = session_.BeginTransaction();\n",
    "            foreach(Pracownik emp in baza.baza.ToList()){\n",
    "                session_.Save(emp);\n",
    "            }\n",
    "            transaction.Commit();\n",
    "            session_.Close();\n",
    "            return true;\n",
    "        }\n",
    "        return false;\n",
    "    }\n",
    "\n",
    "    public Kartoteka<Pracownik> Read() {\n",
    "        var emps = session.OpenSession().Query<Pracownik>();\n",
    "        session.Close();\n",
    "        return new Kartoteka<Pracownik>() { baza = emps.ToList() };\n",
    "    }\n",
    "\n",
    "    public Kartoteka<Pracownik> Read(String name) {\n",
    "        return Read();\n",
    "    }\n",
    "\n",
    "}\n",
    "\n",
    "var kartoteka = new Kartoteka<Pracownik>();\n",
    "kartoteka.Dodaj(new Pracownik(){imie = \"Szymon\", nazwisko = \"Zielinski\", wiek = 21, stanowisko = \"Employee\", plec = \"m\"});\n",
    "kartoteka.Dodaj(new Pracownik(){imie = \"Patryk\", nazwisko = \"Pirog\", wiek = 23, stanowisko = \"Manager\", plec = \"m\"});\n",
    "kartoteka.Dodaj(new Pracownik(){imie = \"Jan\", nazwisko = \"Kowalski\", wiek = 28, stanowisko = \"Employee\", plec = \"m\"});\n",
    "\n",
    "Console.WriteLine(\"\\n KARTOTEKA:\");\n",
    "kartoteka.Wyswietl();\n",
    "\n",
    "var sqlbuilder = new SQLBuilder();\n",
    "sqlbuilder.recreateSignalTable();\n",
    "\n",
    "Console.WriteLine();\n",
    "Console.WriteLine(@\"Zapisano do bazy danych: {0}\", kartoteka.Save(sqlbuilder));\n",
    "\n",
    "var drugaKartoteka = sqlbuilder.Read();\n",
    "drugaKartoteka.Wyswietl();"
   ]
  },
  {
   "cell_type": "markdown",
   "metadata": {
    "dotnet_interactive": {
     "language": "csharp"
    },
    "polyglot_notebook": {
     "kernelName": "csharp"
    }
   },
   "source": [
    "### Zadanie 3\n",
    "\n",
    "Napisz klasę do logowania błędów. Zdarzenia powinny być logowane do bazy danych jako *bulk load*. Klasa powinna obsługiwać dwie bazy danych - główną (dowolna relacyjna baza danych) i lokalna (na dane tymczasowe). Schemat logowania jest następujący:\n",
    "- jeśli baza danych (operacyjna) jest niedostępna logowanie powinno nastąpić do lokalnej bazy danych,\n",
    "- jeśli połączenie do głównej bazy głównej zostanie przywrócone, klasa powinna przenieść wszystkie dane z lokalnej bazy danych do głównej.\n",
    "\n",
    "Należy pamiętać o unikalności klucza głównego."
   ]
  },
  {
   "cell_type": "code",
   "execution_count": 19,
   "metadata": {
    "dotnet_interactive": {
     "language": "csharp"
    },
    "polyglot_notebook": {
     "kernelName": "csharp"
    },
    "vscode": {
     "languageId": "polyglot-notebook"
    }
   },
   "outputs": [],
   "source": [
    "using System;\n",
    "using System.Data.SqlClient;\n",
    "using System.Data;\n",
    "\n",
    "class ErrorLogger {\n",
    "    private SqlConnection mainDbConnection;\n",
    "    private SqlConnection localDbConnection;\n",
    "    private DataTable localErrorLog;\n",
    "\n",
    "    public ErrorLogger(string mainDbConnectionString, string localDbConnectionString) {\n",
    "        mainDbConnection = new SqlConnection(mainDbConnectionString);\n",
    "        localDbConnection = new SqlConnection(localDbConnectionString);\n",
    "        localErrorLog = new DataTable();\n",
    "        localErrorLog.Columns.Add(\"Date\", typeof(DateTime));\n",
    "        localErrorLog.Columns.Add(\"Source\", typeof(string));\n",
    "        localErrorLog.Columns.Add(\"Type\", typeof(string));\n",
    "        localErrorLog.Columns.Add(\"AdditionalData\", typeof(string));\n",
    "        localErrorLog.Columns.Add(\"ID\", typeof(string));\n",
    "        localErrorLog.PrimaryKey = new DataColumn[] { localErrorLog.Columns[\"Identifier\"] };\n",
    "    }\n",
    "\n",
    "    public void LogError(DateTime errorDate, string errorSource, string errorType, string additionalData, string identifier) {\n",
    "        try {\n",
    "            using (SqlCommand command = new SqlCommand(\"INSERT INTO ErrorLog (Date, Source, Type, AdditionalData, ID) VALUES (@Date, @Source, @Type, @AdditionalData, @ID)\", mainDbConnection)) {\n",
    "                command.Parameters.AddWithValue(\"@Date\", errorDate);\n",
    "                command.Parameters.AddWithValue(\"@Source\", errorSource);\n",
    "                command.Parameters.AddWithValue(\"@Type\", errorType);\n",
    "                command.Parameters.AddWithValue(\"@AdditionalData\", additionalData);\n",
    "                command.Parameters.AddWithValue(\"@ID\", identifier);\n",
    "                command.ExecuteNonQuery();\n",
    "            }\n",
    "        }\n",
    "        catch (SqlException) {\n",
    "            localErrorLog.Rows.Add(errorDate, errorSource, errorType, additionalData, identifier);\n",
    "        }\n",
    "    }\n",
    "\n",
    "    public void CheckMainDbConnection() {\n",
    "        if (mainDbConnection.State == ConnectionState.Closed) {\n",
    "            mainDbConnection.Open();\n",
    "        }\n",
    "\n",
    "        if (mainDbConnection.State == ConnectionState.Open) {\n",
    "            using (SqlBulkCopy bulkCopy = new SqlBulkCopy(mainDbConnection)) {\n",
    "                bulkCopy.DestinationTableName = \"ErrorLog\";\n",
    "                bulkCopy.WriteToServer(localErrorLog);\n",
    "            }\n",
    "            localErrorLog.Clear();\n",
    "        }\n",
    "    }\n",
    "}"
   ]
  }
 ],
 "metadata": {
  "kernelspec": {
   "display_name": ".NET (C#)",
   "language": "C#",
   "name": ".net-csharp"
  },
  "polyglot_notebook": {
   "kernelInfo": {
    "defaultKernelName": "csharp",
    "items": [
     {
      "aliases": [
       "c#",
       "C#"
      ],
      "languageName": "C#",
      "name": "csharp"
     },
     {
      "aliases": [],
      "name": ".NET"
     },
     {
      "aliases": [
       "f#",
       "F#"
      ],
      "languageName": "F#",
      "name": "fsharp"
     },
     {
      "aliases": [],
      "languageName": "HTML",
      "name": "html"
     },
     {
      "aliases": [],
      "languageName": "KQL",
      "name": "kql"
     },
     {
      "aliases": [],
      "languageName": "Mermaid",
      "name": "mermaid"
     },
     {
      "aliases": [
       "powershell"
      ],
      "languageName": "PowerShell",
      "name": "pwsh"
     },
     {
      "aliases": [],
      "languageName": "SQL",
      "name": "sql"
     },
     {
      "aliases": [],
      "name": "value"
     },
     {
      "aliases": [
       "frontend"
      ],
      "languageName": null,
      "name": "vscode"
     },
     {
      "aliases": [
       "js"
      ],
      "languageName": "JavaScript",
      "name": "javascript"
     },
     {
      "aliases": [],
      "name": "webview"
     }
    ]
   }
  }
 },
 "nbformat": 4,
 "nbformat_minor": 2
}

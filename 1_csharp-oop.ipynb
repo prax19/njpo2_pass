{
 "cells": [
  {
   "cell_type": "markdown",
   "metadata": {
    "dotnet_interactive": {
     "language": "csharp"
    },
    "polyglot_notebook": {
     "kernelName": "csharp"
    }
   },
   "source": [
    "# Programowanie obiektowe w języku *C#*\n",
    "\n",
    "## Wstęp\n",
    "\n",
    "Klasa to pojemnik na dane i metody. Może posiadać:\n",
    "\n",
    "* nazwę,\n",
    "* pola,\n",
    "* właściwości,\n",
    "* zdarzenia,\n",
    "* konstruktory/destruktory,\n",
    "* metody (w tym przedefiniowane operatory np. dodawania).\n",
    "\n",
    "*Nazwa* to identyfikator typu klasy. W momencie tworzenia instancji klasy nazwa ta jest przekazywana za słowem kluczowym `new`. Pole to zmienna, która przynależy do klasy i zawiera dane, które są procesowane przez funkcje. *Właściwości* podobnie jak pola zawierają dane, ale mogą zawierać dodatkowe fragmenty kodu. Mogą posiadać dodatkowe modyfikatory dostępu. *Zdarzenia* pozwalają użytkownikowi podłączyć się do powiadomień, które klasa wyzwala. Używane są głównie w programowaniu zdarzeniowym oraz programowania `GUI`. *Konstruktor* i *destruktor* zawierają instrukcje, które zostaną wykonane w momencie kolejno, tworzenia i zwalniania instancji klasy. Zwykle *konstruktor* zawiera fragmenty kodu odpowiedzialne za przydział zasobów i inicjalizację zmiennych, a *destruktor* zwalnianie zasobów niezarządzanych (które nie są zarządzane przez `garbage collector`). *Metody* to funkcje, które są własnością klasy.\n",
    "\n",
    "Poniższy listing przedstawia przykładową deklarację i użycie klasy: "
   ]
  },
  {
   "cell_type": "code",
   "execution_count": 331,
   "metadata": {
    "dotnet_interactive": {
     "language": "csharp"
    },
    "vscode": {
     "languageId": "polyglot-notebook"
    }
   },
   "outputs": [
    {
     "ename": "Error",
     "evalue": "(4,25): error CS1519: Nieprawidłowy token „;” w deklaracji składowej klasy, rekordu, struktury lub interfejsu\r\n(4,25): error CS1519: Nieprawidłowy token „;” w deklaracji składowej klasy, rekordu, struktury lub interfejsu",
     "output_type": "error",
     "traceback": [
      "(4,25): error CS1519: Nieprawidłowy token „;” w deklaracji składowej klasy, rekordu, struktury lub interfejsu\r\n",
      "(4,25): error CS1519: Nieprawidłowy token „;” w deklaracji składowej klasy, rekordu, struktury lub interfejsu"
     ]
    }
   ],
   "source": [
    "public class SimpleClass //nazwa\n",
    "{\n",
    "   public int Field; //pole\n",
    "   public readonly Field; //tylko do odczytu oprócz konstruktora\n",
    "   public int Property { get; set; } //właściwość\n",
    "   public int PropWithDefault { get; set; } = 12; //właściwość zainicjowana\n",
    "   public int PropWithInit { get; init; } //tylko do odczytu oprócz wyrażenia tworzącego instancję obiektu\n",
    "   public SimpleClass(){} //konstruktor\n",
    "   ~SimpleClass(){} //destruktor\n",
    "   public void DoSomething(int field) //funkcja klasy\n",
    "   {\n",
    "      Field = field;\n",
    "   }\n",
    "}\n",
    "\n",
    "SimpleClass instance1 = new SimpleClass(); //nowa instancja\n",
    "var instance2 = new SimpleClass(); //nowa instancja 2\n",
    "SimpleClass instance1 = new(); //nowa instancja 3 (C# 9)"
   ]
  },
  {
   "cell_type": "markdown",
   "metadata": {
    "dotnet_interactive": {
     "language": "csharp"
    },
    "polyglot_notebook": {
     "kernelName": "csharp"
    }
   },
   "source": [
    "Słowo kluczowe `init` oznacza tutaj, że tylko w wyrażeniu, które tworzy obiekt, można przypisać zmiennej wartość.\n",
    "\n",
    "Należy oddzielić deklarację klasy od jej instancji. Klasa to byt logiczny, jego fizyczną reprezentację stanowi instancja, która znajduje się w pamięci komputera.\n",
    "\n",
    "## Funkcje i ich argumenty\n",
    "\n",
    "Argumenty do funkcji można przekazywać na wiele sposób. W języku C# domyślnie argumenty przekazywane są przez wartość. Wewnątrz funkcji każdy taki obiekt jest kopią zmiennej, która jest przekazywana do funkcji. W przypadku typów prostych (value type jak int, float, double) zmiana wartości takiej zmiennej wewnątrz funkcji nie powoduje zmiany przekazywanej funkcji. Jest to prawidłowe zachowanie, gdyż zgodnie z dobrymi praktykami, funkcja powinna przetwarzać dane, na podstawie parametrów przekazywanych jako argumenty. Ilustruje to poniższy przykład."
   ]
  },
  {
   "cell_type": "code",
   "execution_count": 332,
   "metadata": {
    "dotnet_interactive": {
     "language": "csharp"
    },
    "vscode": {
     "languageId": "polyglot-notebook"
    }
   },
   "outputs": [
    {
     "name": "stdout",
     "output_type": "stream",
     "text": [
      "PassValueType argument: 2\n",
      "Argument: 1\n"
     ]
    }
   ],
   "source": [
    "public void PassValueType(int argument) {\n",
    "    argument = 2;\n",
    "    Console.WriteLine($\"PassValueType argument: {argument}\");\n",
    "}\n",
    "\n",
    "var argument = 1;\n",
    "\n",
    "PassValueType(argument);\n",
    "\n",
    "Console.WriteLine($\"Argument: {argument}\");"
   ]
  },
  {
   "cell_type": "markdown",
   "metadata": {
    "dotnet_interactive": {
     "language": "csharp"
    },
    "polyglot_notebook": {
     "kernelName": "csharp"
    }
   },
   "source": [
    "Powyższy problem można rozwiązać na trzy sposoby. \n",
    "\n",
    "1. Funkcja może zwracać zmodyfikowany argument.\n",
    "2. Jeśli funkcja zmienia argument oznacza to, że może zostać ona wydzielona jako pole lub właściwość całej klasy, a nie zmienna lokalna.\n",
    "3. Można dodać słowo kluczowe **`ref`** w ten sposób mówiąc kompilatorowi, że ma przekazać adres zmiennej, a nie tworzyć jej kopii.\n",
    "\n",
    "Użycie słowa kluczowego **`ref`** ma dwa zastosowania, jedno popularne (dla typów prostych), drugie mniej znane (dla typów referencyjnych jak klasa). Najpierw zostanie omówione pierwsze zastosowanie, które naprawia powyższy problem z przekazywaniem kopii zmiennej."
   ]
  },
  {
   "cell_type": "code",
   "execution_count": 333,
   "metadata": {
    "dotnet_interactive": {
     "language": "csharp"
    },
    "vscode": {
     "languageId": "polyglot-notebook"
    }
   },
   "outputs": [
    {
     "name": "stdout",
     "output_type": "stream",
     "text": [
      "PassValueTypeRef argument: 2\n",
      "Argument: 2\n"
     ]
    }
   ],
   "source": [
    "public void PassValueTypeByRef(ref int argument) {\n",
    "    argument = 2;\n",
    "    Console.WriteLine($\"PassValueTypeRef argument: {argument}\");\n",
    "}\n",
    "\n",
    "var argument = 1;\n",
    "\n",
    "PassValueTypeByRef(ref argument);\n",
    "\n",
    "Console.WriteLine($\"Argument: {argument}\");"
   ]
  },
  {
   "cell_type": "markdown",
   "metadata": {
    "dotnet_interactive": {
     "language": "csharp"
    },
    "polyglot_notebook": {
     "kernelName": "csharp"
    }
   },
   "source": [
    "Jak widać na powyższym przykładzie, słowo kluczowe **`ref`** należy użyć w dwóch miejscach, w momencie wywoływania funkcji i jej deklaracji. \n",
    "\n",
    "Drugim mniej istotnym, a co za tym idzie mniej popularnym zastosowaniem jest inicjalizacja klasy. Bez słowa kluczowego **`ref`**, kompilator przekaże kopię zmiennej wskaźnikowej na typ. Problem pojawia się w momencie inicjalizacji klasy i przekazania adresu do utworzonej kopii zmiennej wewnątrz funkcji. Ilustruje to poniższy kod."
   ]
  },
  {
   "cell_type": "code",
   "execution_count": 334,
   "metadata": {
    "dotnet_interactive": {
     "language": "csharp"
    },
    "vscode": {
     "languageId": "polyglot-notebook"
    }
   },
   "outputs": [
    {
     "name": "stdout",
     "output_type": "stream",
     "text": [
      "Argument before call: 1\n",
      "PassRefType argument: 2\n",
      "PassRefType argument: 3\n",
      "Argument after call: 2\n"
     ]
    }
   ],
   "source": [
    "public class ClassContainer \n",
    "{\n",
    "    public int Value { get; set; }\n",
    "}\n",
    "\n",
    "public void PassRefType(ClassContainer container) \n",
    "{\n",
    "    container.Value = 2;\n",
    "    Console.WriteLine($\"PassRefType argument: {container.Value}\");\n",
    "\n",
    "    container = new ClassContainer() { Value = 3 };\n",
    "    Console.WriteLine($\"PassRefType argument: {container.Value}\");\n",
    "}\n",
    "\n",
    "var container = new ClassContainer() { Value = 1 };\n",
    "\n",
    "Console.WriteLine($\"Argument before call: {container.Value}\");\n",
    "\n",
    "PassRefType(container);\n",
    "\n",
    "Console.WriteLine($\"Argument after call: {container.Value}\");"
   ]
  },
  {
   "cell_type": "markdown",
   "metadata": {
    "dotnet_interactive": {
     "language": "csharp"
    },
    "polyglot_notebook": {
     "kernelName": "csharp"
    }
   },
   "source": [
    "Jak widać na powyższym listingu, w momencie wywołania funkcji powstaje kopia wskaźnika (referencji) do obiektu utworzonego przed wywołaniem funkcji `PassRefType`. Wewnątrz tej funkcji, zmiana wartości zmiennej `value` powoduje zmianę globalnie, co łatwo zaobserwować po tym co zostało wydrukowane na ekranie po wywołaniu funkcji (ostatnia linia kodu). Wracając jednak do funkcji `PassRefType`, po drugiej inicjalizacji obiektu klasy `ClassContainer` wskażnik `container` zawiera już inny adres, niż początkowo. Jednak zmienia się kopia wskaźnika widoczna w przestrzeni nazw funkcji `PassRefType`, a nie wskaźnik `container` zainicjowany jako pierwszy. Problem ten jednak łatwo naprawić przy użyciu **`ref`**, który powoduje przekazanie wskaźnika na wskaźnik, co przedstawia poniższy kod."
   ]
  },
  {
   "cell_type": "code",
   "execution_count": 335,
   "metadata": {
    "dotnet_interactive": {
     "language": "csharp"
    },
    "vscode": {
     "languageId": "polyglot-notebook"
    }
   },
   "outputs": [
    {
     "name": "stdout",
     "output_type": "stream",
     "text": [
      "Argument before call: 1\n",
      "PassRefType argument: 2\n",
      "PassRefType argument: 3\n",
      "Argument after call: 3\n"
     ]
    }
   ],
   "source": [
    "public class ClassContainer \n",
    "{\n",
    "    public int Value { get; set; }\n",
    "}\n",
    "\n",
    "public void PassRefType(ref ClassContainer container) \n",
    "{\n",
    "    container.Value = 2;\n",
    "    Console.WriteLine($\"PassRefType argument: {container.Value}\");\n",
    "\n",
    "    container = new ClassContainer() { Value = 3 };\n",
    "    Console.WriteLine($\"PassRefType argument: {container.Value}\");\n",
    "}\n",
    "\n",
    "var container = new ClassContainer() { Value = 1 };\n",
    "\n",
    "Console.WriteLine($\"Argument before call: {container.Value}\");\n",
    "\n",
    "PassRefType(ref container);\n",
    "\n",
    "Console.WriteLine($\"Argument after call: {container.Value}\");"
   ]
  },
  {
   "cell_type": "markdown",
   "metadata": {
    "dotnet_interactive": {
     "language": "csharp"
    },
    "polyglot_notebook": {
     "kernelName": "csharp"
    }
   },
   "source": [
    "Zmienna container wskazuje na inny obszar pamięci, co łatwo zaobserwować po ostatnim wydruku na ekran wartości zmiennej `value`.\n",
    "\n",
    "Kolejnym słowem kluczowym związanym z przekazywaniem argumentów do funkcji jest **`out`**, który wymusz przekazanie wprost wartości dla zmiennej z tym słowem kluczowym w ciele wywoływanej funkcji."
   ]
  },
  {
   "cell_type": "code",
   "execution_count": 336,
   "metadata": {
    "dotnet_interactive": {
     "language": "csharp"
    },
    "vscode": {
     "languageId": "polyglot-notebook"
    }
   },
   "outputs": [],
   "source": [
    "public void PassWithOut(out string name) {\n",
    "    name = \"Ala\";\n",
    "}\n",
    "\n",
    "string name = null;\n",
    "\n",
    "PassWithOut(out name);"
   ]
  },
  {
   "cell_type": "markdown",
   "metadata": {
    "dotnet_interactive": {
     "language": "csharp"
    },
    "polyglot_notebook": {
     "kernelName": "csharp"
    }
   },
   "source": [
    "Słowo kluczowe **`out`** musi pojawić się w dwóch miejscach, w deklaracji funkcji i jej wywołaniu. Nieprzekazanie tego słowa kluczowego w jednym z miejsc powoduje błąd kompilacji.\n",
    "\n",
    "Dobrą praktyką w przypadku bardziej złożonych funkcji jest w deklaracji funkcji ustawienie parametrów domyślnych. Poniżej znajduje się przykładowa deklaracja tego typu parametrów."
   ]
  },
  {
   "cell_type": "code",
   "execution_count": 337,
   "metadata": {
    "dotnet_interactive": {
     "language": "csharp"
    },
    "vscode": {
     "languageId": "polyglot-notebook"
    }
   },
   "outputs": [
    {
     "name": "stdout",
     "output_type": "stream",
     "text": [
      "Hello\r\n"
     ]
    }
   ],
   "source": [
    "public void PassWithDefaults(string label, int n = 1, int length = 2) {\n",
    "    for (int i = 0; i < n; i++) {\n",
    "        Console.WriteLine(label.Substring(0, length));\n",
    "    }    \n",
    "}\n",
    "\n",
    "PassWithDefaults(\"Hello World\", length: 5);"
   ]
  },
  {
   "cell_type": "markdown",
   "metadata": {
    "dotnet_interactive": {
     "language": "csharp"
    },
    "polyglot_notebook": {
     "kernelName": "csharp"
    }
   },
   "source": [
    "Do funkcji `PassWithDefaults` został przekazany łańcuch znaków \"Hello World\" wraz z drugim domyślnym parametrem `length`. Minimalnie do funkcji należy przekazać parametr `label`. Pozostałe parametry są opcjonalne z wartościami domyślnymi.\n",
    "\n",
    "Ostatnim sposobem na przekazywanie parametrów jest użycie słowa kluczowego **`params`**, które umożliwia agregowanie argumentów w tablice, dzięki czemu w trakcie wywołania funkcji można przekazywać dowolnie wiele argumentów po przecinku."
   ]
  },
  {
   "cell_type": "code",
   "execution_count": 338,
   "metadata": {
    "dotnet_interactive": {
     "language": "csharp"
    },
    "vscode": {
     "languageId": "polyglot-notebook"
    }
   },
   "outputs": [
    {
     "name": "stdout",
     "output_type": "stream",
     "text": [
      "H\n",
      "e\n",
      "l\n",
      "l\n",
      "o\n"
     ]
    }
   ],
   "source": [
    "public void PassWithParams(string label, params int[] indexes) {\n",
    "    foreach(var index in indexes) {\n",
    "        Console.WriteLine(label[index]);\n",
    "    }\n",
    "}\n",
    "\n",
    "PassWithParams(\"Hello World\", 0, 1, 2, 3, 4);"
   ]
  },
  {
   "cell_type": "markdown",
   "metadata": {
    "dotnet_interactive": {
     "language": "csharp"
    },
    "polyglot_notebook": {
     "kernelName": "csharp"
    }
   },
   "source": [
    "## Przeciążenie funkcji\n",
    "\n",
    "Jedną z cech języka C# jest możliwość przeciążenia funkcji (oraz konstruktorów). Oznacza to, że wiele zdefiniowanych funkcji ma takie same nazwy, ale różne argumenty lub co najmniej różne typu argumentów. Wywołanie funkcji musi być jednoznaczne, dlatego w przypadku niejednoznaczności kompilator zwróci błąd."
   ]
  },
  {
   "cell_type": "code",
   "execution_count": 339,
   "metadata": {
    "dotnet_interactive": {
     "language": "csharp"
    },
    "vscode": {
     "languageId": "polyglot-notebook"
    }
   },
   "outputs": [
    {
     "name": "stdout",
     "output_type": "stream",
     "text": [
      "Message\n",
      "Message from exception\n",
      "Prefix: Message from exception\n"
     ]
    }
   ],
   "source": [
    "public void Log(string message) {    \n",
    "    Console.WriteLine(message);\n",
    "}\n",
    "\n",
    "public void Log(Exception exception) {\n",
    "    Console.WriteLine(exception.Message);\n",
    "}\n",
    "\n",
    "public void Log(Exception exception, string customPrefix) {\n",
    "    Console.WriteLine($\"{customPrefix}: {exception.Message}\");\n",
    "}\n",
    "\n",
    "Log(\"Message\");\n",
    "Log(new Exception(\"Message from exception\"));\n",
    "Log(new Exception(\"Message from exception\"), \"Prefix\");"
   ]
  },
  {
   "cell_type": "markdown",
   "metadata": {
    "dotnet_interactive": {
     "language": "csharp"
    },
    "polyglot_notebook": {
     "kernelName": "csharp"
    }
   },
   "source": [
    "## Enkapsulacja (hermetyzacja)\n",
    "\n",
    "Oznacza ukrywanie funkcji lub zmiennych klasy, aby były dostępne tylko dla obiektów dziedziczących oraz ogranicza dostępu z zewnątrz. Dostępne są następujące modyfikatory dostępu:\n",
    "\n",
    "* `public`.\n",
    "* `private`.\n",
    "* `protected`.\n",
    "* `internal`.\n",
    "* `protected internal`.\n",
    "* `private protected (C# 7.2)`\n",
    "\n",
    "Poniższa tabela przedstawia modyfikatory oraz ich ograniczenia w dostępie do ich zasobów.\n",
    "\n",
    "|Modyfikator|Klasy pochodne z tego samego modułu|Pozostałe klas z tego samego modułu (projektu)|Klasy pochodne z innych modułów|Klasy z innych modułów|\n",
    "|:-|:-:|:-:|:-:|:-:|\n",
    "|`private`              |Nie|Nie|Nie|Nie|\n",
    "|`public`               |Tak|Tak|Tak|Tak|\n",
    "|`protected`            |Tak|Nie|Tak|Nie|\n",
    "|`internal`             |Tak|Tak|Nie|Nie|\n",
    "|`protected internal`   |Tak|Tak|Tak|Nie|\n",
    "|`private protected`    |Tak|Nie|Nie|Nie|\n",
    "\n",
    "Modyfikator `protected internal` zawiera sumę logiczną `protected` i `internal`. Z kolei `private protected` umożliwia dostęp tylko klasą pochodnym w ramach tego samego modułu.\n",
    "\n",
    "Przykładowe użycie dowolnego modyfikator może wygląda następująco:"
   ]
  },
  {
   "cell_type": "code",
   "execution_count": 340,
   "metadata": {
    "dotnet_interactive": {
     "language": "csharp"
    },
    "vscode": {
     "languageId": "polyglot-notebook"
    }
   },
   "outputs": [],
   "source": [
    "public class SimpleClass\n",
    "{\n",
    "   private int Field; \n",
    "   public int Property { get; protected set; }\n",
    "   public SimpleClass(){} //konstruktor\n",
    "   ~SimpleClass(){} //destruktor\n",
    "   public void DoSomething(int field)\n",
    "   {\n",
    "      Field = field;\n",
    "   }\n",
    "}"
   ]
  },
  {
   "cell_type": "markdown",
   "metadata": {
    "dotnet_interactive": {
     "language": "csharp"
    },
    "polyglot_notebook": {
     "kernelName": "csharp"
    }
   },
   "source": [
    "## Dziedziczenie\n",
    "\n",
    "Język C# umożliwia dziedziczenie jednokrotne (dla klas) i wielokrotne dla interfejsów. Dostępne są również konstrukcje języka `base` (odwołanie do instancji bazowej) i `this` (odwołanie do bieżącej instancji). Dziedziczenie powoduje tworzenie klasy szczegółowej na podstawie ogólnej klasy bazowej. Poniżej znajduje się przykład dziedziczenia:"
   ]
  },
  {
   "cell_type": "code",
   "execution_count": 341,
   "metadata": {
    "dotnet_interactive": {
     "language": "csharp"
    },
    "vscode": {
     "languageId": "polyglot-notebook"
    }
   },
   "outputs": [],
   "source": [
    "public class SpecificClass: SimpleClass\n",
    "{\n",
    "   private int Field2; \n",
    "   \n",
    "   public SpecificClass()\n",
    "   : base() \n",
    "   {\n",
    "      base.Property = 2;\n",
    "      this.Field2 = 2;\n",
    "   }\n",
    "}"
   ]
  },
  {
   "cell_type": "markdown",
   "metadata": {
    "dotnet_interactive": {
     "language": "csharp"
    },
    "polyglot_notebook": {
     "kernelName": "csharp"
    }
   },
   "source": [
    "Dziedziczymy pola, metody, właściwości i zdarzenia. W zależności od modyfikatora dostępu do tych elementów, w klasie pochodnej możemy z nich skorzystać lub nie.\n",
    "\n",
    "## Polimorfizm\n",
    "\n",
    "Pozwala przeciążać metody bazowe umożliwiając ich uszczegółowienie lub zmianę znaczenia. Przykładowo:"
   ]
  },
  {
   "cell_type": "code",
   "execution_count": 342,
   "metadata": {
    "dotnet_interactive": {
     "language": "csharp"
    },
    "vscode": {
     "languageId": "polyglot-notebook"
    }
   },
   "outputs": [],
   "source": [
    "public class A\n",
    "{\n",
    "   public virtual void Method1() { }\n",
    "}\n",
    "public class B : A\n",
    "{\n",
    "   public override void Method1() \n",
    "   { \n",
    "      base.Method1();//metoda bazowa\n",
    "   }\n",
    "}\t\t"
   ]
  },
  {
   "cell_type": "markdown",
   "metadata": {
    "dotnet_interactive": {
     "language": "csharp"
    },
    "polyglot_notebook": {
     "kernelName": "csharp"
    }
   },
   "source": [
    "## Abstrakcja\n",
    "\n",
    "Poprzez abstrakcję należy rozumieć pewien interfejs, który musi być zaimplementowany w klasie potomnej. Gwarantuje to występowanie metod i właściwości w klasach potomnych. Interfejs to szablon i nie może posiadać instancji. Podobnie jak klasa abstrakcyjna, która może oprócz interfejsu posiadać implementację niektórych metod. Może również wymuszać na obiektach dziedziczących implementacje metod bądź pól."
   ]
  },
  {
   "cell_type": "code",
   "execution_count": 343,
   "metadata": {
    "dotnet_interactive": {
     "language": "csharp"
    },
    "vscode": {
     "languageId": "polyglot-notebook"
    }
   },
   "outputs": [],
   "source": [
    "public interface SimpleInterface\n",
    "{\n",
    "   Int32 Property { get; set; }\n",
    "   void Method1();        \n",
    "}\n",
    "\n",
    "public abstract class SimpleAbstract\n",
    "{\n",
    "   Int32 Property { get; set; }\n",
    "   public abstract void Method1();\n",
    "\n",
    "   public void Method2()\n",
    "   {\n",
    "   }\n",
    "}"
   ]
  },
  {
   "cell_type": "markdown",
   "metadata": {
    "dotnet_interactive": {
     "language": "csharp"
    },
    "polyglot_notebook": {
     "kernelName": "csharp"
    }
   },
   "source": [
    "## Typy dynamiczne\n",
    "\n",
    "Umożliwiają w czasie wykonania aplikacji tworzenie klasy. Należy odróżnić słowo kluczowe `var` od deklaracji zmiennej dynamicznej `dynamic`. W pierwszym przypadku kompilator przekaże za nas typ. Jest to skrócony zapis konkretnego typu znanego w czasie kompilacji. W drugim przypadku typ tworzony jest w czasie działania programu. Zbyt częste użycie typu dynamicznego może spowolnić działanie programu. Dodatkowo typ `dynamic` może być użyty jako typ parametru funkcji."
   ]
  },
  {
   "cell_type": "code",
   "execution_count": 344,
   "metadata": {
    "dotnet_interactive": {
     "language": "csharp"
    },
    "vscode": {
     "languageId": "polyglot-notebook"
    }
   },
   "outputs": [],
   "source": [
    "dynamic dynClass = new\n",
    "{\n",
    "   Prop1 = 12,\n",
    "   Prop2 = \"Test\"\n",
    "};"
   ]
  },
  {
   "cell_type": "markdown",
   "metadata": {
    "dotnet_interactive": {
     "language": "csharp"
    },
    "polyglot_notebook": {
     "kernelName": "csharp"
    }
   },
   "source": [
    "## Static\n",
    "\n",
    "Wszystkie elementy klasy mogą być statyczne. Statyczność klasy powoduje, że istnieje tylko jedna instancja. Tworzeniem klas statycznych zajmuje się środowisko wykonawcze platformy `.NET`. Innym sposobem na tworzenie tylko jednej instancji klasy jest wzorzec projektowy `singleton`:"
   ]
  },
  {
   "cell_type": "code",
   "execution_count": 345,
   "metadata": {
    "dotnet_interactive": {
     "language": "csharp"
    },
    "vscode": {
     "languageId": "polyglot-notebook"
    }
   },
   "outputs": [
    {
     "ename": "Error",
     "evalue": "(7,24): error CS0019: Nie można zastosować operatora „??” do argumentów operacji typu „float” lub „JustOne”.\r\n(8,14): error CS0029: Nie można niejawnie przekonwertować typu „float” na „JustOne”.",
     "output_type": "error",
     "traceback": [
      "(7,24): error CS0019: Nie można zastosować operatora „??” do argumentów operacji typu „float” lub „JustOne”.\r\n",
      "(8,14): error CS0029: Nie można niejawnie przekonwertować typu „float” na „JustOne”."
     ]
    }
   ],
   "source": [
    "public class JustOne\n",
    "{\n",
    "    private static Single singleInstance;\n",
    "    private JustOne() {} //konstruktor prywatny    \n",
    "    public static JustOne GetInstance() \n",
    "    {\n",
    "      singleInstance = singleInstance ?? new JustOne();\n",
    "      return singleInstance;\n",
    "    }\n",
    "}"
   ]
  },
  {
   "cell_type": "markdown",
   "metadata": {
    "dotnet_interactive": {
     "language": "csharp"
    },
    "polyglot_notebook": {
     "kernelName": "csharp"
    }
   },
   "source": [
    "Operator `??` jest operatorem binarnym. W przypadku, gdy jego lewy argument ma wartość `null` wykonuje instrukcje zawarte w prawym argumencie.\n",
    "\n",
    "Klasy statyczne mogę też zastępować typ wyliczeniowy `enum` np.:"
   ]
  },
  {
   "cell_type": "code",
   "execution_count": 346,
   "metadata": {
    "dotnet_interactive": {
     "language": "csharp"
    },
    "vscode": {
     "languageId": "polyglot-notebook"
    }
   },
   "outputs": [],
   "source": [
    "public static class PersonType\n",
    "{\n",
    "    public static readonly string Teacher = \"T\";\n",
    "    public static readonly string Student = \"S\";\n",
    "}"
   ]
  },
  {
   "cell_type": "markdown",
   "metadata": {
    "dotnet_interactive": {
     "language": "csharp"
    },
    "polyglot_notebook": {
     "kernelName": "csharp"
    }
   },
   "source": [
    "## Zdarzenia\n",
    "\n",
    "Zdarzenia deklarujemy podobnie jak pola klasy. Służą do wywoływania metod do obsługi tych zdarzeń z klas zewnętrznych. Przykładowo klasa realizująca zapis do pliku może wywołać zdarzenie `Complete`. Poniższy listing przedstawia obsługę zdarzenia:"
   ]
  },
  {
   "cell_type": "code",
   "execution_count": 347,
   "metadata": {
    "dotnet_interactive": {
     "language": "csharp"
    },
    "vscode": {
     "languageId": "polyglot-notebook"
    }
   },
   "outputs": [],
   "source": [
    "public class Writer\n",
    "{\n",
    "  public EventHandler<bool> Complete;\n",
    "\n",
    "  public void Write(string fileName)\n",
    "  {\n",
    "    OnComplete(true);\n",
    "  }\n",
    "\n",
    "  public void OnComplete(bool status)\n",
    "  {\n",
    "    if (Complete != null)\n",
    "      Complete(this, status);\n",
    "    //lub prosciej\n",
    "    Complete?.Invoke(this, status);\n",
    "  }\n",
    "}\n",
    "\n",
    "static void Main(string[] args)\n",
    "{\n",
    "    var writer = new Writer();\n",
    "    writer.Complete += (source, status) =>\n",
    "        Console.WriteLine(\"Write: {0}\", status);\n",
    "    \n",
    "    writer.Complete += AnotherHandler;\n",
    "\n",
    "    writer.Write(\"file.txt\");\n",
    "}\n",
    "static void AnotherHandler(object source, bool status)\n",
    "{\n",
    "\tConsole.WriteLine(\"Write: {0}\", status);\n",
    "}"
   ]
  },
  {
   "cell_type": "markdown",
   "metadata": {
    "dotnet_interactive": {
     "language": "csharp"
    },
    "polyglot_notebook": {
     "kernelName": "csharp"
    }
   },
   "source": [
    "Wewnętrznie dodanie metody obsługi do zdarzenia realizowane jest podobnie do właściwości z tą różnicą, że zdarzenie posiada metody `add()` i `remove()`. Zamiast użycia klasy `EventHandler` można stworzyć własny szablon tzw. deletegat. Tworzenie delegata ilustruje poniższy listing:"
   ]
  },
  {
   "cell_type": "code",
   "execution_count": 348,
   "metadata": {
    "dotnet_interactive": {
     "language": "csharp"
    },
    "vscode": {
     "languageId": "polyglot-notebook"
    }
   },
   "outputs": [],
   "source": [
    "delegate void SomeHandler(object sender, bool status);"
   ]
  },
  {
   "cell_type": "markdown",
   "metadata": {
    "dotnet_interactive": {
     "language": "csharp"
    },
    "polyglot_notebook": {
     "kernelName": "csharp"
    }
   },
   "source": [
    "Delegaty to szablony metod. Przypisanie metody do obsługi zdarzenia musi posiadać taką samą sygnaturę co delegat tzn. posiadać ten sam zwracany typ oraz te same argumenty.\n",
    "\n",
    "## Typy generyczne\n",
    "\n",
    "Deklaracja klasy generycznej wygląda bardzo podobnie do zwykłej klasy, ale posiada\n",
    "dodatkowe argumenty. Klasa generyczna jest odpowiednikiem szablonu w c++."
   ]
  },
  {
   "cell_type": "code",
   "execution_count": 349,
   "metadata": {
    "dotnet_interactive": {
     "language": "csharp"
    },
    "vscode": {
     "languageId": "polyglot-notebook"
    }
   },
   "outputs": [],
   "source": [
    "public class SimpleClass<T>\n",
    "{\n",
    "   public T Field; \n",
    "   public T Property { get; set; }\n",
    "   \n",
    "   public void DoSomething(T field)\n",
    "   {\n",
    "      Field = field;\n",
    "   }\n",
    "}"
   ]
  },
  {
   "cell_type": "markdown",
   "metadata": {
    "dotnet_interactive": {
     "language": "csharp"
    },
    "polyglot_notebook": {
     "kernelName": "csharp"
    }
   },
   "source": [
    "## Ograniczenia argumentu generycznego\n",
    "\n",
    "Projektując klasy możemy wymusić typ argumentu dla klasy generycznej. Można zdefiniować następujące ograniczenia:\n",
    "\n",
    "* `T`: `struct` - argument musi być typem prostym,\n",
    "* `T` : `class` - argumentem musi być klasa,\n",
    "* `T` : `new()` - argument musi posiadać konstruktor bezparametrowy,\n",
    "* `T` : `base_class_name` - argument musi dziedziczyć po *base_class_name*,\n",
    "* `T` : `interface_name` - argument musi implementować *interface_name*,\n",
    "* `T` : `U` - argument `T` musi dziedziczyć po argumencie `U`."
   ]
  },
  {
   "cell_type": "code",
   "execution_count": 350,
   "metadata": {
    "dotnet_interactive": {
     "language": "csharp"
    },
    "vscode": {
     "languageId": "polyglot-notebook"
    }
   },
   "outputs": [
    {
     "ename": "Error",
     "evalue": "(1,47): error CS1514: Oczekiwano znaku {\r\n(1,47): error CS1513: Oczekiwano znaku }",
     "output_type": "error",
     "traceback": [
      "(1,47): error CS1514: Oczekiwano znaku {\r\n",
      "(1,47): error CS1513: Oczekiwano znaku }"
     ]
    }
   ],
   "source": [
    "public class GenericClass<T> where T : Student"
   ]
  },
  {
   "cell_type": "markdown",
   "metadata": {
    "dotnet_interactive": {
     "language": "csharp"
    },
    "polyglot_notebook": {
     "kernelName": "csharp"
    }
   },
   "source": [
    "## Indeksery\n",
    "\n",
    "Każda klasa może posiadać tzw. indekser. Użycie indeksera przypomina użycie tablicy. Przykładowy indekser przedstawia poniższy listing:"
   ]
  },
  {
   "cell_type": "code",
   "execution_count": 351,
   "metadata": {
    "dotnet_interactive": {
     "language": "csharp"
    },
    "vscode": {
     "languageId": "polyglot-notebook"
    }
   },
   "outputs": [
    {
     "ename": "Error",
     "evalue": "(10,1): error CS8635: Nieoczekiwana sekwencja znaków „...”\r\n(10,3): error CS1002: Oczekiwano średnika (;)\r\n(10,3): error CS7017: Oczekiwano definicji składowej, instrukcji albo znacznika końca pliku",
     "output_type": "error",
     "traceback": [
      "(10,1): error CS8635: Nieoczekiwana sekwencja znaków „...”\r\n",
      "(10,3): error CS1002: Oczekiwano średnika (;)\r\n",
      "(10,3): error CS7017: Oczekiwano definicji składowej, instrukcji albo znacznika końca pliku"
     ]
    }
   ],
   "source": [
    "public T this[int i]\n",
    "{\n",
    "   get\n",
    "   {            \n",
    "   }\n",
    "   set\n",
    "   {            \n",
    "   }\n",
    "}\n",
    "...\n",
    "IntCollection<int> col = new IntCollection<int>();\n",
    "col[0] = 12;"
   ]
  },
  {
   "cell_type": "markdown",
   "metadata": {
    "dotnet_interactive": {
     "language": "csharp"
    },
    "polyglot_notebook": {
     "kernelName": "csharp"
    }
   },
   "source": [
    "## *Tuple*\n",
    "\n",
    "W przypadku, gdy funkcje zawierają więcej, niż jedną zmienną można utworzyć dedykowaną klasę lub krotkę (ang. *tuple*) w wersji nazwanej (z podanymi nazwami pól w deklaracji) lub nienazwanej (kolejne pola nazywają się *`item1`*, *`item2`* itd)."
   ]
  },
  {
   "cell_type": "code",
   "execution_count": 352,
   "metadata": {
    "dotnet_interactive": {
     "language": "csharp"
    },
    "vscode": {
     "languageId": "polyglot-notebook"
    }
   },
   "outputs": [
    {
     "name": "stdout",
     "output_type": "stream",
     "text": [
      "Person 1: Jan Kowalski\n",
      "Person 2: Jan Kowalski\n"
     ]
    }
   ],
   "source": [
    "public (string name, string surname) tuple_function() {\n",
    "    return (\"Jan\", \"Kowalski\");\n",
    "}\n",
    "\n",
    "var person = tuple_function(); \n",
    "\n",
    "Console.WriteLine($\"Person 1: {person.name} {person.surname}\");\n",
    "\n",
    "(string name, string surname) = tuple_function(); //unboxing\n",
    "\n",
    "Console.WriteLine($\"Person 2: {name} {surname}\");"
   ]
  },
  {
   "cell_type": "markdown",
   "metadata": {
    "dotnet_interactive": {
     "language": "csharp"
    },
    "polyglot_notebook": {
     "kernelName": "csharp"
    }
   },
   "source": [
    "## Rekord\n",
    "\n",
    "Rekordy postały z myślą o nowych mechanizmach języka. Pod względem kopiowania (przypisywania) zachowują się jak struktury, ale są typami referencyjnymi. Poniżej znajdują się przykładowe operacje na tych typach niemożliwe do użycia z klasami czy strukturami."
   ]
  },
  {
   "cell_type": "code",
   "execution_count": 353,
   "metadata": {
    "dotnet_interactive": {
     "language": "csharp"
    },
    "vscode": {
     "languageId": "polyglot-notebook"
    }
   },
   "outputs": [
    {
     "name": "stdout",
     "output_type": "stream",
     "text": [
      "StudentRecord { FirstName = Mads, LastName = Torgersen, Id = 1 }\n",
      "StudentRecord { FirstName = Mads, LastName = Kowalski, Id = 2 }\n"
     ]
    }
   ],
   "source": [
    "public record StudentRecord \n",
    "{ \n",
    "    public string FirstName { get; init; } \n",
    "    public string LastName { get; init; }\n",
    "    public int Id { get; init; }\n",
    "    public StudentRecord(string firstName, string lastName, int id) \n",
    "      => (FirstName, LastName, Id) = (firstName, lastName, id);\n",
    "    public void Deconstruct(out string firstName, out string lastName, out int id) // jak ma się zachowywać klasa w przypadku dekonstrukcji\n",
    "      => (firstName, lastName, id) = (FirstName, LastName, Id);\n",
    "}\n",
    "\n",
    "public record StudentRecord2(string FirstName, string LastName, int No); //tożsame z powyższym\n",
    "\n",
    "var student = new StudentRecord(\"Mads\", \"Torgersen\", 1);\n",
    "var (f, l, id) = student; \n",
    "\n",
    "var student2 = student with { LastName=\"Kowalski\", Id=2 };\n",
    "\n",
    "Console.WriteLine(student);\n",
    "Console.WriteLine(student2);"
   ]
  },
  {
   "cell_type": "markdown",
   "metadata": {
    "dotnet_interactive": {
     "language": "csharp"
    },
    "polyglot_notebook": {
     "kernelName": "csharp"
    }
   },
   "source": [
    "## Przydatne techniki wbudowane w język\n",
    "\n",
    "Operując na plikach należy bezwzględnie zwalniać systemowy uchwyt do pliku metodą `Close()`. Nie wykonanie tej czynności powoduje, że pliku nie da się skasować oraz nadpisać. W przypadku, gdy klasa posiada zaimplementowaną metodę `Dispose()` można użyć konstrukcji:"
   ]
  },
  {
   "cell_type": "code",
   "execution_count": 354,
   "metadata": {
    "dotnet_interactive": {
     "language": "csharp"
    },
    "vscode": {
     "languageId": "polyglot-notebook"
    }
   },
   "outputs": [
    {
     "ename": "Error",
     "evalue": "(1,48): error CS0103: Nazwa „path” nie istnieje w bieżącym kontekście",
     "output_type": "error",
     "traceback": [
      "(1,48): error CS0103: Nazwa „path” nie istnieje w bieżącym kontekście"
     ]
    }
   ],
   "source": [
    "using (StreamWriter outFile = new StreamWriter(path))\n",
    "{\n",
    "   outFile.WriteLine(\"lancuch\");\n",
    "}"
   ]
  },
  {
   "cell_type": "markdown",
   "metadata": {
    "dotnet_interactive": {
     "language": "csharp"
    },
    "polyglot_notebook": {
     "kernelName": "csharp"
    }
   },
   "source": [
    "W powyższym listingu nie ma konieczności wywoływania metody `Close()` ponieważ zajmie się tym metoda `Dispose` wywołana niejawnie przy zakończeniu bloku \"\\}\". Powyższy zapis jest równoważny:"
   ]
  },
  {
   "cell_type": "code",
   "execution_count": 355,
   "metadata": {
    "dotnet_interactive": {
     "language": "csharp"
    },
    "vscode": {
     "languageId": "polyglot-notebook"
    }
   },
   "outputs": [
    {
     "ename": "Error",
     "evalue": "(3,43): error CS0103: Nazwa „path” nie istnieje w bieżącym kontekście\r\n(8,6): error CS0103: Nazwa „outFile” nie istnieje w bieżącym kontekście\r\n(9,5): error CS0103: Nazwa „outFile” nie istnieje w bieżącym kontekście",
     "output_type": "error",
     "traceback": [
      "(3,43): error CS0103: Nazwa „path” nie istnieje w bieżącym kontekście\r\n",
      "(8,6): error CS0103: Nazwa „outFile” nie istnieje w bieżącym kontekście\r\n",
      "(9,5): error CS0103: Nazwa „outFile” nie istnieje w bieżącym kontekście"
     ]
    }
   ],
   "source": [
    "try\n",
    "{\n",
    "  StreamWriter outFile = new StreamWriter(path);\n",
    "  outFile.WriteLine(\"string data\");  \n",
    "}\n",
    "finally\n",
    "{\n",
    "  if(outFile != null)\n",
    "    outFile.Dispose();\n",
    "}"
   ]
  },
  {
   "cell_type": "markdown",
   "metadata": {
    "dotnet_interactive": {
     "language": "csharp"
    },
    "polyglot_notebook": {
     "kernelName": "csharp"
    }
   },
   "source": [
    "## Interpolacja łańcuchów znaków c.d.\n",
    "\n",
    "Jedną z nowych funkcji w specyfikacji języka jest technika interpolacji łańcuchów znaków, bardzo często spotykana we nowoczesnych językach programowania, takich jak *Python*. Zamiast używać operatora plus do łączenia napisów, programista może sformatować napis. W poprzednim pliku temat został już omówiony, w tym miejscu zostały jedynie dodane inne operacje formatowania. "
   ]
  },
  {
   "cell_type": "code",
   "execution_count": 356,
   "metadata": {
    "dotnet_interactive": {
     "language": "csharp"
    },
    "vscode": {
     "languageId": "polyglot-notebook"
    }
   },
   "outputs": [
    {
     "name": "stdout",
     "output_type": "stream",
     "text": [
      "Integer 1, double: 2,12345 and double formated one: 2,1\n",
      "Now is: 00:59\n"
     ]
    }
   ],
   "source": [
    "int value = 1;\n",
    "double value2 = 2.12345;\n",
    "\n",
    "Console.WriteLine($\"Integer {value}, double: {value2} and double formated one: {value2:0.0}\");\n",
    "var date = DateTime.Now;\n",
    "Console.WriteLine($\"Now is: {date:HH:mm}\")"
   ]
  },
  {
   "cell_type": "markdown",
   "metadata": {
    "dotnet_interactive": {
     "language": "csharp"
    },
    "polyglot_notebook": {
     "kernelName": "csharp"
    }
   },
   "source": [
    "## Przydatne klasy\n",
    "\n",
    "Najczęściej wykorzystywanymi klasami są lista (`List`, `Queue`, `Array`). Przykład użycia listy:"
   ]
  },
  {
   "cell_type": "code",
   "execution_count": 357,
   "metadata": {
    "dotnet_interactive": {
     "language": "csharp"
    },
    "vscode": {
     "languageId": "polyglot-notebook"
    }
   },
   "outputs": [],
   "source": [
    "//lista\n",
    "List<Int32> list = new List<int>();\n",
    "list.Add(12);\n",
    "//kolejka\n",
    "Queue<Int32> queue = new Queue<int>();\n",
    "queue.Enqueue(12);\n",
    "Int32 last = queue.Dequeue();"
   ]
  },
  {
   "cell_type": "markdown",
   "metadata": {
    "dotnet_interactive": {
     "language": "csharp"
    },
    "polyglot_notebook": {
     "kernelName": "csharp"
    }
   },
   "source": [
    "### Klasa `ConfigurationManager`\n",
    "\n",
    "Często spotykanym podejściem do tworzenia oprogramowania jest uzależnienie wykonania programu od globalnych parametrów wejściowych. Jest to bardzo wygodne podeście ze względu na cykl życia aplikacji. Przykładowo, gdy program łączy się z bazą danych, na etapie testowania połączenie powinno odbywać się z instancją deweloperską bazą danych. Z kolei, gdy program zostanie wdrożony na środowisko produkcyjne, program powinien łączyć się z instancją produkcyjną bazy danych. W środowisku `.NET` powstała specjalna klasa `ConfigurationManager`, która umożliwia w łatwy sposób korzystanie z pliku konfiguracyjnego w formacie `XML` `App.config`. Po etapie kompilacji projektu konfiguracja zostanie przeniesiona do pliku `plik.exe.config`. Klasa `ConfigurationManager` dostępna jest po dodaniu referencji `System.Configuration` do projektu. Można to zrobić klikając prawym przyciskiem myszy na projekt i wybranie opcji `Add` `Reference...`. Poniższy listing przedstawia użycie klasy:"
   ]
  },
  {
   "cell_type": "code",
   "execution_count": 358,
   "metadata": {
    "dotnet_interactive": {
     "language": "csharp"
    },
    "vscode": {
     "languageId": "polyglot-notebook"
    }
   },
   "outputs": [
    {
     "ename": "Error",
     "evalue": "(3,18): error CS0103: Nazwa „ConfigurationManager” nie istnieje w bieżącym kontekście",
     "output_type": "error",
     "traceback": [
      "(3,18): error CS0103: Nazwa „ConfigurationManager” nie istnieje w bieżącym kontekście"
     ]
    }
   ],
   "source": [
    "public static void Main(string[] args)\n",
    "{  \n",
    "  var strCount = ConfigurationManager.AppSettings[\"Count\"];\n",
    "  var count = int.Parse(strCount);\n",
    "}"
   ]
  },
  {
   "cell_type": "markdown",
   "metadata": {
    "dotnet_interactive": {
     "language": "csharp"
    },
    "polyglot_notebook": {
     "kernelName": "csharp"
    }
   },
   "source": [
    "Przy takiej konfiguracji plik `App.config` powinien wyglądać następująco:"
   ]
  },
  {
   "cell_type": "code",
   "execution_count": 359,
   "metadata": {
    "dotnet_interactive": {
     "language": "javascript"
    },
    "vscode": {
     "languageId": "polyglot-notebook"
    }
   },
   "outputs": [
    {
     "ename": "Error",
     "evalue": "Unexpected token '<'",
     "output_type": "error",
     "traceback": [
      "Unexpected token '<'"
     ]
    }
   ],
   "source": [
    "<?xml version=\"1.0\" encoding=\"utf-8\" ?>\n",
    "<configuration>\n",
    "  <appSettings>\n",
    "    <add key=\"Count\" value=\"20\"/>\n",
    "  </appSettings>\n",
    "</configuration>"
   ]
  },
  {
   "cell_type": "markdown",
   "metadata": {
    "dotnet_interactive": {
     "language": "csharp"
    },
    "polyglot_notebook": {
     "kernelName": "csharp"
    }
   },
   "source": [
    "### Klasa `StringBuilder`\n",
    "W przypadku konkatenacji wielu łańcuchów znaków należy używać klasy `StringBuilder`:"
   ]
  },
  {
   "cell_type": "code",
   "execution_count": 360,
   "metadata": {
    "dotnet_interactive": {
     "language": "csharp"
    },
    "vscode": {
     "languageId": "polyglot-notebook"
    }
   },
   "outputs": [
    {
     "ename": "Error",
     "evalue": "(3,23): error CS0103: Nazwa „collection” nie istnieje w bieżącym kontekście",
     "output_type": "error",
     "traceback": [
      "(3,23): error CS0103: Nazwa „collection” nie istnieje w bieżącym kontekście"
     ]
    }
   ],
   "source": [
    "StringBuilder builder = new StringBuilder();\n",
    "   \n",
    "foreach(var person in collection)\n",
    "{\n",
    "   builder.Append(person.Name);\n",
    "}      "
   ]
  },
  {
   "cell_type": "markdown",
   "metadata": {
    "dotnet_interactive": {
     "language": "csharp"
    },
    "polyglot_notebook": {
     "kernelName": "csharp"
    }
   },
   "source": [
    "### Funkcja `Format`\n",
    "Formatowanie tekstu to jedno z najczęstszych zadań programistycznych. Z tego powodu na platformie `.NET` udostępniono metodę `format`. Jest ona zaimplementowana zarówno w klasie `StringBuilder` w metodzie `AppendFormat()` jak i `string.Format()`:"
   ]
  },
  {
   "cell_type": "code",
   "execution_count": 361,
   "metadata": {
    "dotnet_interactive": {
     "language": "csharp"
    },
    "vscode": {
     "languageId": "polyglot-notebook"
    }
   },
   "outputs": [
    {
     "ename": "Error",
     "evalue": "(2,47): error CS1002: Oczekiwano średnika (;)\r\n(2,47): error CS7017: Oczekiwano definicji składowej, instrukcji albo znacznika końca pliku\r\n(2,50): error CS1002: Oczekiwano średnika (;)\r\n(2,50): error CS7017: Oczekiwano definicji składowej, instrukcji albo znacznika końca pliku\r\n(2,52): error CS1002: Oczekiwano średnika (;)\r\n(2,52): error CS7017: Oczekiwano definicji składowej, instrukcji albo znacznika końca pliku\r\n(4,41): error CS1002: Oczekiwano średnika (;)\r\n(4,41): error CS7017: Oczekiwano definicji składowej, instrukcji albo znacznika końca pliku\r\n(4,51): error CS1002: Oczekiwano średnika (;)\r\n(4,51): error CS7017: Oczekiwano definicji składowej, instrukcji albo znacznika końca pliku\r\n(6,32): error CS1002: Oczekiwano średnika (;)\r\n(6,32): error CS7017: Oczekiwano definicji składowej, instrukcji albo znacznika końca pliku\r\n(6,48): error CS1002: Oczekiwano średnika (;)\r\n(6,48): error CS7017: Oczekiwano definicji składowej, instrukcji albo znacznika końca pliku",
     "output_type": "error",
     "traceback": [
      "(2,47): error CS1002: Oczekiwano średnika (;)\r\n",
      "(2,47): error CS7017: Oczekiwano definicji składowej, instrukcji albo znacznika końca pliku\r\n",
      "(2,50): error CS1002: Oczekiwano średnika (;)\r\n",
      "(2,50): error CS7017: Oczekiwano definicji składowej, instrukcji albo znacznika końca pliku\r\n",
      "(2,52): error CS1002: Oczekiwano średnika (;)\r\n",
      "(2,52): error CS7017: Oczekiwano definicji składowej, instrukcji albo znacznika końca pliku\r\n",
      "(4,41): error CS1002: Oczekiwano średnika (;)\r\n",
      "(4,41): error CS7017: Oczekiwano definicji składowej, instrukcji albo znacznika końca pliku\r\n",
      "(4,51): error CS1002: Oczekiwano średnika (;)\r\n",
      "(4,51): error CS7017: Oczekiwano definicji składowej, instrukcji albo znacznika końca pliku\r\n",
      "(6,32): error CS1002: Oczekiwano średnika (;)\r\n",
      "(6,32): error CS7017: Oczekiwano definicji składowej, instrukcji albo znacznika końca pliku\r\n",
      "(6,48): error CS1002: Oczekiwano średnika (;)\r\n",
      "(6,48): error CS7017: Oczekiwano definicji składowej, instrukcji albo znacznika końca pliku"
     ]
    }
   ],
   "source": [
    "//wyswietlenie\n",
    "string.Format(\"First argument {0}, drugi {1}\"), 1,2);\n",
    "//zaokraglenie\n",
    "string.Format(\"First argument {0:0.00}\"), 1.255555);\n",
    "//daty\n",
    "string.Format(\"{0:yyyy-MM-dd}\"), DateTime.Now());\n",
    "//dopelnienie ciagu znakow\n",
    "string.Format(\"{0,22}\", \"Znaki\");\n",
    "string.Format(\"{0,22}\", \"Znaki_Znaki\");"
   ]
  },
  {
   "cell_type": "markdown",
   "metadata": {
    "dotnet_interactive": {
     "language": "csharp"
    },
    "polyglot_notebook": {
     "kernelName": "csharp"
    }
   },
   "source": [
    "## Zadania do wykonania\n",
    "\n",
    "### Zadanie 1\n",
    "\n",
    "Zaprojektuj klasę abstrakcyjną / rekord, która wyznacza pole, obwód oraz zwraca długości boków trójkąta (dowolnego). Klasami dziedziczącymi z tej klasy ma być trójkąt:\n",
    "* równoboczny (konstruktor z jednym parametrem),\n",
    "* równoramienny (konstruktor z dwoma parametrami - dwa różne boki),\n",
    "* prostokątny (konstruktor z z dwoma parametrami - długości przyprostokątne).\n",
    "\n",
    "> Przeciąż metodę `ToString()`, która ma zawierać zestaw podstawowych informacji. Zadanie można zrealizować na dwa sposoby: \n",
    "1. metody do obliczeń pola i obwodu zaimplementować w klasie abstrakcyjnej używając wzoru:"
   ]
  },
  {
   "cell_type": "code",
   "execution_count": 362,
   "metadata": {
    "dotnet_interactive": {
     "language": "csharp"
    },
    "polyglot_notebook": {
     "kernelName": "csharp"
    },
    "vscode": {
     "languageId": "polyglot-notebook"
    }
   },
   "outputs": [
    {
     "name": "stdout",
     "output_type": "stream",
     "text": [
      "Pole: 10,83\n",
      "Obwod: 15\n",
      "Pole: 5,92\n",
      "Obwod: 14\n",
      "Pole: 24\n",
      "Obwod: 24\n"
     ]
    }
   ],
   "source": [
    "public abstract class Trojkat{\n",
    "public double a, b, c, obwod, pole;\n",
    "\n",
    "public double ObliczPole(double a, double b, double c){\n",
    "    double p = ObliczObwod(a, b , c) / 2;\n",
    "\n",
    "        return Math.Round(Math.Sqrt(p*(p - a)*(p - b)*(p -c)), 2);\n",
    "\n",
    "    }\n",
    "public double ObliczObwod(double a, double b, double c){\n",
    "    return a + b + c;\n",
    "    }\n",
    "public override String ToString(){\n",
    "    return ($\"Pole: \" + pole + \"\\nObwod: \" + obwod);\n",
    "    }\n",
    "}\n",
    "public class TrojkatRownoboczny : Trojkat{\n",
    "\n",
    "    public TrojkatRownoboczny(double a){\n",
    "        this.a = a;\n",
    "        this.obwod = ObliczObwod(a, a, a);\n",
    "        this.pole = ObliczPole(a, a, a);\n",
    "}\n",
    "}\n",
    "\n",
    "public class TrojkatRownoramienny : Trojkat{\n",
    "\n",
    "    public TrojkatRownoramienny(double a, double b){\n",
    "        this.a =a;\n",
    "        this.b = b;\n",
    "        this.obwod = ObliczObwod(a, b ,b);\n",
    "        this.pole = ObliczPole(a, b, b);\n",
    "    }\n",
    "}\n",
    "\n",
    "public class TrojkatProstokatny : Trojkat{\n",
    "    public TrojkatProstokatny(double a, double b){\n",
    "        this.a = a;\n",
    "        this.b = b;\n",
    "        this.c = Math.Sqrt(a*a + b*b);\n",
    "\n",
    "        this.obwod = ObliczObwod(a, b, c);\n",
    "        this.pole = ObliczPole(a, b, c);\n",
    "\n",
    "    }\n",
    "\n",
    "\n",
    "\n",
    "}\n",
    "\n",
    "\n",
    "TrojkatRownoboczny trojkatRownoboczny = new TrojkatRownoboczny(5.0);\n",
    "Console.WriteLine(trojkatRownoboczny);\n",
    "\n",
    "TrojkatRownoramienny trojkatRownoramienny = new TrojkatRownoramienny(2.0,6.0);\n",
    "Console.WriteLine(trojkatRownoramienny);\n",
    "\n",
    "TrojkatProstokatny trojkatProstokatny = new TrojkatProstokatny(6.0,8.0);\n",
    "Console.WriteLine(trojkatProstokatny);\n"
   ]
  },
  {
   "cell_type": "markdown",
   "metadata": {
    "dotnet_interactive": {
     "language": "csharp"
    },
    "polyglot_notebook": {
     "kernelName": "csharp"
    }
   },
   "source": [
    "$\n",
    "\tP =\\sqrt{p\\cdot(p-A)\\cdot(p-B)\\cdot(p-C)}\n",
    "$"
   ]
  },
  {
   "cell_type": "markdown",
   "metadata": {
    "dotnet_interactive": {
     "language": "csharp"
    },
    "polyglot_notebook": {
     "kernelName": "csharp"
    }
   },
   "source": [
    "gdzie: $p$ to połowa obwodu trójkąta. Symbole $A$, $B$, $C$ to długości poszczególnych boków. Oznaczyć metody obliczające pole i obwód jako abstrakcyjne i przeciążyć je w klasie szczegółowej.\n",
    "\n",
    "Metoda `ToString` powinna być przeciążona w klasie abstrakcyjnej.\n",
    "\n",
    "### Zadanie 2\n",
    "\n",
    "Utwórz klasę generyczną kartoteka pracowników, która umożliwia:\n",
    "\n",
    "* dodawanie/usuwanie,\n",
    "* wyświetlanie,\n",
    "* walidację istniejących już pracowników,\n",
    "* wyszukiwanie danych. \n",
    "\n",
    "Klasa pracownik musi zawierać przynajmniej 5 cech. Każdy pracownik powinien posiadać stanowisko pracy. Klasa powinna zawierać walidację danych (poprzez metodę `Validate()`). Klasa pracownik powinna zawierać metody `Show()` i `IsMatch()`, z których będzie korzystała kartoteka przy wyszukiwaniu.\n",
    "\n",
    "Przy wyświetlaniu pomocna może okazać się metoda `Format()`.\n",
    "\n",
    "### Zadanie 3\n",
    "\n",
    "Dodaj do kartoteki z pierwszego zadania odczytywanie i zapisywanie danych w formacie TXT, XML oraz JSON (minimum jeden). Wykorzystaj do tego celu wzorzec projektowy budowniczy. Abstrakcję konkretnego zapisu można przekazać do konstruktora kartoteki, która posiada metodę `Save()`.\n",
    "\n",
    "### Zadanie 4\n",
    " \n",
    "Rozszerz poprzednie zadanie o możliwość szyfrowania danych metodą cezara. Blok przesunięć powinien być większy, niż jeden. W celu jego przechowywania wykorzystaj klasę `ConfigurationManager` (najpierw należy dodać referencję do biblioteki `System.Configuration`)."
   ]
  },
  {
   "cell_type": "code",
   "execution_count": 2,
   "metadata": {
    "dotnet_interactive": {
     "language": "csharp"
    },
    "polyglot_notebook": {
     "kernelName": "csharp"
    },
    "vscode": {
     "languageId": "polyglot-notebook"
    }
   },
   "outputs": [
    {
     "name": "stdout",
     "output_type": "stream",
     "text": [
      "\n",
      " Istnieje juz taki pracownik\n",
      "| Patryk         | Pirog          | 23  | Manager        | m |\n",
      "Pracownik zawiera puste atrybuty\n",
      "| Krzysztof      | Nowak          | 0   |                |   |\n",
      "\n",
      " KARTOTEKA:\n",
      " imie             nazwisko         wiek  stanowisko       plec\n",
      "| Szymon         | Zielinski      | 21  | Employee       | m |\n",
      "| Patryk         | Pirog          | 23  | Manager        | m |\n",
      "| Jan            | Kowalski       | 28  | Employee       | m |\n",
      "\n",
      "Pracownik o imieniu:  \"szymon\":\n",
      "| Szymon         | Zielinski      | 21  | Employee       | m |\n",
      "\n",
      "Zapisano do pliku \"Kartoteka.json\"\n",
      "\n",
      "Wczytano plik Kartoteka.json\n",
      " imie             nazwisko         wiek  stanowisko       plec\n",
      "| Szymon         | Zielinski      | 21  | Employee       | m |\n",
      "| Patryk         | Pirog          | 23  | Manager        | m |\n",
      "| Jan            | Kowalski       | 28  | Employee       | m |\n",
      "\n",
      "Zapisano do pliku \"Kartoteka.txt\"\n",
      "\n",
      "Wczytano plik \"Kartoteka.txt\"\n",
      " imie             nazwisko         wiek  stanowisko       plec\n",
      "| Szymon         | Zielinski      | 21  | Employee       | m |\n",
      "| Patryk         | Pirog          | 23  | Manager        | m |\n",
      "| Jan            | Kowalski       | 28  | Employee       | m |\n",
      "\n",
      "Zapisywanie się nie powiodło: Identifier 'Submission#3' is not CLS-compliant. (Parameter 'ident')\n"
     ]
    }
   ],
   "source": [
    "// klasa pracownik z 5 cechami w tym stanowisko \n",
    "using System.Collections.Generic;\n",
    "using System.IO;\n",
    "using System.Text.Json;\n",
    "using System.Text.Json.Serialization;\n",
    "using System.Xml.Serialization;\n",
    "using System.Xml;\n",
    "\n",
    "\n",
    "public class Pracownik {\n",
    "\n",
    "    public String imie {get; set;}\n",
    "    public String nazwisko {get; set;}\n",
    "    public int wiek {get; set;}\n",
    "    public String stanowisko {get; set;}\n",
    "    public String plec {get; set;}\n",
    "\n",
    "    // walidacja czy wszystkie dane są wprowadzone\n",
    "    public bool Validate(){\n",
    "        if (string.IsNullOrEmpty(imie) || string.IsNullOrEmpty(nazwisko) || wiek == 0 || string.IsNullOrEmpty(stanowisko)) {\n",
    "            Console.WriteLine(\"Pracownik zawiera puste atrybuty\");\n",
    "            Console.WriteLine(Show());\n",
    "            return false;\n",
    "        }\n",
    "        return true;\n",
    "    }\n",
    "\n",
    "    // metoda show wyświetlająca pracownika\n",
    "    public string Show() {\n",
    "        return string.Format(\n",
    "            \"| {0,-15}| {1,-15}| {2,-4}| {3,-15}| {4,-2}|\",\n",
    "            imie, nazwisko, wiek, stanowisko, plec);\n",
    "    }\n",
    "\n",
    "    // sprawdzenie czy istnieje juz pracownik\n",
    "    public bool IsMatch(Pracownik pracownik){\n",
    "        if( imie == pracownik.imie && \n",
    "            nazwisko == pracownik.nazwisko &&\n",
    "            wiek == pracownik.wiek &&\n",
    "            stanowisko == pracownik.stanowisko &&\n",
    "            plec == pracownik.plec)\n",
    "                return true;\n",
    "            else return false;\n",
    "    }\n",
    "\n",
    "}\n",
    "\n",
    "//Klasa generyczna kartoteka, pracownicy składowani w liście\n",
    "public class Kartoteka<T> where T : Pracownik{\n",
    "\n",
    "    List<T> baza {get; set;} = new List<T>();\n",
    "\n",
    "    public void Dodaj(T pracownik) {\n",
    "        if(pracownik.Validate() == true && IsExist(pracownik)) baza.Add(pracownik);\n",
    "    }\n",
    "\n",
    "    public void Usun(T pracownik) {\n",
    "        baza.Remove(pracownik);\n",
    "    }\n",
    "\n",
    "    // czy juz jest obiekt o takich samych atrybutach\n",
    "    public bool IsExist(T pracownik) {\n",
    "        if (baza.Any(x => x.IsMatch(pracownik) == true)) {\n",
    "            Console.WriteLine(\"\\n Istnieje juz taki pracownik\");\n",
    "            Console.WriteLine(pracownik.Show());\n",
    "            return false;\n",
    "        }\n",
    "        else return true;\n",
    "    }\n",
    "\n",
    "    // do wyswietlania\n",
    "    public void Wyswietl() {\n",
    "        Console.WriteLine(\n",
    "            string.Format(\n",
    "                \" {0,-15}  {1,-15}  {2,-4}  {3,-15}  {4,-2}\", \n",
    "                \"imie\", \"nazwisko\", \"wiek\", \"stanowisko\", \"plec\"));\n",
    "\n",
    "        foreach(T a in baza) {\n",
    "            Console.WriteLine(a.Show());\n",
    "        }\n",
    "    }\n",
    "\n",
    "    public void Szukaj(String name) {\n",
    "        Console.WriteLine(\"\\nPracownik o imieniu:  \\\"{0}\\\":\", name.ToLower());\n",
    "        foreach(T a in baza) {\n",
    "            if (a.Show().ToLower().Contains(name.ToLower()))\n",
    "            {\n",
    "                Console.WriteLine(a.Show());\n",
    "            }\n",
    "        }\n",
    "    }    \n",
    "\n",
    "    public bool Save(IBuilder builder) {\n",
    "        return builder.Save(this);\n",
    "    }\n",
    "\n",
    "    public bool Read(IBuilder builder) {\n",
    "        var loaded = builder.Read(\"Kartoteka.json\");\n",
    "        return true;\n",
    "    }\n",
    "\n",
    "    public interface IBuilder {\n",
    "        bool Save(Kartoteka<T> baza);\n",
    "        Kartoteka<T> Read(String fileName);\n",
    "    }\n",
    "\n",
    "    public class JSONBuilder : IBuilder {\n",
    "\n",
    "        public bool Save(Kartoteka<T> kartoteka) {\n",
    "            try {\n",
    "                    var json = JsonSerializer.Serialize(kartoteka.baza);\n",
    "                    File.WriteAllText(\"Kartoteka.json\", json);\n",
    "                }\n",
    "                catch (Exception e) {\n",
    "                    Console.WriteLine(\"\\nZapisywanie się nie powiodło:\");\n",
    "                }\n",
    "                Console.WriteLine(\"\\nZapisano do pliku \\\"Kartoteka.json\\\"\");\n",
    "                return true;\n",
    "        }\n",
    "\n",
    "        public Kartoteka<T> Read(String fileName){\n",
    "            String jsonString = \"\";\n",
    "            try {\n",
    "                jsonString = File.ReadAllText(fileName);\n",
    "                Console.WriteLine(\"\\nWczytano plik {0}\", fileName);\n",
    "            }\n",
    "            catch (Exception e) {\n",
    "                Console.WriteLine(\"\\nWczytywanie się nie powiodło: {0}\", e.Message);\n",
    "            }\n",
    "            var kartoteka = new Kartoteka<T>();\n",
    "            kartoteka.baza = JsonSerializer.Deserialize<List<T>>(jsonString);\n",
    "            return kartoteka;\n",
    "        }\n",
    "\n",
    "    }  \n",
    "\n",
    "    public class TXTBuilder : IBuilder {\n",
    "\n",
    "        public bool Save(Kartoteka<T> kartoteka) {\n",
    "            try {\n",
    "                using (StreamWriter sw = new StreamWriter(\"Kartoteka.txt\")) {\n",
    "                    foreach (var pracownik in kartoteka.baza) {\n",
    "                        sw.WriteLine(pracownik.imie + \",\" + pracownik.nazwisko + \",\" + pracownik.wiek + \",\" + pracownik.stanowisko + \",\" + pracownik.plec);\n",
    "                    }\n",
    "                }\n",
    "            }\n",
    "            catch (Exception e) {\n",
    "                Console.WriteLine(\"\\nZapisywanie się nie powiodło: {0}\", e.Message);\n",
    "                return false;\n",
    "            }\n",
    "            Console.WriteLine(\"\\nZapisano do pliku \\\"Kartoteka.txt\\\"\");\n",
    "            return true;\n",
    "        } \n",
    "\n",
    "        public Kartoteka<T> Read(String fileName){\n",
    "            var baza = new List<T>();\n",
    "            try {\n",
    "                using (StreamReader sr = new StreamReader(fileName)) {\n",
    "                    string line;\n",
    "                    while ((line = sr.ReadLine()) != null) {\n",
    "                        var values = line.Split(',');\n",
    "                        if (values.Length != 5) continue;\n",
    "                        Pracownik pracownik = new Pracownik() {\n",
    "                            imie = values[0],\n",
    "                            nazwisko = values[1],\n",
    "                            wiek = Int32.Parse(values[2]),\n",
    "                            stanowisko = values[3],\n",
    "                            plec = values[4]\n",
    "                        };\n",
    "                        baza.Add((T)pracownik);\n",
    "                    }\n",
    "                }\n",
    "            }\n",
    "            catch (Exception e) {\n",
    "                Console.WriteLine(\"\\nWczytywanie się nie powiodło: {0}\", e.Message);\n",
    "            }\n",
    "            Console.WriteLine(\"\\nWczytano plik \\\"{0}\\\"\", fileName);\n",
    "            var kartoteka = new Kartoteka<T>();\n",
    "            kartoteka.baza = baza;\n",
    "            return kartoteka;\n",
    "        }\n",
    "\n",
    "    }\n",
    "\n",
    "    public class XMLBuilder : IBuilder {\n",
    "\n",
    "        //TODO: \n",
    "        public bool Save(Kartoteka<T> baza) {\n",
    "            try {\n",
    "                XmlSerializer serializer = new XmlSerializer(typeof(Kartoteka<T>));\n",
    "                using (StreamWriter sw = new StreamWriter(\"Kartoteka.xml\")) {\n",
    "                    serializer.Serialize(sw, baza);\n",
    "                }\n",
    "            }\n",
    "            catch (Exception e) {\n",
    "                Console.WriteLine(\"\\nZapisywanie się nie powiodło: {0}\", e.Message);\n",
    "                return false;\n",
    "            }\n",
    "            Console.WriteLine(\"\\nZapisano do pliku \\\"Kartoteka.xml\\\"\");\n",
    "            return true;\n",
    "        }\n",
    "\n",
    "\n",
    "        public Kartoteka<T> Read(String fileName) {\n",
    "            return new Kartoteka<T>();\n",
    "        }\n",
    "\n",
    "    }\n",
    "\n",
    "}\n",
    "\n",
    "//stworzenie kartoteki oraz sprawdzanie walidacji\n",
    "var kartoteka = new Kartoteka<Pracownik>();\n",
    "kartoteka.Dodaj(new Pracownik(){imie = \"Szymon\", nazwisko = \"Zielinski\", wiek = 21, stanowisko = \"Employee\", plec = \"m\"});\n",
    "kartoteka.Dodaj(new Pracownik(){imie = \"Patryk\", nazwisko = \"Pirog\", wiek = 23, stanowisko = \"Manager\", plec = \"m\"});\n",
    "kartoteka.Dodaj(new Pracownik(){imie = \"Patryk\", nazwisko = \"Pirog\", wiek = 23, stanowisko = \"Manager\", plec = \"m\"});\n",
    "kartoteka.Dodaj(new Pracownik(){imie = \"Jan\", nazwisko = \"Kowalski\", wiek = 28, stanowisko = \"Employee\", plec = \"m\"});\n",
    "kartoteka.Dodaj(new Pracownik(){imie = \"Krzysztof\", nazwisko =\"Nowak\"});\n",
    "\n",
    "Console.WriteLine(\"\\n KARTOTEKA:\");\n",
    "kartoteka.Wyswietl();\n",
    "\n",
    "// wyszukiwanie\n",
    "kartoteka.Szukaj(\"Szymon\");\n",
    "\n",
    "// operacje na json\n",
    "var jsonbuilder = new Kartoteka<Pracownik>.JSONBuilder();\n",
    "kartoteka.Save(jsonbuilder);\n",
    "Kartoteka<Pracownik> jsonpracownicy = jsonbuilder.Read(\"Kartoteka.json\");\n",
    "jsonpracownicy.Wyswietl();\n",
    "\n",
    "// operacje na txt\n",
    "var txtbuilder = new Kartoteka<Pracownik>.TXTBuilder();\n",
    "kartoteka.Save(txtbuilder);\n",
    "Kartoteka<Pracownik> txtpracownicy = txtbuilder.Read(\"Kartoteka.txt\");\n",
    "txtpracownicy.Wyswietl();\n",
    "\n",
    "// operacje na xml\n",
    "var xmlbuilder = new Kartoteka<Pracownik>.XMLBuilder();\n",
    "kartoteka.Save(xmlbuilder);\n",
    "\n"
   ]
  }
 ],
 "metadata": {
  "kernelspec": {
   "display_name": ".NET (C#)",
   "language": "C#",
   "name": ".net-csharp"
  },
  "polyglot_notebook": {
   "kernelInfo": {
    "defaultKernelName": "csharp",
    "items": [
     {
      "aliases": [
       "c#",
       "C#"
      ],
      "languageName": "C#",
      "name": "csharp"
     },
     {
      "aliases": [],
      "name": ".NET"
     },
     {
      "aliases": [
       "f#",
       "F#"
      ],
      "languageName": "F#",
      "name": "fsharp"
     },
     {
      "aliases": [],
      "languageName": "HTML",
      "name": "html"
     },
     {
      "aliases": [
       "js"
      ],
      "languageName": "JavaScript",
      "name": "javascript"
     },
     {
      "aliases": [],
      "languageName": "KQL",
      "name": "kql"
     },
     {
      "aliases": [],
      "languageName": "Mermaid",
      "name": "mermaid"
     },
     {
      "aliases": [
       "powershell"
      ],
      "languageName": "PowerShell",
      "name": "pwsh"
     },
     {
      "aliases": [],
      "languageName": "SQL",
      "name": "sql"
     },
     {
      "aliases": [],
      "name": "value"
     },
     {
      "aliases": [
       "frontend"
      ],
      "languageName": null,
      "name": "vscode"
     },
     {
      "aliases": [],
      "name": "webview"
     }
    ]
   }
  }
 },
 "nbformat": 4,
 "nbformat_minor": 2
}
